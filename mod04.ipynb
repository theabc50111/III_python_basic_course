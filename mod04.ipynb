{
 "cells": [
  {
   "cell_type": "markdown",
   "metadata": {},
   "source": [
    "#  <font color=red> Module_04_Python運算子&基本輸入輸出</font>"
   ]
  },
  {
   "cell_type": "markdown",
   "metadata": {},
   "source": [
    "# P4-5\n",
    "### 基本輸入裝置 : 鍵盤 keyboard\n",
    "### 基本輸出裝置 : 螢幕 monitor"
   ]
  },
  {
   "cell_type": "code",
   "execution_count": null,
   "metadata": {},
   "outputs": [],
   "source": [
    "print ('Python is simple,', 'enjoy!')\n",
    "print ('Python is simple,', 'enjoy!',end='$$$$$$$')\n",
    "print ('Python is simple,', 'enjoy!',sep='-------')"
   ]
  },
  {
   "cell_type": "markdown",
   "metadata": {},
   "source": [
    "---"
   ]
  },
  {
   "cell_type": "markdown",
   "metadata": {},
   "source": [
    "# P4-6\n",
    "### 由input()得到的資料一律為字串。"
   ]
  },
  {
   "cell_type": "code",
   "execution_count": null,
   "metadata": {},
   "outputs": [],
   "source": [
    "x = input('x = ')\n",
    "type(x)"
   ]
  },
  {
   "cell_type": "code",
   "execution_count": null,
   "metadata": {},
   "outputs": [],
   "source": [
    "x = input('x = ')\n",
    "print('x+5=',int(x)+5)\n",
    "print('x+5=',x+5)"
   ]
  },
  {
   "cell_type": "markdown",
   "metadata": {},
   "source": [
    "### eval()函數輸入必須是字串。"
   ]
  },
  {
   "cell_type": "code",
   "execution_count": null,
   "metadata": {},
   "outputs": [],
   "source": [
    "eval('5*30') "
   ]
  },
  {
   "cell_type": "code",
   "execution_count": null,
   "metadata": {},
   "outputs": [],
   "source": [
    "eval(5*30)  # TypeError : shall be string"
   ]
  },
  {
   "cell_type": "code",
   "execution_count": null,
   "metadata": {},
   "outputs": [],
   "source": [
    "a=200\n",
    "eval('a*5')"
   ]
  },
  {
   "cell_type": "code",
   "execution_count": null,
   "metadata": {},
   "outputs": [],
   "source": [
    "num= eval(input('input number (ex. 5*6 or 9/4):'))  # like 3*5\n",
    "num   # it is a number"
   ]
  },
  {
   "cell_type": "markdown",
   "metadata": {},
   "source": [
    "---"
   ]
  },
  {
   "cell_type": "markdown",
   "metadata": {},
   "source": [
    "# P4-1"
   ]
  },
  {
   "cell_type": "code",
   "execution_count": null,
   "metadata": {},
   "outputs": [],
   "source": [
    "x = 2\n",
    "print('x == 2 : ', x == 2) # 用逗號隔開要輸出的元素 print(a,b)\n",
    "print('x != 2 : ', x != 2)\n",
    "print('x < 5  : ', x < 5)\n",
    "print('x > 2  : ', x > 2)\n",
    "print('x <= 2 : ', x <= 2)\n",
    "print('x >= 2 : ', x >= 2)"
   ]
  },
  {
   "cell_type": "markdown",
   "metadata": {},
   "source": [
    "---"
   ]
  },
  {
   "cell_type": "markdown",
   "metadata": {},
   "source": [
    "# P4-2\n",
    ">### `4 <= 6 > 7`  : 這種寫法只有在Python中適用，其他語言是不通用的"
   ]
  },
  {
   "cell_type": "code",
   "execution_count": null,
   "metadata": {},
   "outputs": [],
   "source": [
    "print('4 <= 6 > 7 :       ', 4 <= 6 > 7)\n",
    "print('4 <= 6 and 6 > 7 : ', 4<= 6 and 6>7)  # 6 > 7 false"
   ]
  },
  {
   "cell_type": "code",
   "execution_count": null,
   "metadata": {},
   "outputs": [],
   "source": [
    "print('5 > 6 > 3 :        ', 5 > 6 > 3)\n",
    "print('8 > 6 > 3 :        ', 8 > 6 > 3)"
   ]
  },
  {
   "cell_type": "markdown",
   "metadata": {},
   "source": [
    "---"
   ]
  },
  {
   "cell_type": "markdown",
   "metadata": {},
   "source": [
    "# P4-3 \n",
    "## 真值表 (Truth Table)\n",
    "><img src=\"./img/truth_value.png\"  style='height:400px;'>"
   ]
  },
  {
   "cell_type": "code",
   "execution_count": null,
   "metadata": {},
   "outputs": [],
   "source": [
    "x = True\n",
    "y = False  \n",
    "print('not x :   ', not x)\n",
    "print('x and y : ', x and y)\n",
    "print('x or y :  ', x or y)"
   ]
  },
  {
   "cell_type": "markdown",
   "metadata": {},
   "source": [
    "---"
   ]
  },
  {
   "cell_type": "markdown",
   "metadata": {},
   "source": [
    "# P4-4"
   ]
  },
  {
   "cell_type": "markdown",
   "metadata": {},
   "source": [
    "### 在執行一連串運算的時候會從左至右運算\n",
    "><img src=\"./img/logic_operator_order.png\"  style='height:100px;'>"
   ]
  },
  {
   "cell_type": "markdown",
   "metadata": {},
   "source": [
    "## and 運算\n",
    "### eg.飛彈發射系統 &rArr; 所有高官要員直到最後一關的總統都要同意，才能發射\n",
    "><img src=\"./img/logic_operator_and.png\"  style='height:500px;'>"
   ]
  },
  {
   "cell_type": "code",
   "execution_count": null,
   "metadata": {},
   "outputs": [],
   "source": [
    "print(True and True and True and True and True and True and True and True) \n",
    "print(True and True and False and True and True and True and True and True) # False 後的就不需要再判斷了"
   ]
  },
  {
   "cell_type": "code",
   "execution_count": null,
   "metadata": {},
   "outputs": [],
   "source": [
    "# 可以推廣到廣義布林值\n",
    "print(1 and 2 and 3 and 4 and 5 and 6) \n",
    "print(1 and 2 and 0 and 4 and 5 and 6) # False 後的就不需要再判斷了"
   ]
  },
  {
   "cell_type": "markdown",
   "metadata": {},
   "source": [
    "## or 運算\n",
    "### eg.FB社團加入系統 &rArr; 所有的社員中只要有一個同意，就能讓新會員加入\n",
    "><img src=\"./img/logic_operator_or.png\"  style='height:500px;'>"
   ]
  },
  {
   "cell_type": "code",
   "execution_count": null,
   "metadata": {},
   "outputs": [],
   "source": [
    "print(False or False or False or False or False or False or False or False) \n",
    "print(False or False or True or False or False or False or False or False) # True後的就不需要再判斷了"
   ]
  },
  {
   "cell_type": "code",
   "execution_count": null,
   "metadata": {},
   "outputs": [],
   "source": [
    "# 可以推廣到廣義布林值\n",
    "print(0 or 0 or 0 or 0 or 0 or 0.0) \n",
    "print(0 or 0 or 1 or 0 or 0 or 0.0) # True後的就不需要再判斷了"
   ]
  },
  {
   "cell_type": "markdown",
   "metadata": {},
   "source": [
    "## and 運算的時候:\n",
    "- 當 and左邊 結果為True時，才會評估and右邊的數值，且<font color=red>and運算的結果由and右邊數值決定</font> \n",
    "- 當 and左邊 結果為False時，and右邊的數值就不需要去評估了，<font color=red>而and運算的結果就是False</font>\n",
    "><img src=\"./img/logic_and_quick.png\"  style='height:300px;'>"
   ]
  },
  {
   "cell_type": "code",
   "execution_count": null,
   "metadata": {},
   "outputs": [],
   "source": [
    "# 若 and左邊 為 Ture =>代表and運算的結果將由and右邊的數值決定!!\n",
    "print('True and 6 :', True and 6) # 如果and右邊的數值是True(廣義True)那and運算的結果就是True(廣義)\n",
    "print('True and 0 :', True and 0) # 如果and右邊的數值是False(廣義False)那and運算的結果就是False(廣義)\n",
    "\n",
    "print('False and 6 :', False and 6) # 若 and左邊 為 False =>代表and運算的結果就是False，也不需要再另外運算and右邊數值了"
   ]
  },
  {
   "cell_type": "code",
   "execution_count": null,
   "metadata": {},
   "outputs": [],
   "source": [
    "print('5 and 6 :', 5 and 6) \n",
    "print('5 and 0 :', 5 and 0)\n",
    "print('0 and 6 :', 0 and 6)\n",
    "print('0 and 0.0 :', 0 and 0.0)"
   ]
  },
  {
   "cell_type": "markdown",
   "metadata": {},
   "source": [
    "## or 運算的時候:\n",
    "- 當 or左邊 結果為False時，才會評估or右邊的值，且<font color=red>or運算的結果由or右邊的值決定</font>  \n",
    "- 當 or左邊 結果為True時，or右邊的值就不需要評估了，而<font color=red>or運算的結果就是True</font>  \n",
    "><img src=\"./img/logic_or_quick.png\"  style='height:300px;'>"
   ]
  },
  {
   "cell_type": "code",
   "execution_count": null,
   "metadata": {},
   "outputs": [],
   "source": [
    "# 若 or左邊 為 False =>代表or運算的結果將由or的右邊數值決定!!\n",
    "print('False or 6  :', False or 6) # 如果or的右邊是True(廣義True)那or運算的結果值就是True(廣義)\n",
    "print('False or 0  :', False or 0) # 如果or的右邊是False(廣義False)那or運算的結果就是False(廣義)\n",
    "\n",
    "print('True or 6  :', True or 6) # 若 or左邊 為 Ture =>代表or運算的結果就是True，也不需要再另外運算or右邊的數值了"
   ]
  },
  {
   "cell_type": "code",
   "execution_count": null,
   "metadata": {},
   "outputs": [],
   "source": [
    "print('5 or 6  :', 5 or 6)  \n",
    "print('5 or 0  :', 5 or 0)  \n",
    "print('0 or 5  :', 0 or 5)  \n",
    "print('0 or 0.0  :', 0 or 0.0)  "
   ]
  },
  {
   "cell_type": "markdown",
   "metadata": {},
   "source": [
    "---"
   ]
  },
  {
   "cell_type": "markdown",
   "metadata": {},
   "source": [
    "# &spades; 補充 "
   ]
  },
  {
   "cell_type": "markdown",
   "metadata": {},
   "source": [
    "### 範例: 融合<font color=red>運算子優先順序</font>與<font color=green>運算子以數學形式表達</font>的概念"
   ]
  },
  {
   "cell_type": "code",
   "execution_count": null,
   "metadata": {},
   "outputs": [],
   "source": [
    "a, b = 0, 9\n",
    "print('a is not b & a < b : ', a is not b & a < b) # 相當於((a is not (b & a)) and ((b & a) < b))\n",
    "print('a is not b & a > b : ', a is not b & a > b) # 相當於((a is not (b & a)) and ((b & a) > b))"
   ]
  }
 ],
 "metadata": {
  "kernelspec": {
   "display_name": "Python 3",
   "language": "python",
   "name": "python3"
  },
  "language_info": {
   "codemirror_mode": {
    "name": "ipython",
    "version": 3
   },
   "file_extension": ".py",
   "mimetype": "text/x-python",
   "name": "python",
   "nbconvert_exporter": "python",
   "pygments_lexer": "ipython3",
   "version": "3.6.9"
  }
 },
 "nbformat": 4,
 "nbformat_minor": 2
}
