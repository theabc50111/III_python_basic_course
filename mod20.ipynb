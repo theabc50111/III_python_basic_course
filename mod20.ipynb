{
 "cells": [
  {
   "cell_type": "markdown",
   "metadata": {},
   "source": [
    "# iterator"
   ]
  },
  {
   "cell_type": "code",
   "execution_count": null,
   "metadata": {},
   "outputs": [],
   "source": [
    "a = (1,2,3,4)\n",
    "# a = {\"A\":1,\"B\":2,\"C\":3,\"D\":4} # also applies to a dict\n",
    "b = iter(a)\n",
    "print(b)\n",
    "print(next(b))\n",
    "print(next(b))\n",
    "print(\"---------------------In for loop---------------------\")\n",
    "for i in b :\n",
    "    print(i)"
   ]
  },
  {
   "cell_type": "code",
   "execution_count": null,
   "metadata": {},
   "outputs": [],
   "source": [
    "class Fibonacci():\n",
    "    def __init__(self):\n",
    "        self.a, self.b = (0, 1)\n",
    "    def __iter__(self):\n",
    "        return self\n",
    "    def __next__(self):\n",
    "        result = self.a\n",
    "        self.a, self.b = self.b, self.a + self.b\n",
    "        if result <100:\n",
    "            return result\n",
    "        else:\n",
    "            raise StopIteration\n",
    "\n",
    "fibos = Fibonacci()\n",
    "print(next(fibos)) #=> 0\n",
    "print(next(fibos)) #=> 1\n",
    "print(next(fibos)) #=> 1\n",
    "print(next(fibos)) #=> 2\n",
    "print(\"---------------------In for loop---------------------\")\n",
    "for i in fibos:\n",
    "    print(i)"
   ]
  },
  {
   "cell_type": "code",
   "execution_count": 1,
   "metadata": {},
   "outputs": [
    {
     "name": "stdout",
     "output_type": "stream",
     "text": [
      "0\n",
      "1\n",
      "1\n",
      "2\n",
      "---------------------In for loop---------------------\n",
      "3\n",
      "5\n",
      "8\n",
      "13\n",
      "21\n",
      "34\n",
      "55\n",
      "89\n"
     ]
    }
   ],
   "source": [
    "%run ./mod20/ex20_1.py # can run it in vscode and using debug function"
   ]
  },
  {
   "cell_type": "markdown",
   "metadata": {},
   "source": [
    "# generator"
   ]
  },
  {
   "cell_type": "markdown",
   "metadata": {},
   "source": [
    "### preface: 如何在使用for loop取值時可以得到跟下列一樣結果，但是又要令`my_iterator`可以重複被使用"
   ]
  },
  {
   "cell_type": "code",
   "execution_count": null,
   "metadata": {},
   "outputs": [],
   "source": [
    "class MyIterator:\n",
    "    def __init__(self, max_num):\n",
    "        self.max_num = max_num\n",
    "        self.index = 0\n",
    "\n",
    "    def __iter__(self):\n",
    "        return self\n",
    "        \n",
    "    def __next__(self):\n",
    "        self.index += 1\n",
    "        if self.index < self.max_num:\n",
    "            return self.index\n",
    "        else:\n",
    "            raise StopIteration\n",
    "        \n",
    "my_iterator = MyIterator(3)\n",
    "for item in my_iterator:\n",
    "    print(item)\n",
    "print(\"-------------------------my_iterator return nothing-------------------------\")\n",
    "for item in my_iterator:\n",
    "    print(item)"
   ]
  },
  {
   "cell_type": "markdown",
   "metadata": {},
   "source": [
    "### yield & generator"
   ]
  },
  {
   "cell_type": "code",
   "execution_count": null,
   "metadata": {},
   "outputs": [],
   "source": [
    "a = (x for x in [1,2,3])\n",
    "print(type(a))\n",
    "print(next(a))\n",
    "print(next(a))\n",
    "print(next(a))"
   ]
  },
  {
   "cell_type": "code",
   "execution_count": null,
   "metadata": {},
   "outputs": [],
   "source": [
    "def generator():\n",
    "    print('before')\n",
    "    yield 10            # break 1\n",
    "    print('middle')\n",
    "    yield 20           # break 2\n",
    "    print('after')\n",
    "\n",
    "x = generator()\n",
    "print(x)\n",
    "print(next(x))\n",
    "print(next(x))\n",
    "print(next(x))"
   ]
  },
  {
   "cell_type": "code",
   "execution_count": null,
   "metadata": {},
   "outputs": [],
   "source": [
    "class Mygenerator:\n",
    "    def __init__(self):\n",
    "        pass\n",
    "\n",
    "    def __iter__(self):\n",
    "        print('before')\n",
    "        yield 10            # break 1\n",
    "        print('middle')\n",
    "        yield 20           # break 2\n",
    "        print('after')\n",
    "        \n",
    "        \n",
    "x = Mygenerator()\n",
    "print(x.__iter__())\n",
    "for i in x:\n",
    "    print(i)"
   ]
  },
  {
   "cell_type": "code",
   "execution_count": null,
   "metadata": {},
   "outputs": [],
   "source": [
    "class Mygenerator:\n",
    "    def __init__(self, max_num):\n",
    "        self.max_num = max_num\n",
    "\n",
    "    def __iter__(self):\n",
    "        num = 1\n",
    "        while num <= self.max_num:\n",
    "            yield num\n",
    "            num += 1\n",
    "\n",
    "my_generator = Mygenerator(3)\n",
    "\n",
    "print(my_generator.__iter__())\n",
    "\n",
    "for item in my_generator:\n",
    "    print(item)\n",
    "print(\"-------------------------my_generator would start over again-------------------------\")\n",
    "for item in my_generator:\n",
    "    print(item)"
   ]
  },
  {
   "cell_type": "markdown",
   "metadata": {},
   "source": [
    "# enumerate"
   ]
  },
  {
   "cell_type": "code",
   "execution_count": null,
   "metadata": {},
   "outputs": [],
   "source": [
    "seasons = ['Spring', 'Summer', 'Fall', 'Winter']\n",
    "\n",
    "print(dict(enumerate(seasons)))\n",
    "print(list(enumerate(seasons)))ff\n",
    "print(list(enumerate(seasons, start=1)))"
   ]
  },
  {
   "cell_type": "code",
   "execution_count": null,
   "metadata": {},
   "outputs": [],
   "source": [
    "li1 = list(\"abcdefg\")\n",
    "a = enumerate(li1)\n",
    "print(a)\n",
    "for i,v in a:\n",
    "    print(i,v)\n",
    "print(\"-------------------------enumerate won't start over again-------------------------\")\n",
    "for i,v in a:\n",
    "    print(i,v) # enumerate is a iterator"
   ]
  },
  {
   "cell_type": "markdown",
   "metadata": {},
   "source": [
    "---"
   ]
  },
  {
   "cell_type": "markdown",
   "metadata": {},
   "source": [
    "# &spades; 補充"
   ]
  },
  {
   "cell_type": "markdown",
   "metadata": {},
   "source": [
    "### 如果\\_\\_iter\\_\\_() 的回傳值是一個iterator，則呼叫iter() 會得到\\_\\_iter\\_\\_() 的回傳值"
   ]
  },
  {
   "cell_type": "code",
   "execution_count": null,
   "metadata": {},
   "outputs": [],
   "source": [
    "class A():\n",
    "    def __iter__(self):\n",
    "        result = map(lambda x:x+100, [1,2,3])\n",
    "        return result\n",
    "a = A()\n",
    "print(a.__iter__())\n",
    "print(iter(a))\n",
    "\n",
    "class B():\n",
    "    def __iter__(self):\n",
    "        return 10\n",
    "b = B()\n",
    "print(b.__iter__())\n",
    "print(iter(b))"
   ]
  },
  {
   "cell_type": "markdown",
   "metadata": {},
   "source": [
    "<details>\n",
    "    <summary>for loop 會先看__iter__()，而next() 會直接看__next__()</summary>\n",
    "    <img src=\"./img/forloop_iter.png\">\n",
    "</details>"
   ]
  },
  {
   "cell_type": "code",
   "execution_count": null,
   "metadata": {},
   "outputs": [],
   "source": [
    "class Fibonacci():\n",
    "    def __init__(self):\n",
    "        self.a, self.b = (0, 1)\n",
    "    def __iter__(self):\n",
    "        result = map(lambda x:x+self.b, [100,200,300])\n",
    "        return result # instead of self, we use map() as return value of __iter__ \n",
    "    def __next__(self):\n",
    "        result = self.a\n",
    "        self.a, self.b = self.b, self.a + self.b\n",
    "        if result <100:\n",
    "            return result\n",
    "        else:\n",
    "            raise StopIteration\n",
    "\n",
    "fibos = Fibonacci()\n",
    "print(next(fibos)) #=> 0\n",
    "print(next(fibos)) #=> 1\n",
    "print(next(fibos)) #=> 1\n",
    "print(next(fibos)) #=> 2\n",
    "print(f\"---------------------------------{iter(fibos)}---------------------------------\") \n",
    "for i in fibos:\n",
    "    print(i)"
   ]
  },
  {
   "cell_type": "markdown",
   "metadata": {},
   "source": [
    "### iterator物件的內容，可以使用`list()`一次性全部取出"
   ]
  },
  {
   "cell_type": "code",
   "execution_count": null,
   "metadata": {},
   "outputs": [],
   "source": [
    "class Fibonacci():\n",
    "    def __init__(self):\n",
    "        self.a, self.b = (0, 1)\n",
    "    def __iter__(self):\n",
    "        return self\n",
    "    def __next__(self):\n",
    "        result = self.a\n",
    "        self.a, self.b = self.b, self.a + self.b\n",
    "        if result <100:\n",
    "            return result\n",
    "        else:\n",
    "            raise StopIteration\n",
    "\n",
    "fibos = Fibonacci()\n",
    "print(list(fibos))"
   ]
  }
 ],
 "metadata": {
  "kernelspec": {
   "display_name": "Python 3",
   "language": "python",
   "name": "python3"
  },
  "language_info": {
   "codemirror_mode": {
    "name": "ipython",
    "version": 3
   },
   "file_extension": ".py",
   "mimetype": "text/x-python",
   "name": "python",
   "nbconvert_exporter": "python",
   "pygments_lexer": "ipython3",
   "version": "3.8.5"
  }
 },
 "nbformat": 4,
 "nbformat_minor": 2
}
