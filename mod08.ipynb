{
 "cells": [
  {
   "cell_type": "markdown",
   "metadata": {},
   "source": [
    "#  <font color=red> Module_08_程式的流程控制-迴圈</font>"
   ]
  },
  {
   "cell_type": "markdown",
   "metadata": {},
   "source": [
    "# P8-4"
   ]
  },
  {
   "cell_type": "code",
   "execution_count": 1,
   "metadata": {},
   "outputs": [
    {
     "name": "stdout",
     "output_type": "stream",
     "text": [
      "count is: 0\n",
      "count is: 1\n",
      "count is: 2\n",
      "count is: 3\n",
      "count is: 4\n",
      "count is: 5\n",
      "count is: 6\n",
      "count is: 7\n",
      "count is: 8\n",
      "Finished!\n"
     ]
    }
   ],
   "source": [
    "count = 0\n",
    "while count < 9:\n",
    "    print('count is:', count)\n",
    "    count = count +1 # equal to count += 1\n",
    "print('Finished!')"
   ]
  },
  {
   "cell_type": "code",
   "execution_count": 2,
   "metadata": {},
   "outputs": [
    {
     "name": "stdout",
     "output_type": "stream",
     "text": [
      "Input factorial: 5\n",
      "5! = 120\n"
     ]
    }
   ],
   "source": [
    "# while stmt\n",
    "m = int(input('Input factorial: '))\n",
    "r = n = 1\n",
    "\n",
    "while n <= m:\n",
    "    r = r*n # equal to r *= n\n",
    "    n = n+1 # equal to n += 1\n",
    "\n",
    "print(f'{m}! = {r}')"
   ]
  },
  {
   "cell_type": "markdown",
   "metadata": {},
   "source": [
    "---"
   ]
  },
  {
   "cell_type": "markdown",
   "metadata": {},
   "source": [
    "# P8-8 \n",
    "### range(start, stop[, step])"
   ]
  },
  {
   "cell_type": "code",
   "execution_count": 3,
   "metadata": {},
   "outputs": [
    {
     "name": "stdout",
     "output_type": "stream",
     "text": [
      "[0, 1, 2, 3, 4, 5, 6, 7, 8, 9]\n",
      "range(0, 10)\n"
     ]
    }
   ],
   "source": [
    "print(list(range(10))) # lazy evaluation\n",
    "print(range(10))"
   ]
  },
  {
   "cell_type": "code",
   "execution_count": 4,
   "metadata": {},
   "outputs": [
    {
     "name": "stdout",
     "output_type": "stream",
     "text": [
      "[0, 1, 2, 3, 4, 5, 6, 7, 8, 9]\n",
      "[5, 6, 7, 8, 9]\n",
      "[2, 4, 6, 8]\n"
     ]
    }
   ],
   "source": [
    "print(list(range(10)))\n",
    "print(list(range(5,10)))\n",
    "print(list(range(2,10,2)))"
   ]
  },
  {
   "cell_type": "markdown",
   "metadata": {},
   "source": [
    "---"
   ]
  },
  {
   "cell_type": "markdown",
   "metadata": {},
   "source": [
    "# P8-5\n",
    "## 常見 迭代(iterable) 物件\n",
    ">### string\n",
    ">### List\n",
    ">### Tuple\n",
    ">### Dictionary\n",
    ">### Set\n",
    ">### range()\n",
    ">### enumerate()"
   ]
  },
  {
   "cell_type": "code",
   "execution_count": 5,
   "metadata": {},
   "outputs": [
    {
     "name": "stdout",
     "output_type": "stream",
     "text": [
      "1\n",
      "2\n",
      "3\n",
      "4\n",
      "5\n"
     ]
    }
   ],
   "source": [
    "for var in [1, 2, 3, 4, 5]:\n",
    "    print(var)"
   ]
  },
  {
   "cell_type": "code",
   "execution_count": 6,
   "metadata": {},
   "outputs": [
    {
     "name": "stdout",
     "output_type": "stream",
     "text": [
      "range(5) = 0 1 2 3 4 "
     ]
    }
   ],
   "source": [
    "# for stmt with range()\n",
    "print('range(5) =', end=' ')\n",
    "for i in range(5):\n",
    "    print(i, end=' ')"
   ]
  },
  {
   "cell_type": "code",
   "execution_count": 7,
   "metadata": {},
   "outputs": [
    {
     "name": "stdout",
     "output_type": "stream",
     "text": [
      "Input a value: 10\n",
      "sum = 55\n"
     ]
    }
   ],
   "source": [
    "# for stmt\n",
    "m = int(input('Input a value: '))\n",
    "\n",
    "s = 0\n",
    "for i in range(1, m+1):\n",
    "    s=s+i # equal to s += i\n",
    "\n",
    "print('sum =',s)"
   ]
  },
  {
   "cell_type": "markdown",
   "metadata": {},
   "source": [
    "---"
   ]
  },
  {
   "cell_type": "markdown",
   "metadata": {},
   "source": [
    "# P8-7"
   ]
  },
  {
   "cell_type": "code",
   "execution_count": 8,
   "metadata": {},
   "outputs": [
    {
     "name": "stdout",
     "output_type": "stream",
     "text": [
      "1 2 3 4 5 6 7 8 9 \n",
      "2 4 6 8 10 12 14 16 18 \n",
      "3 6 9 12 15 18 21 24 27 \n",
      "4 8 12 16 20 24 28 32 36 \n",
      "5 10 15 20 25 30 35 40 45 \n",
      "6 12 18 24 30 36 42 48 54 \n",
      "7 14 21 28 35 42 49 56 63 \n",
      "8 16 24 32 40 48 56 64 72 \n",
      "9 18 27 36 45 54 63 72 81 \n"
     ]
    }
   ],
   "source": [
    "for i in range(1,10):\n",
    "    for j in range(1,10):\n",
    "        x = i * j\n",
    "        print(x, end=' ')\n",
    "    print()"
   ]
  },
  {
   "cell_type": "code",
   "execution_count": 9,
   "metadata": {},
   "outputs": [
    {
     "name": "stdout",
     "output_type": "stream",
     "text": [
      "1 * 1 =  1,  1 * 2 =  2,  1 * 3 =  3,  1 * 4 =  4,  1 * 5 =  5,  1 * 6 =  6,  1 * 7 =  7,  1 * 8 =  8,  1 * 9 =  9,  \n",
      "2 * 1 =  2,  2 * 2 =  4,  2 * 3 =  6,  2 * 4 =  8,  2 * 5 = 10,  2 * 6 = 12,  2 * 7 = 14,  2 * 8 = 16,  2 * 9 = 18,  \n",
      "3 * 1 =  3,  3 * 2 =  6,  3 * 3 =  9,  3 * 4 = 12,  3 * 5 = 15,  3 * 6 = 18,  3 * 7 = 21,  3 * 8 = 24,  3 * 9 = 27,  \n",
      "4 * 1 =  4,  4 * 2 =  8,  4 * 3 = 12,  4 * 4 = 16,  4 * 5 = 20,  4 * 6 = 24,  4 * 7 = 28,  4 * 8 = 32,  4 * 9 = 36,  \n",
      "5 * 1 =  5,  5 * 2 = 10,  5 * 3 = 15,  5 * 4 = 20,  5 * 5 = 25,  5 * 6 = 30,  5 * 7 = 35,  5 * 8 = 40,  5 * 9 = 45,  \n",
      "6 * 1 =  6,  6 * 2 = 12,  6 * 3 = 18,  6 * 4 = 24,  6 * 5 = 30,  6 * 6 = 36,  6 * 7 = 42,  6 * 8 = 48,  6 * 9 = 54,  \n",
      "7 * 1 =  7,  7 * 2 = 14,  7 * 3 = 21,  7 * 4 = 28,  7 * 5 = 35,  7 * 6 = 42,  7 * 7 = 49,  7 * 8 = 56,  7 * 9 = 63,  \n",
      "8 * 1 =  8,  8 * 2 = 16,  8 * 3 = 24,  8 * 4 = 32,  8 * 5 = 40,  8 * 6 = 48,  8 * 7 = 56,  8 * 8 = 64,  8 * 9 = 72,  \n",
      "9 * 1 =  9,  9 * 2 = 18,  9 * 3 = 27,  9 * 4 = 36,  9 * 5 = 45,  9 * 6 = 54,  9 * 7 = 63,  9 * 8 = 72,  9 * 9 = 81,  \n"
     ]
    }
   ],
   "source": [
    "for i in range(1,10):\n",
    "    for j in range(1,10):\n",
    "        print(f'{i:1} * {j:1} = {i*j:2}', end=',  ')\n",
    "\n",
    "    print() # 當作換行使用"
   ]
  },
  {
   "cell_type": "markdown",
   "metadata": {},
   "source": [
    "---"
   ]
  },
  {
   "cell_type": "markdown",
   "metadata": {},
   "source": [
    "# P8-12"
   ]
  },
  {
   "cell_type": "code",
   "execution_count": 10,
   "metadata": {},
   "outputs": [
    {
     "name": "stdout",
     "output_type": "stream",
     "text": [
      "1\n",
      "2\n",
      "3\n",
      "4\n",
      "5\n"
     ]
    }
   ],
   "source": [
    "# whie with break stmt\n",
    "i = 1\n",
    "while True:\n",
    "    print(i)\n",
    "    i = i + 1\n",
    "    if i > 5:\n",
    "        break"
   ]
  },
  {
   "cell_type": "code",
   "execution_count": 11,
   "metadata": {},
   "outputs": [
    {
     "name": "stdout",
     "output_type": "stream",
     "text": [
      "2 4 6 "
     ]
    }
   ],
   "source": [
    "# continue stmt\n",
    "for i in range (1, 7):\n",
    "    if i % 2 == 1:\n",
    "        continue\n",
    "    print(i, end=' ')"
   ]
  },
  {
   "cell_type": "code",
   "execution_count": 12,
   "metadata": {},
   "outputs": [
    {
     "name": "stdout",
     "output_type": "stream",
     "text": [
      "2070\n"
     ]
    }
   ],
   "source": [
    "count = 1\n",
    "while True:\n",
    "    if count%9==0:\n",
    "        if count%10==0:\n",
    "            if count%23==0:\n",
    "                print(count)\n",
    "                break\n",
    "    count+=1"
   ]
  },
  {
   "cell_type": "code",
   "execution_count": 13,
   "metadata": {},
   "outputs": [
    {
     "name": "stdout",
     "output_type": "stream",
     "text": [
      "1 * 1 =  1,   1 * 2 =  2,   1 * 3 =  3,   1 * 4 =  4,   1 * 5 =  5,   1 * 6 =  6,   1 * 7 =  7,   1 * 8 =  8,   1 * 9 =  9,   \n",
      "2 * 1 =  2,   2 * 2 =  4,   2 * 3 =  6,   2 * 4 =  8,   2 * 5 = 10,   2 * 6 = 12,   2 * 7 = 14,   2 * 8 = 16,   2 * 9 = 18,   \n",
      "3 * 1 =  3,   3 * 2 =  6,   3 * 3 =  9,   3 * 4 = 12,   \n",
      "4 * 1 =  4,   4 * 2 =  8,   4 * 3 = 12,   4 * 4 = 16,   4 * 5 = 20,   4 * 6 = 24,   4 * 8 = 32,   4 * 9 = 36,   \n",
      "5 * 1 =  5,   5 * 2 = 10,   \n",
      "6 * 1 =  6,   6 * 2 = 12,   6 * 3 = 18,   6 * 4 = 24,   6 * 5 = 30,   6 * 6 = 36,   6 * 7 = 42,   6 * 8 = 48,   6 * 9 = 54,   \n",
      "7 * 1 =  7,   7 * 2 = 14,   7 * 3 = 21,   7 * 5 = 35,   7 * 6 = 42,   7 * 7 = 49,   7 * 8 = 56,   7 * 9 = 63,   \n",
      "8 * 1 =  8,   8 * 2 = 16,   8 * 3 = 24,   8 * 4 = 32,   8 * 5 = 40,   8 * 6 = 48,   8 * 7 = 56,   8 * 8 = 64,   8 * 9 = 72,   \n",
      "9 * 1 =  9,   9 * 2 = 18,   9 * 3 = 27,   9 * 4 = 36,   9 * 5 = 45,   9 * 6 = 54,   9 * 7 = 63,   9 * 8 = 72,   9 * 9 = 81,   \n"
     ]
    }
   ],
   "source": [
    "for i in range(1,10):\n",
    "    for j in range(1,10):\n",
    "        if i*j==15:\n",
    "            break\n",
    "        elif i*j==28:\n",
    "            continue\n",
    "        print(f'{i:1} * {j:1} = {i*j:2}', end=',   ')\n",
    "    print('')"
   ]
  },
  {
   "cell_type": "markdown",
   "metadata": {},
   "source": [
    "---"
   ]
  },
  {
   "cell_type": "markdown",
   "metadata": {},
   "source": [
    "# P8-14"
   ]
  },
  {
   "cell_type": "code",
   "execution_count": 14,
   "metadata": {},
   "outputs": [
    {
     "name": "stdout",
     "output_type": "stream",
     "text": [
      "31\n",
      "57\n",
      "75\n",
      "85\n",
      "27\n",
      "93\n",
      "63\n",
      "19\n",
      "無 偶數存在\n"
     ]
    }
   ],
   "source": [
    "numbers = [31, 57, 75, 85, 27, 93, 63, 19]\n",
    "for num in numbers:\n",
    "    if num%2 == 0:\n",
    "        print('有 偶數存在', num)\n",
    "        break\n",
    "    print(num)\n",
    "else:\n",
    "    print('無 偶數存在')"
   ]
  },
  {
   "cell_type": "markdown",
   "metadata": {},
   "source": [
    "---"
   ]
  },
  {
   "cell_type": "markdown",
   "metadata": {},
   "source": [
    "# &spades;補充 : 透過搭配 else 與迴圈可以節省一些 flag 的使用。"
   ]
  },
  {
   "cell_type": "markdown",
   "metadata": {},
   "source": [
    "### for 搭配 else"
   ]
  },
  {
   "cell_type": "code",
   "execution_count": 15,
   "metadata": {},
   "outputs": [
    {
     "data": {
      "text/plain": [
       "[2, 3, 4, 5, 6]"
      ]
     },
     "execution_count": 15,
     "metadata": {},
     "output_type": "execute_result"
    }
   ],
   "source": [
    "list(range(2,7))"
   ]
  },
  {
   "cell_type": "code",
   "execution_count": 16,
   "metadata": {},
   "outputs": [
    {
     "name": "stdout",
     "output_type": "stream",
     "text": [
      "2 3 5 7 11 13 17 19 23 29 31 37 41 43 47 53 59 61 67 71 73 79 83 89 97 "
     ]
    }
   ],
   "source": [
    "for i in range(2,100):\n",
    "    for j in range(2,i):\n",
    "        if i%j==0:\n",
    "            break\n",
    "    else:               \n",
    "        print(i,end=' ')"
   ]
  },
  {
   "cell_type": "markdown",
   "metadata": {},
   "source": [
    "### 不使用else 改用flag的概念"
   ]
  },
  {
   "cell_type": "code",
   "execution_count": 17,
   "metadata": {},
   "outputs": [
    {
     "name": "stdout",
     "output_type": "stream",
     "text": [
      "2 3 5 7 11 13 17 19 23 29 31 37 41 43 47 53 59 61 67 71 73 79 83 89 97 "
     ]
    }
   ],
   "source": [
    "is_Prime = False # is_prime就是flag\n",
    "for i in range(2,100):\n",
    "    if is_Prime:\n",
    "        print(i-1,end=' ')\n",
    "    for j in range(1,i):\n",
    "        if i%j==0 and j!=1:\n",
    "            is_Prime = False\n",
    "            break\n",
    "        is_Prime = True"
   ]
  },
  {
   "cell_type": "markdown",
   "metadata": {},
   "source": [
    "### corelab解答"
   ]
  },
  {
   "cell_type": "code",
   "execution_count": 18,
   "metadata": {},
   "outputs": [
    {
     "name": "stdout",
     "output_type": "stream",
     "text": [
      "84\n"
     ]
    }
   ],
   "source": [
    "# 年利率5%，則每個月的利率為5%/12=0.4167%\n",
    "# 1萬元放在銀行，本金加利率總額為 10000*(1+0.05/12)=10041.67元\n",
    "total=0\n",
    "i=0\n",
    "while total < 1e6:\n",
    "    total = total * 1.004167\n",
    "    total = total + 1e4\n",
    "    i += 1\n",
    "\n",
    "print(i)"
   ]
  }
 ],
 "metadata": {
  "kernelspec": {
   "display_name": "Python 3",
   "language": "python",
   "name": "python3"
  },
  "language_info": {
   "codemirror_mode": {
    "name": "ipython",
    "version": 3
   },
   "file_extension": ".py",
   "mimetype": "text/x-python",
   "name": "python",
   "nbconvert_exporter": "python",
   "pygments_lexer": "ipython3",
   "version": "3.8.5"
  }
 },
 "nbformat": 4,
 "nbformat_minor": 2
}
