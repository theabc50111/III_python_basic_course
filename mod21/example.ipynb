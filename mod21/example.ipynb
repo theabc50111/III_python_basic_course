{
 "cells": [
  {
   "cell_type": "markdown",
   "metadata": {},
   "source": [
    "# Datetime"
   ]
  },
  {
   "cell_type": "code",
   "execution_count": 1,
   "metadata": {},
   "outputs": [
    {
     "name": "stdout",
     "output_type": "stream",
     "text": [
      "2020-11-13 09:14:02.774162\n"
     ]
    }
   ],
   "source": [
    "from datetime import datetime as dt\n",
    "print(dt.now())"
   ]
  },
  {
   "cell_type": "code",
   "execution_count": 1,
   "metadata": {},
   "outputs": [
    {
     "name": "stdout",
     "output_type": "stream",
     "text": [
      "2020-11-25 09:31:42\n"
     ]
    }
   ],
   "source": [
    "import datetime\n",
    "datetime_dt = datetime.datetime.today()# 獲得當地時間\n",
    "datetime_str = datetime_dt.strftime(\"%Y-%m-%d %H:%M:%S\")  # 格式化日期\n",
    "print(datetime_str)"
   ]
  },
  {
   "cell_type": "code",
   "execution_count": 2,
   "metadata": {},
   "outputs": [
    {
     "name": "stdout",
     "output_type": "stream",
     "text": [
      "2020/11/25 12:32:00\n"
     ]
    }
   ],
   "source": [
    "import datetime\n",
    "\n",
    "datetime_dt = datetime.datetime.today() # 獲得當地時間\n",
    "time_delta = datetime.timedelta(hours=3) #時差\n",
    "new_dt = datetime_dt + time_delta #本地時間加3小時\n",
    "datetime_format = new_dt.strftime(\"%Y/%m/%d %H:%M:%S\")  # 格式化日期(最小單位到秒)\n",
    "print(datetime_format)"
   ]
  },
  {
   "cell_type": "code",
   "execution_count": 4,
   "metadata": {},
   "outputs": [
    {
     "name": "stdout",
     "output_type": "stream",
     "text": [
      "現在是 2020年 10月 26日\n"
     ]
    }
   ],
   "source": [
    "import datetime\n",
    "\n",
    "datetime_dt = datetime.datetime.today() # 獲得當地時間\n",
    "dt = datetime_dt.date() # 最小日期顯示到日\n",
    "print(\"現在是 {}年 {}月 {}日\".format(dt.year, dt.month, dt.day))"
   ]
  },
  {
   "cell_type": "code",
   "execution_count": 7,
   "metadata": {},
   "outputs": [
    {
     "name": "stdout",
     "output_type": "stream",
     "text": [
      "test test test test test test test test test test test test test test test test test test test test test test test test test test test test test test test test test test test test test test test test test test test test test test test test test test test test test test test test test test test test test test test test test test test test test test test test test test test test test test test test test test test test test test test test test test test test test test test test test test test test test test test test test test test test test test test test test test test test test test test test test test test test test test test test test test test test test test test test test test test test test test test test test test test test test test test test test test test test test test test test test test test test test test test test test test test test test test test test test test test test test test test test test test test test test test test test test test test test test test test test test test test test test test test test test test test test test test test test test test test test test test test test test test test test test test test test test test test test test test test test test test test test test test test test test test test test test test test test test test test test test test test test test test test test test test test test test test test test test test test test test test test test test test test test test test test test test test test test test test test test test test test test test test test test test test test test test test test test test test test test test test test test test test test test test test test test test test test test test test test test test test test test test test test test test test test test test test test test test test test test test test test test test test test test test test test test test test test test test test test test test test test test test test test test test test test test test test test test test test test test test test test test test test test test test test test test test test test test test test test test test test test test test test test test test test test test test test test test test test test test test test test test test test test test test test test test test test test test test test test test test test test test test test test test test test test test test test test test test test test test test test test test test test test test test test test test test test test test test test test test test test test test test test test test test test test test test test test test test test test test test test test test test test test test test test test test test test test test test test test test test test test test test test test test test test test test test test test test test test test test test test test test test test test test test test test test test test test test test test test test test test test test test test test test test test test test test test test test test test test test test test test test test test test test test test test test test test test test test test test test test test test test test test test test test test test test test test test test test test test test test test test test test test test test test test test test test test test test test test test test test test test test test test test test test test test test test test test test test test test test test test test test test test test test test test test test test test test test test test test test test test test test test test test test test test test test test test test test test test test test test test test test test test test test test test test test test test test test test test test test test test test test test test test test test test test test test test test test test test test test test test test test test test test test test test test test test test test test test test test test test test test test test test test test test test test test test test test test test test test test test test test test test test test test test test test test test test test test test test test test test test test test test test test test test test test test test test test test test test test test test test test test test test test test test test test test test test test test test test test test test test test test test test test test test test test test test test test test test test test test test test test test test test test test test test test test test test test test test test test test test test test test test test test test test test test test test test test test test test test test test test test test test test test test test test test test test test test test test test test test test test test test test test test test test test test test test test test test test test test test test test test test test test test test test test test test test test test test test test test test test test test test test test test test test test test test test test test test test test test test \n",
      "0:00:00.092139\n"
     ]
    }
   ],
   "source": [
    "import datetime\n",
    "\n",
    "starttime = datetime.datetime.now() #開始計算時間\n",
    "##############\n",
    " \n",
    "for i in range(1000):\n",
    "    for j in range(1000):\n",
    "        continue\n",
    "    print('test ' ,end='')\n",
    "##############\n",
    "print('')\n",
    "endtime = datetime.datetime.now() #結束時間\n",
    "print(endtime - starttime) #程式執行時間\n"
   ]
  },
  {
   "cell_type": "markdown",
   "metadata": {},
   "source": [
    "# Math"
   ]
  },
  {
   "cell_type": "code",
   "execution_count": 13,
   "metadata": {},
   "outputs": [
    {
     "name": "stdout",
     "output_type": "stream",
     "text": [
      "2\n",
      "1\n",
      "8.0\n",
      "0.0\n",
      "1.0\n",
      "2.718281828459045\n",
      "3.141592653589793\n",
      "0.0\n",
      "7.38905609893065\n"
     ]
    }
   ],
   "source": [
    "import math\n",
    "\n",
    "x1 = math.ceil(1.4)\n",
    "x2 = math.floor(1.4)\n",
    "x3 = math.sqrt(64)\n",
    "x4 = math.sin(0)\n",
    "x5 = math.cos(0)\n",
    "x6 = math.e\n",
    "x7 = math.pi\n",
    "x8 = math.log(1)\n",
    "x9 = math.exp(2)\n",
    "\n",
    "\n",
    "print(x1)\n",
    "print(x2)\n",
    "print(x3)\n",
    "print(x4)\n",
    "print(x5)\n",
    "print(x6)\n",
    "print(x7)\n",
    "print(x8)\n",
    "print(x9)\n",
    "\n"
   ]
  },
  {
   "cell_type": "markdown",
   "metadata": {},
   "source": [
    "# Random"
   ]
  },
  {
   "cell_type": "code",
   "execution_count": 8,
   "metadata": {},
   "outputs": [
    {
     "name": "stdout",
     "output_type": "stream",
     "text": [
      "0.5714025946899135\n"
     ]
    }
   ],
   "source": [
    "import random\n",
    "random.seed(10)\n",
    "\n",
    "print(random.random())"
   ]
  },
  {
   "cell_type": "code",
   "execution_count": 11,
   "metadata": {},
   "outputs": [
    {
     "name": "stdout",
     "output_type": "stream",
     "text": [
      "7\n"
     ]
    }
   ],
   "source": [
    "import random\n",
    "\n",
    "print(random.randrange(3, 9))"
   ]
  },
  {
   "cell_type": "code",
   "execution_count": 13,
   "metadata": {},
   "outputs": [
    {
     "name": "stdout",
     "output_type": "stream",
     "text": [
      "['apple', 'cherry', 'banana']\n"
     ]
    }
   ],
   "source": [
    "import random\n",
    "\n",
    "mylist = [\"apple\", \"banana\", \"cherry\"]\n",
    "random.shuffle(mylist)\n",
    "\n",
    "print(mylist)"
   ]
  },
  {
   "cell_type": "code",
   "execution_count": 16,
   "metadata": {},
   "outputs": [
    {
     "name": "stdout",
     "output_type": "stream",
     "text": [
      "['banana', 'apple']\n"
     ]
    }
   ],
   "source": [
    "import random\n",
    "\n",
    "mylist = [\"apple\", \"banana\", \"cherry\"]\n",
    "\n",
    "print(random.sample(mylist, k=2))"
   ]
  },
  {
   "cell_type": "code",
   "execution_count": 17,
   "metadata": {},
   "outputs": [
    {
     "name": "stdout",
     "output_type": "stream",
     "text": [
      "['apple', 'cherry', 'cherry', 'apple', 'banana', 'apple', 'apple', 'apple', 'apple', 'apple', 'apple', 'apple', 'apple', 'apple']\n"
     ]
    }
   ],
   "source": [
    "import random\n",
    "\n",
    "mylist = [\"apple\", \"banana\", \"cherry\"]\n",
    "\n",
    "print(random.choices(mylist, weights = [10, 1, 1], k = 14))"
   ]
  },
  {
   "cell_type": "markdown",
   "metadata": {},
   "source": [
    "# OS"
   ]
  },
  {
   "cell_type": "code",
   "execution_count": 19,
   "metadata": {},
   "outputs": [
    {
     "name": "stdout",
     "output_type": "stream",
     "text": [
      "C:\\Users\\user\\anaconda3\\envs\\python_course_demo;C:\\Users\\user\\anaconda3\\envs\\python_course_demo\\Library\\mingw-w64\\bin;C:\\Users\\user\\anaconda3\\envs\\python_course_demo\\Library\\usr\\bin;C:\\Users\\user\\anaconda3\\envs\\python_course_demo\\Library\\bin;C:\\Users\\user\\anaconda3\\envs\\python_course_demo\\Scripts;C:\\Users\\user\\anaconda3\\envs\\python_course_demo\\bin;C:\\Users\\user\\anaconda3\\condabin;C:\\Users\\user\\anaconda3;C:\\Users\\user\\anaconda3\\Library\\mingw-w64\\bin;C:\\Users\\user\\anaconda3\\Library\\usr\\bin;C:\\Users\\user\\anaconda3\\Library\\bin;C:\\Users\\user\\anaconda3\\Scripts;C:\\Windows\\system32;C:\\Windows;C:\\Windows\\System32\\Wbem;C:\\Windows\\System32\\WindowsPowerShell\\v1.0;C:\\Windows\\System32\\OpenSSH;C:\\Program Files (x86)\\NVIDIA Corporation\\PhysX\\Common;C:\\Users\\user\\AppData\\Local\\Microsoft\\WindowsApps;.\n",
      "==============\n",
      "C:\\Users\\user\n"
     ]
    }
   ],
   "source": [
    "import os\n",
    "\n",
    "print(os.environ.get('PATH')) #取得環境變數內容\n",
    "print('==============')\n",
    "print(os.path.expanduser('~'))   #取得家目錄路徑"
   ]
  },
  {
   "cell_type": "code",
   "execution_count": 20,
   "metadata": {},
   "outputs": [],
   "source": [
    "os.rename(\"test123.txt\", \"text456.txt\") # rename file"
   ]
  },
  {
   "cell_type": "code",
   "execution_count": 21,
   "metadata": {},
   "outputs": [],
   "source": [
    "os.remove(\"text456.txt\")"
   ]
  },
  {
   "cell_type": "code",
   "execution_count": 24,
   "metadata": {},
   "outputs": [],
   "source": [
    "#os.mkdir(\"my_folder\")\n",
    "\n",
    "dir='my_folder'\n",
    "if not os.path.exists(dir):\n",
    "    os.mkdir(dir)\n",
    "else:\n",
    "    print(dir + '已經建立！')"
   ]
  },
  {
   "cell_type": "code",
   "execution_count": 25,
   "metadata": {},
   "outputs": [
    {
     "name": "stdout",
     "output_type": "stream",
     "text": [
      "C:\\Users\\user\\Desktop\\tibame\\線上課程\\17_19_內建模組\n"
     ]
    }
   ],
   "source": [
    "print(os.getcwd())"
   ]
  },
  {
   "cell_type": "code",
   "execution_count": 26,
   "metadata": {},
   "outputs": [
    {
     "name": "stdout",
     "output_type": "stream",
     "text": [
      "new.txt\n",
      "test1.txt\n",
      "test2.txt\n",
      "test3.txt\n"
     ]
    }
   ],
   "source": [
    "file_names = os.listdir('./files')\n",
    "\n",
    "for i in file_names:\n",
    "    print(i)"
   ]
  },
  {
   "cell_type": "markdown",
   "metadata": {},
   "source": [
    "# Shutil"
   ]
  },
  {
   "cell_type": "code",
   "execution_count": 27,
   "metadata": {},
   "outputs": [
    {
     "data": {
      "text/plain": [
       "'./new_files'"
      ]
     },
     "execution_count": 27,
     "metadata": {},
     "output_type": "execute_result"
    }
   ],
   "source": [
    "import shutil\n",
    "shutil.copytree('./files', './new_files')"
   ]
  },
  {
   "cell_type": "code",
   "execution_count": 28,
   "metadata": {},
   "outputs": [],
   "source": [
    "shutil.rmtree('./new_files')"
   ]
  },
  {
   "cell_type": "code",
   "execution_count": 29,
   "metadata": {},
   "outputs": [
    {
     "data": {
      "text/plain": [
       "'new.txt'"
      ]
     },
     "execution_count": 29,
     "metadata": {},
     "output_type": "execute_result"
    }
   ],
   "source": [
    "shutil.copyfile(\"old.txt\", \"new.txt\")"
   ]
  },
  {
   "cell_type": "code",
   "execution_count": 30,
   "metadata": {},
   "outputs": [
    {
     "data": {
      "text/plain": [
       "'./files\\\\new.txt'"
      ]
     },
     "execution_count": 30,
     "metadata": {},
     "output_type": "execute_result"
    }
   ],
   "source": [
    "shutil.move(\"new.txt\", \"./files\") \n"
   ]
  },
  {
   "cell_type": "markdown",
   "metadata": {},
   "source": [
    "# Json"
   ]
  },
  {
   "cell_type": "code",
   "execution_count": 35,
   "metadata": {},
   "outputs": [
    {
     "name": "stdout",
     "output_type": "stream",
     "text": [
      "<class 'dict'>\n",
      "{'name': 'jim', 'age': 25, 'city': 'Taiwan'}\n",
      "25\n"
     ]
    }
   ],
   "source": [
    "import json\n",
    "\n",
    "# json 的資料形式字串\n",
    "x =  '{ \"name\":\"jim\", \"age\":25, \"city\":\"Taiwan\"}'\n",
    "\n",
    "# 轉換json\n",
    "person = json.loads(x)\n",
    "\n",
    "print(type(person)) #<class 'dict'>\n",
    "print(person)\n",
    "print(person['age']) #25"
   ]
  },
  {
   "cell_type": "code",
   "execution_count": 36,
   "metadata": {},
   "outputs": [
    {
     "name": "stdout",
     "output_type": "stream",
     "text": [
      "<class 'str'>\n",
      "{\"name\": \"jim\", \"age\": 25, \"city\": \"Taiwan\"}\n"
     ]
    }
   ],
   "source": [
    "import json\n",
    "\n",
    "person = {'name': 'jim', 'age': 25, 'city': 'Taiwan'}\n",
    "\n",
    "data = json.dumps(person)\n",
    "\n",
    "print(type(data)) #<class 'str'>\n",
    "print(data) #{\"name\": \"jim\", \"age\": 25, \"city\": \"Taiwan\"}"
   ]
  },
  {
   "cell_type": "code",
   "execution_count": 37,
   "metadata": {},
   "outputs": [
    {
     "name": "stdout",
     "output_type": "stream",
     "text": [
      "{\"name\": \"John\", \"age\": 30}\n",
      "[\"apple\", \"bananas\"]\n",
      "[\"apple\", \"bananas\"]\n",
      "\"hello\"\n",
      "42\n",
      "31.76\n",
      "true\n",
      "false\n",
      "null\n"
     ]
    }
   ],
   "source": [
    "import json\n",
    "\n",
    "print(json.dumps({\"name\": \"John\", \"age\": 30}))\n",
    "print(json.dumps([\"apple\", \"bananas\"]))\n",
    "print(json.dumps((\"apple\", \"bananas\")))\n",
    "print(json.dumps(\"hello\"))\n",
    "print(json.dumps(42))\n",
    "print(json.dumps(31.76))\n",
    "print(json.dumps(True))\n",
    "print(json.dumps(False))\n",
    "print(json.dumps(None))"
   ]
  },
  {
   "cell_type": "code",
   "execution_count": 38,
   "metadata": {},
   "outputs": [
    {
     "name": "stdout",
     "output_type": "stream",
     "text": [
      "id:1111\n",
      "name:Mall of Taiwan\n",
      "id:2222\n",
      "name:Costco Marketplace\n"
     ]
    }
   ],
   "source": [
    "import json\n",
    "\n",
    "input_file = open('myjson.json')\n",
    "json_array = json.load(input_file)\n",
    "\n",
    "\n",
    "for item in json_array:\n",
    "    print(\"id:\" + item['id'])\n",
    "    print(\"name:\" + item['name'])"
   ]
  },
  {
   "cell_type": "markdown",
   "metadata": {},
   "source": [
    "# Time"
   ]
  },
  {
   "cell_type": "code",
   "execution_count": 31,
   "metadata": {},
   "outputs": [
    {
     "name": "stdout",
     "output_type": "stream",
     "text": [
      "1606269838.928388\n"
     ]
    }
   ],
   "source": [
    "# 引入 time 模組\n",
    "import time\n",
    "\n",
    "# 從 1970/1/1 00:00:00 至今的秒數\n",
    "seconds = time.time()\n",
    "\n",
    "# 輸出結果\n",
    "print(seconds)"
   ]
  },
  {
   "cell_type": "code",
   "execution_count": 39,
   "metadata": {},
   "outputs": [
    {
     "name": "stdout",
     "output_type": "stream",
     "text": [
      "本地時間： Fri Nov 13 10:14:25 2020\n"
     ]
    }
   ],
   "source": [
    "# 引入 time 模組\n",
    "import time\n",
    "\n",
    "# 從 1970/1/1 00:00:00 至今的秒數\n",
    "seconds = time.time()\n",
    "\n",
    "# 將秒數轉為本地時間\n",
    "local_time = time.ctime(seconds)\n",
    "\n",
    "# 輸出結果\n",
    "print(\"本地時間：\", local_time)"
   ]
  },
  {
   "cell_type": "code",
   "execution_count": 32,
   "metadata": {},
   "outputs": [
    {
     "name": "stdout",
     "output_type": "stream",
     "text": [
      "現在時間： Wed Nov 25 10:04:23 2020\n"
     ]
    }
   ],
   "source": [
    "# 引入 time 模組\n",
    "import time\n",
    "\n",
    "# 現在時間\n",
    "now = time.ctime()\n",
    "\n",
    "# 輸出結果\n",
    "print(\"現在時間：\", now)"
   ]
  },
  {
   "cell_type": "code",
   "execution_count": 34,
   "metadata": {},
   "outputs": [
    {
     "name": "stdout",
     "output_type": "stream",
     "text": [
      "Hello\n",
      "World\n"
     ]
    }
   ],
   "source": [
    "# 引入 time 模組\n",
    "import time\n",
    "\n",
    "print(\"Hello\")\n",
    "\n",
    "# 暫停 1.5 秒\n",
    "time.sleep(1.5)\n",
    "\n",
    "print(\"World\")"
   ]
  },
  {
   "cell_type": "code",
   "execution_count": 35,
   "metadata": {},
   "outputs": [
    {
     "name": "stdout",
     "output_type": "stream",
     "text": [
      "11/25/2020, 10:05:12\n"
     ]
    }
   ],
   "source": [
    "import time\n",
    "\n",
    "# 取得 struct_time 格式的時間\n",
    "t = time.localtime()\n",
    "\n",
    "# 依指定格式輸出\n",
    "result = time.strftime(\"%m/%d/%Y, %H:%M:%S\", t)\n",
    "print(result)"
   ]
  },
  {
   "cell_type": "markdown",
   "metadata": {},
   "source": [
    "# zipFile"
   ]
  },
  {
   "cell_type": "code",
   "execution_count": 37,
   "metadata": {},
   "outputs": [
    {
     "name": "stdout",
     "output_type": "stream",
     "text": [
      "File Name                                             Modified             Size\n",
      "files/                                         2020-11-13 09:45:58            0\n",
      "files/new.txt                                  2020-11-13 09:45:30            0\n",
      "files/test1.txt                                2020-10-26 09:44:50            0\n",
      "files/test2.txt                                2020-10-26 09:44:50            0\n",
      "files/test3.txt                                2020-10-26 09:44:50            0\n",
      "extracting ...\n"
     ]
    }
   ],
   "source": [
    "from zipfile import ZipFile\n",
    "\n",
    "file_name = 'files2.zip'\n",
    "\n",
    "with ZipFile(file_name, 'r') as zip:\n",
    "    zip.printdir()\n",
    "    \n",
    "    print('extracting ...')\n",
    "    zip.extractall()"
   ]
  },
  {
   "cell_type": "code",
   "execution_count": null,
   "metadata": {},
   "outputs": [],
   "source": []
  }
 ],
 "metadata": {
  "kernelspec": {
   "display_name": "Python 3",
   "language": "python",
   "name": "python3"
  },
  "language_info": {
   "codemirror_mode": {
    "name": "ipython",
    "version": 3
   },
   "file_extension": ".py",
   "mimetype": "text/x-python",
   "name": "python",
   "nbconvert_exporter": "python",
   "pygments_lexer": "ipython3",
   "version": "3.7.9"
  }
 },
 "nbformat": 4,
 "nbformat_minor": 4
}
