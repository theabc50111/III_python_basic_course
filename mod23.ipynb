{
 "cells": [
  {
   "cell_type": "code",
   "execution_count": 1,
   "metadata": {},
   "outputs": [
    {
     "name": "stdout",
     "output_type": "stream",
     "text": [
      "0\n",
      "10\n",
      "20\n",
      "30\n",
      "40\n",
      "50\n"
     ]
    }
   ],
   "source": [
    "import logging\n",
    "\n",
    "print(logging.NOTSET)   # 0\n",
    "print(logging.DEBUG)    # 10\n",
    "print(logging.INFO)     # 20\n",
    "print(logging.WARNING)  # 30\n",
    "print(logging.ERROR)    # 40\n",
    "print(logging.CRITICAL) # 50"
   ]
  },
  {
   "cell_type": "code",
   "execution_count": 2,
   "metadata": {},
   "outputs": [
    {
     "name": "stdout",
     "output_type": "stream",
     "text": [
      "NOTSET\n",
      "DEBUG\n",
      "INFO\n",
      "WARNING\n",
      "ERROR\n",
      "CRITICAL\n"
     ]
    }
   ],
   "source": [
    "print(logging.getLevelName(0))    # NOTSET\n",
    "print(logging.getLevelName(10))   # DEBUG\n",
    "print(logging.getLevelName(20))   # INFO\n",
    "print(logging.getLevelName(30))   # WARNING\n",
    "print(logging.getLevelName(40))   # ERROR\n",
    "print(logging.getLevelName(50))   # CRITICAL\n"
   ]
  },
  {
   "cell_type": "code",
   "execution_count": 1,
   "metadata": {},
   "outputs": [
    {
     "name": "stderr",
     "output_type": "stream",
     "text": [
      "WARNING:root:warning message\n",
      "ERROR:root:error message\n",
      "CRITICAL:root:critical message\n"
     ]
    }
   ],
   "source": [
    "import logging\n",
    "\n",
    "logging.debug('debug message')\n",
    "logging.info('info message')\n",
    "logging.warning('warning message')\n",
    "logging.error('error message')\n",
    "logging.critical('critical message')\n"
   ]
  },
  {
   "cell_type": "code",
   "execution_count": 2,
   "metadata": {},
   "outputs": [
    {
     "name": "stderr",
     "output_type": "stream",
     "text": [
      "DEBUG:root:debug message\n",
      "INFO:root:info message\n",
      "WARNING:root:warning message\n",
      "ERROR:root:error message\n",
      "CRITICAL:root:critical message\n"
     ]
    }
   ],
   "source": [
    "\n",
    "import logging\n",
    "# Remove all handlers associated with the root logger object.\n",
    "for handler in logging.root.handlers[:]:\n",
    "    logging.root.removeHandler(handler)\n",
    "\n",
    "logging.basicConfig(level=logging.DEBUG)\n",
    "\n",
    "\n",
    "\n",
    "logging.debug('debug message')\n",
    "logging.info('info message')\n",
    "logging.warning('warning message')\n",
    "logging.error('error message')\n",
    "logging.critical('critical message')\n",
    "logging.shutdown()"
   ]
  },
  {
   "cell_type": "code",
   "execution_count": 1,
   "metadata": {},
   "outputs": [
    {
     "name": "stderr",
     "output_type": "stream",
     "text": [
      "2020-11-28 08:15:41,287 DEBUG: debug message\n",
      "2020-11-28 08:15:41,292 INFO: info message\n",
      "2020-11-28 08:15:41,293 WARNING: warning message\n",
      "2020-11-28 08:15:41,293 ERROR: error message\n",
      "2020-11-28 08:15:41,294 CRITICAL: critical message\n"
     ]
    }
   ],
   "source": [
    "import logging\n",
    "\n",
    "for handler in logging.root.handlers[:]:\n",
    "    logging.root.removeHandler(handler)\n",
    "\n",
    "FORMAT = '%(asctime)s %(levelname)s: %(message)s'\n",
    "logging.basicConfig(level=logging.DEBUG, format=FORMAT)\n",
    "\n",
    "logging.debug('debug message')\n",
    "logging.info('info message')\n",
    "logging.warning('warning message')\n",
    "logging.error('error message')\n",
    "logging.critical('critical message')"
   ]
  },
  {
   "cell_type": "code",
   "execution_count": 2,
   "metadata": {},
   "outputs": [],
   "source": [
    "import logging\n",
    "\n",
    "for handler in logging.root.handlers[:]:\n",
    "    logging.root.removeHandler(handler)\n",
    "\n",
    "FORMAT = '%(asctime)s %(levelname)s: %(message)s'\n",
    "logging.basicConfig(level=logging.DEBUG, filename='./mod23/myLog123.log', filemode='w', format=FORMAT)\n",
    "\n",
    "logging.debug('debug message')\n",
    "logging.info('info message')\n",
    "logging.warning('warning message')\n",
    "logging.error('error message')\n",
    "logging.critical('critical message')"
   ]
  },
  {
   "cell_type": "code",
   "execution_count": null,
   "metadata": {},
   "outputs": [],
   "source": []
  }
 ],
 "metadata": {
  "kernelspec": {
   "display_name": "Python 3",
   "language": "python",
   "name": "python3"
  },
  "language_info": {
   "codemirror_mode": {
    "name": "ipython",
    "version": 3
   },
   "file_extension": ".py",
   "mimetype": "text/x-python",
   "name": "python",
   "nbconvert_exporter": "python",
   "pygments_lexer": "ipython3",
   "version": "3.6.9"
  }
 },
 "nbformat": 4,
 "nbformat_minor": 4
}
