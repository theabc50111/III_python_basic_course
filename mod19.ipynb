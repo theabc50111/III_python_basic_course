{
 "cells": [
  {
   "cell_type": "markdown",
   "metadata": {},
   "source": [
    "# Class"
   ]
  },
  {
   "cell_type": "code",
   "execution_count": 1,
   "metadata": {},
   "outputs": [
    {
     "name": "stdout",
     "output_type": "stream",
     "text": [
      "目前服務銀行是  Taipei Bank\n",
      "銀行服務理念是  以客為尊\n"
     ]
    }
   ],
   "source": [
    "class Banks():\n",
    "    ''' 定義銀行類別 '''\n",
    "    bankname = 'Taipei Bank'    # 定義屬性\n",
    "    def motto(self):            # 定義方法\n",
    "        return \"以客為尊\"\n",
    "\n",
    "userbank = Banks()              # 定義物件userbank\n",
    "print(\"目前服務銀行是 \", userbank.bankname)\n",
    "print(\"銀行服務理念是 \", userbank.motto())"
   ]
  },
  {
   "cell_type": "code",
   "execution_count": 3,
   "metadata": {},
   "outputs": [
    {
     "name": "stdout",
     "output_type": "stream",
     "text": [
      "isaac  存款餘額是  100\n"
     ]
    }
   ],
   "source": [
    "class Banks():\n",
    "    ''' 定義銀行類別 '''\n",
    "    bankname = 'Taipei Bank'                # 定義屬性\n",
    "    def __init__(self, uname, money):       # 初始化方法\n",
    "        self.name = uname                   # 設定存款者名字\n",
    "        self.balance = money                # 設定所存的錢\n",
    "\n",
    "    def get_balance(self):                  # 獲得存款餘額\n",
    "        return self.balance\n",
    "\n",
    "isaacbank = Banks('isaac', 100)               # 定義物件isaacbank\n",
    "print(isaacbank.name, \" 存款餘額是 \", isaacbank.get_balance())"
   ]
  },
  {
   "cell_type": "code",
   "execution_count": 4,
   "metadata": {},
   "outputs": [
    {
     "name": "stdout",
     "output_type": "stream",
     "text": [
      "isaac  目前餘額:  100\n",
      "存款  500  完成\n",
      "isaac  目前餘額:  600\n",
      "提款  400  完成\n",
      "isaac  目前餘額:  200\n"
     ]
    }
   ],
   "source": [
    "class Banks():\n",
    "    ''' 定義銀行類別 '''\n",
    "    bankname = 'Taipei Bank'                # 定義屬性\n",
    "    def __init__(self, uname, money):       # 初始化方法\n",
    "        self.name = uname                   # 設定存款者名字\n",
    "        self.balance = money                # 設定所存的錢\n",
    "\n",
    "    def save_money(self, money):            # 設計存款方法\n",
    "        self.balance += money               # 執行存款\n",
    "        print(\"存款 \", money, \" 完成\")      # 列印存款完成\n",
    "\n",
    "    def withdraw_money(self, money):        # 設計提款方法\n",
    "        self.balance -= money               # 執行提款\n",
    "        print(\"提款 \", money, \" 完成\")      # 列印提款完成\n",
    "\n",
    "    def get_balance(self):                  # 獲得存款餘額\n",
    "        print(self.name, \" 目前餘額: \", self.balance)\n",
    "\n",
    "isaacbank = Banks('isaac', 100)               # 定義物件isaacbank\n",
    "isaacbank.get_balance()                      # 獲得存款餘額                \n",
    "isaacbank.save_money(500)                    # 存款500元\n",
    "isaacbank.get_balance()                      # 獲得存款餘額\n",
    "isaacbank.withdraw_money(400)                # 提款400元\n",
    "isaacbank.get_balance()                      # 獲得存款餘額"
   ]
  },
  {
   "cell_type": "code",
   "execution_count": 5,
   "metadata": {},
   "outputs": [
    {
     "name": "stdout",
     "output_type": "stream",
     "text": [
      "isaac  目前餘額:  100\n",
      "lydia  目前餘額:  300\n",
      "存款  250  完成\n",
      "提款  150  完成\n",
      "isaac  目前餘額:  350\n",
      "lydia  目前餘額:  150\n"
     ]
    }
   ],
   "source": [
    "\n",
    "class Banks():\n",
    "    ''' 定義銀行類別 '''\n",
    "    bankname = 'Taipei Bank'                # 定義屬性\n",
    "    def __init__(self, uname, money):       # 初始化方法\n",
    "        self.name = uname                   # 設定存款者名字\n",
    "        self.balance = money                # 設定所存的錢\n",
    "\n",
    "    def save_money(self, money):            # 設計存款方法\n",
    "        self.balance += money               # 執行存款\n",
    "        print(\"存款 \", money, \" 完成\")      # 列印存款完成\n",
    "\n",
    "    def withdraw_money(self, money):        # 設計提款方法\n",
    "        self.balance -= money               # 執行提款\n",
    "        print(\"提款 \", money, \" 完成\")      # 列印提款完成\n",
    "\n",
    "    def get_balance(self):                  # 獲得存款餘額\n",
    "        print(self.name, \" 目前餘額: \", self.balance)\n",
    "\n",
    "isaacbank = Banks('isaac', 100)               # 定義物件isaacbank\n",
    "lydiabank = Banks('lydia', 300)               # 定義物件lydiabank\n",
    "isaacbank.get_balance()                      # 獲得isaac存款餘額                \n",
    "lydiabank.get_balance()                      # 獲得lydia存款餘額\n",
    "isaacbank.save_money(250)                    # isaac存款250\n",
    "lydiabank.withdraw_money(150)                # lydia提款150\n",
    "isaacbank.get_balance()                      # 獲得isaac存款餘額                \n",
    "lydiabank.get_balance()                      # 獲得lydia存款餘額"
   ]
  },
  {
   "cell_type": "code",
   "execution_count": 7,
   "metadata": {},
   "outputs": [
    {
     "name": "stdout",
     "output_type": "stream",
     "text": [
      "目前開戶銀行  Taipei Bank\n",
      "isaac  目前餘額:  0\n",
      "存款  200  完成\n",
      "isaac  目前餘額:  200\n"
     ]
    }
   ],
   "source": [
    "\n",
    "class Banks():\n",
    "    ''' 定義銀行類別 '''\n",
    "\n",
    "    def __init__(self, uname):              # 初始化方法\n",
    "        self.name = uname                   # 設定存款者名字\n",
    "        self.balance = 0                    # 設定開戶金額是0\n",
    "        self.bankname = \"Taipei Bank\"       # 設定銀行名稱\n",
    "\n",
    "    def save_money(self, money):            # 設計存款方法\n",
    "        self.balance += money               # 執行存款\n",
    "        print(\"存款 \", money, \" 完成\")      # 列印存款完成\n",
    "\n",
    "    def withdraw_money(self, money):        # 設計提款方法\n",
    "        self.balance -= money               # 執行提款\n",
    "        print(\"提款 \", money, \" 完成\")      # 列印提款完成\n",
    "\n",
    "    def get_balance(self):                  # 獲得存款餘額\n",
    "        print(self.name, \" 目前餘額: \", self.balance)\n",
    "\n",
    "isaacbank = Banks('isaac')                    # 定義物件isaacbank\n",
    "print(\"目前開戶銀行 \", isaacbank.bankname)   # 列出目前開戶銀行\n",
    "isaacbank.get_balance()                      # 獲得isaac存款餘額                \n",
    "isaacbank.save_money(200)                    # isaac存款100\n",
    "isaacbank.get_balance()                      # 獲得isaac存款餘額                "
   ]
  },
  {
   "cell_type": "markdown",
   "metadata": {},
   "source": [
    "# Encapsulation"
   ]
  },
  {
   "cell_type": "code",
   "execution_count": 9,
   "metadata": {},
   "outputs": [
    {
     "name": "stdout",
     "output_type": "stream",
     "text": [
      "isaac  目前餘額:  0\n",
      "isaac  目前餘額:  10000\n"
     ]
    }
   ],
   "source": [
    "class Banks():\n",
    "    ''' 定義銀行類別 '''\n",
    "\n",
    "    def __init__(self, uname):              # 初始化方法\n",
    "        self.name = uname                   # 設定存款者名字\n",
    "        self.balance = 0                    # 設定開戶金額是0\n",
    "        self.bankname = \"Taipei Bank\"       # 設定銀行名稱\n",
    "\n",
    "    def save_money(self, money):            # 設計存款方法\n",
    "        self.balance += money               # 執行存款\n",
    "        print(\"存款 \", money, \" 完成\")      # 列印存款完成\n",
    "\n",
    "    def withdraw_money(self, money):        # 設計提款方法\n",
    "        self.balance -= money               # 執行提款\n",
    "        print(\"提款 \", money, \" 完成\")      # 列印提款完成\n",
    "\n",
    "    def get_balance(self):                  # 獲得存款餘額\n",
    "        print(self.name, \" 目前餘額: \", self.balance)\n",
    "\n",
    "isaacbank = Banks('isaac')                    # 定義物件isaacbank\n",
    "isaacbank.get_balance()\n",
    "isaacbank.balance = 10000                    # 類別外直接竄改存款餘額\n",
    "isaacbank.get_balance()"
   ]
  },
  {
   "cell_type": "code",
   "execution_count": 12,
   "metadata": {},
   "outputs": [
    {
     "ename": "AttributeError",
     "evalue": "'Banks' object has no attribute '__balance'",
     "output_type": "error",
     "traceback": [
      "\u001b[1;31m---------------------------------------------------------------------------\u001b[0m",
      "\u001b[1;31mAttributeError\u001b[0m                            Traceback (most recent call last)",
      "\u001b[1;32m<ipython-input-12-43b494ffd4aa>\u001b[0m in \u001b[0;36m<module>\u001b[1;34m\u001b[0m\n\u001b[0;32m     19\u001b[0m \u001b[1;33m\u001b[0m\u001b[0m\n\u001b[0;32m     20\u001b[0m \u001b[0misaacbank\u001b[0m \u001b[1;33m=\u001b[0m \u001b[0mBanks\u001b[0m\u001b[1;33m(\u001b[0m\u001b[1;34m'isaac'\u001b[0m\u001b[1;33m)\u001b[0m                    \u001b[1;31m# 定義物件isaacbank\u001b[0m\u001b[1;33m\u001b[0m\u001b[1;33m\u001b[0m\u001b[0m\n\u001b[1;32m---> 21\u001b[1;33m \u001b[0mprint\u001b[0m\u001b[1;33m(\u001b[0m\u001b[0misaacbank\u001b[0m\u001b[1;33m.\u001b[0m\u001b[0m__balance\u001b[0m\u001b[1;33m)\u001b[0m\u001b[1;33m\u001b[0m\u001b[1;33m\u001b[0m\u001b[0m\n\u001b[0m\u001b[0;32m     22\u001b[0m \u001b[0misaacbank\u001b[0m\u001b[1;33m.\u001b[0m\u001b[0mget_balance\u001b[0m\u001b[1;33m(\u001b[0m\u001b[1;33m)\u001b[0m\u001b[1;33m\u001b[0m\u001b[1;33m\u001b[0m\u001b[0m\n\u001b[0;32m     23\u001b[0m \u001b[0misaacbank\u001b[0m\u001b[1;33m.\u001b[0m\u001b[0m__balance\u001b[0m \u001b[1;33m=\u001b[0m \u001b[1;36m10000\u001b[0m                  \u001b[1;31m# 類別外直接竄改存款餘額\u001b[0m\u001b[1;33m\u001b[0m\u001b[1;33m\u001b[0m\u001b[0m\n",
      "\u001b[1;31mAttributeError\u001b[0m: 'Banks' object has no attribute '__balance'"
     ]
    }
   ],
   "source": [
    "class Banks():\n",
    "    ''' 定義銀行類別 '''\n",
    "\n",
    "    def __init__(self, uname):              # 初始化方法\n",
    "        self.__name = uname                 # 設定私有存款者名字\n",
    "        self.__balance = 0                  # 設定私有開戶金額是0\n",
    "        self.__bankname = \"Taipei Bank\"     # 設定私有銀行名稱\n",
    "\n",
    "    def save_money(self, money):            # 設計存款方法\n",
    "        self.__balance += money             # 執行存款\n",
    "        print(\"存款 \", money, \" 完成\")      # 列印存款完成\n",
    "\n",
    "    def withdraw_money(self, money):        # 設計提款方法\n",
    "        self.__balance -= money             # 執行提款\n",
    "        print(\"提款 \", money, \" 完成\")      # 列印提款完成\n",
    "\n",
    "    def get_balance(self):                  # 獲得存款餘額\n",
    "        print(self.__name, \" 目前餘額: \", self.__balance)\n",
    "\n",
    "isaacbank = Banks('isaac')                    # 定義物件isaacbank\n",
    "#print(isaacbank.__balance)\n",
    "isaacbank.get_balance()\n",
    "isaacbank.__balance = 10000                  # 類別外直接竄改存款餘額\n",
    "isaacbank.get_balance()\n"
   ]
  },
  {
   "cell_type": "code",
   "execution_count": 15,
   "metadata": {},
   "outputs": [
    {
     "name": "stdout",
     "output_type": "stream",
     "text": [
      "50  美金可以兌換  1485  台幣\n",
      "1485\n"
     ]
    }
   ],
   "source": [
    "class Banks():\n",
    "    ''' 定義銀行類別 '''\n",
    "\n",
    "    def __init__(self, uname):              # 初始化方法\n",
    "        self.__name = uname                 # 設定私有存款者名字\n",
    "        self.__balance = 0                  # 設定私有開戶金額是0\n",
    "        self.__bankname = \"Taipei Bank\"     # 設定私有銀行名稱\n",
    "        self.__rate = 30                    # 預設美金與台幣換匯比例\n",
    "        self.__service_charge = 0.01        # 換匯的服務費\n",
    "\n",
    "    def save_money(self, money):            # 設計存款方法\n",
    "        self.__balance += money             # 執行存款\n",
    "        print(\"存款 \", money, \" 完成\")      # 列印存款完成\n",
    "\n",
    "    def withdraw_money(self, money):        # 設計提款方法\n",
    "        self.__balance -= money             # 執行提款\n",
    "        print(\"提款 \", money, \" 完成\")      # 列印提款完成\n",
    "\n",
    "    def get_balance(self):                  # 獲得存款餘額\n",
    "        print(self.__name, \" 目前餘額: \", self.__balance)\n",
    "\n",
    "    def usa_to_taiwan(self, usa_d):         # 美金兌換台幣方法\n",
    "        self.result = self.__cal_rate(usa_d)\n",
    "        return self.result\n",
    "\n",
    "    def __cal_rate(self,usa_d):             # 計算換匯這是私有方法\n",
    "        return int(usa_d * self.__rate * (1 - self.__service_charge))\n",
    "        \n",
    "isaacbank = Banks('isaac')                    # 定義物件isaacbank\n",
    "usdallor = 50\n",
    "print(usdallor, \" 美金可以兌換 \", isaacbank.usa_to_taiwan(usdallor), \" 台幣\") \n",
    "#print(isaacbank.__cal_rate(usdallor))"
   ]
  },
  {
   "cell_type": "markdown",
   "metadata": {},
   "source": [
    "# Inheritance"
   ]
  },
  {
   "cell_type": "code",
   "execution_count": 14,
   "metadata": {},
   "outputs": [
    {
     "name": "stdout",
     "output_type": "stream",
     "text": [
      "我住在台北\n",
      "我住在台北\n"
     ]
    }
   ],
   "source": [
    "class Father():\n",
    "    def hometown(self):\n",
    "        print('我住在台北')\n",
    "\n",
    "class Son(Father):\n",
    "    pass\n",
    "\n",
    "dylan = Father()\n",
    "isaac = Son()\n",
    "dylan.hometown()\n",
    "isaac.hometown()"
   ]
  },
  {
   "cell_type": "code",
   "execution_count": 16,
   "metadata": {},
   "outputs": [
    {
     "name": "stdout",
     "output_type": "stream",
     "text": [
      "存款  500  完成\n",
      "isaac  目前餘額:  500\n"
     ]
    }
   ],
   "source": [
    "\n",
    "class Banks():\n",
    "    ''' 定義銀行類別 '''\n",
    "\n",
    "    def __init__(self, uname):              # 初始化方法\n",
    "        self.__name = uname                 # 設定私有存款者名字\n",
    "        self.__balance = 0                  # 設定私有開戶金額是0\n",
    "        self.__bankname = \"Taipei Bank\"     # 設定私有銀行名稱\n",
    "        self.__rate = 30                    # 預設美金與台幣換匯比例\n",
    "        self.__service_charge = 0.01        # 換匯的服務費\n",
    "\n",
    "    def save_money(self, money):            # 設計存款方法\n",
    "        self.__balance += money             # 執行存款\n",
    "        print(\"存款 \", money, \" 完成\")      # 列印存款完成\n",
    "\n",
    "    def withdraw_money(self, money):        # 設計提款方法\n",
    "        self.__balance -= money             # 執行提款\n",
    "        print(\"提款 \", money, \" 完成\")      # 列印提款完成\n",
    "\n",
    "    def get_balance(self):                  # 獲得存款餘額\n",
    "        print(self.__name, \" 目前餘額: \", self.__balance)\n",
    "\n",
    "    def usa_to_taiwan(self, usa_d):         # 美金兌換台幣方法\n",
    "        self.result = self.__cal_rate(usa_d)\n",
    "        return self.result\n",
    "\n",
    "    def __cal_rate(self,usa_d):             # 計算換匯這是私有方法\n",
    "        return int(usa_d * self.__rate * (1 - self.__service_charge))\n",
    "\n",
    "class Shilin_Banks(Banks):\n",
    "    # 定義士林分行\n",
    "    pass\n",
    "       \n",
    "isaacbank = Shilin_Banks('isaac')             # 定義物件isaacbank\n",
    "isaacbank.save_money(500)\n",
    "isaacbank.get_balance()"
   ]
  },
  {
   "cell_type": "code",
   "execution_count": 17,
   "metadata": {},
   "outputs": [
    {
     "name": "stdout",
     "output_type": "stream",
     "text": [
      "父類別 :  台北市羅斯福路\n",
      "子類別 :  台北市羅斯福路\n"
     ]
    }
   ],
   "source": [
    "class Father():\n",
    "    def __init__(self):\n",
    "        self.__address = '台北市羅斯福路';\n",
    "    def getaddr(self):\n",
    "        return self.__address\n",
    "\n",
    "class Son(Father):\n",
    "    pass\n",
    "\n",
    "dylan = Father()\n",
    "isaac = Son()\n",
    "print('父類別 : ',dylan.getaddr())\n",
    "print('子類別 : ',isaac.getaddr())"
   ]
  },
  {
   "cell_type": "code",
   "execution_count": 18,
   "metadata": {},
   "outputs": [
    {
     "name": "stdout",
     "output_type": "stream",
     "text": [
      "Isaac\n",
      "Uncle\n",
      "Father\n",
      "Grandfather\n"
     ]
    }
   ],
   "source": [
    "class Grandfather():\n",
    "    \"\"\" 定義祖父類別 \"\"\"\n",
    "    def action1(self):\n",
    "        print(\"Grandfather\")\n",
    "        \n",
    "class Father(Grandfather):\n",
    "    \"\"\" 定義父親類別 \"\"\"\n",
    "    def action2(self):      \n",
    "        print(\"Father\")\n",
    "\n",
    "class Uncle(Grandfather):\n",
    "    \"\"\" 定義叔父類別 \"\"\"\n",
    "    def action3(self):      \n",
    "        print(\"Uncle\")\n",
    "\n",
    "class Isaac(Father, Uncle):\n",
    "    \"\"\" 定義Isaac類別 \"\"\"\n",
    "    def action4(self):\n",
    "        print(\"Isaac\")\n",
    "\n",
    "isaac = Isaac()\n",
    "isaac.action4() \n",
    "isaac.action3()              \n",
    "isaac.action2()              \n",
    "isaac.action1()             "
   ]
  },
  {
   "cell_type": "code",
   "execution_count": 19,
   "metadata": {},
   "outputs": [
    {
     "name": "stdout",
     "output_type": "stream",
     "text": [
      "Isaac\n",
      "Father\n",
      "Grandfather\n"
     ]
    }
   ],
   "source": [
    "class Grandfather():\n",
    "    \"\"\" 定義祖父類別 \"\"\"\n",
    "    def action1(self):\n",
    "        print(\"Grandfather\")\n",
    "        \n",
    "class Father(Grandfather):\n",
    "    \"\"\" 定義父親類別 \"\"\"\n",
    "    def action2(self):      # 定義action2()\n",
    "        print(\"Father\")\n",
    "\n",
    "class Uncle(Grandfather):\n",
    "    \"\"\" 定義叔父類別 \"\"\"\n",
    "    def action2(self):      # 定義action2()\n",
    "        print(\"Uncle\")\n",
    "\n",
    "class Isaac(Father, Uncle):\n",
    "    \"\"\" 定義Isaac類別 \"\"\"\n",
    "    def action3(self):\n",
    "        print(\"Isaac\")\n",
    "\n",
    "isaac = Isaac()\n",
    "isaac.action3()              # 順序 Isaac\n",
    "isaac.action2()              # 順序 Isaac -> Father\n",
    "isaac.action1()              # 順序 Isaac -> Father -> Grandfather"
   ]
  },
  {
   "cell_type": "markdown",
   "metadata": {},
   "source": [
    "# Polymorphism"
   ]
  },
  {
   "cell_type": "code",
   "execution_count": 12,
   "metadata": {},
   "outputs": [
    {
     "name": "stdout",
     "output_type": "stream",
     "text": [
      "isaac\n",
      "teacher isaac\n"
     ]
    }
   ],
   "source": [
    "class Person():\n",
    "    def __init__(self,name):\n",
    "        self.name = name\n",
    "class TeacherPerson(Person):\n",
    "    def __init__(self,name):\n",
    "        self.name = \"teacher \" + name\n",
    "\n",
    "my_name = Person(\"isaac\")\n",
    "t_my_name = TeacherPerson(\"isaac\")\n",
    "print(my_name.name)\n",
    "print(t_my_name.name)"
   ]
  },
  {
   "cell_type": "code",
   "execution_count": 13,
   "metadata": {},
   "outputs": [
    {
     "name": "stdout",
     "output_type": "stream",
     "text": [
      "我是老師\n",
      "我是律師\n"
     ]
    }
   ],
   "source": [
    "class Person():\n",
    "    def job(self):\n",
    "        print(\"我是老師\")\n",
    "    \n",
    "class LawerPerson(Person):\n",
    "    def job(self):\n",
    "        print(\"我是律師\")\n",
    "\n",
    "isaac = Person()\n",
    "andy = LawerPerson()\n",
    "isaac.job()\n",
    "andy.job()"
   ]
  },
  {
   "cell_type": "code",
   "execution_count": 14,
   "metadata": {},
   "outputs": [
    {
     "name": "stdout",
     "output_type": "stream",
     "text": [
      "lucy  is  5  years old.\n",
      "lucy  is running\n",
      "My pet lily  is  6  years old.\n",
      "My pet lily  is running\n"
     ]
    }
   ],
   "source": [
    "class Animals():\n",
    "    \"\"\"Animals類別, 這是基底類別 \"\"\"\n",
    "    def __init__(self, animal_name, animal_age ):\n",
    "        self.name = animal_name # 紀錄動物名稱\n",
    "        self.age = animal_age   # 紀錄動物年齡\n",
    "\n",
    "    def run(self):              # 輸出動物 is running\n",
    "        print(self.name, \" is running\")\n",
    "\n",
    "class Dogs(Animals):\n",
    "    \"\"\"Dogs類別, 這是Animal的衍生類別 \"\"\"\n",
    "    def __init__(self, dog_name, dog_age):\n",
    "        super().__init__('My pet ' + dog_name, dog_age)\n",
    "\n",
    "mycat = Animals('lucy', 5)      # 建立Animals物件以及測試\n",
    "print(mycat.name, ' is ', mycat.age, \" years old.\")\n",
    "mycat.run()\n",
    "\n",
    "mydog = Dogs('lily', 6)         # 建立Dogs物件以及測試\n",
    "print(mydog.name, ' is ', mydog.age, \" years old.\")\n",
    "mydog.run()"
   ]
  },
  {
   "cell_type": "code",
   "execution_count": 20,
   "metadata": {},
   "outputs": [
    {
     "name": "stdout",
     "output_type": "stream",
     "text": [
      "lucy  is  5  years old.\n",
      "lucy  is running\n",
      "lily  is  6  years old.\n",
      "lily  is running\n",
      "My pet is sleeping\n",
      "I am licking my long hair\n"
     ]
    }
   ],
   "source": [
    "class Animals():\n",
    "    \"\"\"Animals類別, 這是基底類別 \"\"\"\n",
    "    def __init__(self, animal_name, animal_age ):\n",
    "        self.name = animal_name # 紀錄動物名稱\n",
    "        self.age = animal_age   # 紀錄動物年齡\n",
    "\n",
    "    def run(self):              # 輸出動物 is running\n",
    "        print(self.name, \" is running\")\n",
    "\n",
    "class Dogs(Animals):\n",
    "    \"\"\"Dogs類別, 這是Animal的衍生類別 \"\"\"\n",
    "    def __init__(self, dog_name, dog_age, fur):\n",
    "        super().__init__(dog_name, dog_age)\n",
    "        self.fur = fur\n",
    "    def sleeping(self):\n",
    "        print(\"My pet\", \"is sleeping\")\n",
    "    \n",
    "    def licking(self):\n",
    "        print(f\"I am licking my {self.fur}\")\n",
    "\n",
    "mycat = Animals('lucy', 5)      # 建立Animals物件以及測試\n",
    "print(mycat.name, ' is ', mycat.age, \" years old.\")\n",
    "mycat.run()\n",
    "\n",
    "mydog = Dogs('lily', 6, \"long hair\")         # 建立Dogs物件以及測試\n",
    "print(mydog.name, ' is ', mydog.age, \" years old.\")\n",
    "mydog.run()\n",
    "mydog.sleeping()\n",
    "mydog.licking()"
   ]
  },
  {
   "cell_type": "code",
   "execution_count": null,
   "metadata": {},
   "outputs": [],
   "source": []
  }
 ],
 "metadata": {
  "kernelspec": {
   "display_name": "Python 3",
   "language": "python",
   "name": "python3"
  },
  "language_info": {
   "codemirror_mode": {
    "name": "ipython",
    "version": 3
   },
   "file_extension": ".py",
   "mimetype": "text/x-python",
   "name": "python",
   "nbconvert_exporter": "python",
   "pygments_lexer": "ipython3",
   "version": "3.8.5"
  }
 },
 "nbformat": 4,
 "nbformat_minor": 4
}
