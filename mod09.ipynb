{
 "cells": [
  {
   "cell_type": "markdown",
   "metadata": {},
   "source": [
    "#  <font color=red> Module_09_List</font>"
   ]
  },
  {
   "cell_type": "markdown",
   "metadata": {},
   "source": [
    "# P9-3\n",
    "## List &rArr; 有序(sequence)、可變(mutable)\n",
    ">### P3-3<img src='./img/py_data_type.png'>"
   ]
  },
  {
   "cell_type": "code",
   "execution_count": 1,
   "metadata": {},
   "outputs": [],
   "source": [
    "list1 = ['a', 'b', 'c', 'd']\n",
    "print(list1)\n",
    "list2='a b c d'.split() # 講義P5-13\n",
    "print(list2)\n",
    "list3 = ['bdse', 'aien', 2015, 2018]\n",
    "print(list3)\n",
    "list4 = []\n",
    "print(list4)"
   ]
  },
  {
   "cell_type": "markdown",
   "metadata": {},
   "source": [
    "----"
   ]
  },
  {
   "cell_type": "markdown",
   "metadata": {},
   "source": [
    "# P9-4\n",
    "# index\n",
    "><img src=\"./img/list.png\"  style='height:250px; width:650px'>"
   ]
  },
  {
   "cell_type": "code",
   "execution_count": 2,
   "metadata": {},
   "outputs": [],
   "source": [
    "names=['fraser', 'grace', 'john', 'jess', 'jack', 23.5, 2019]\n",
    "print('names =                  ', names)\n",
    "print('names[0] =               ', names[0])\n",
    "print('names[0][0] =            ', names[0][0], '\\n')\n",
    "\n",
    "print('names[5] =               ', names[5])\n",
    "print('names[-1] =              ', names[-1],'\\n')\n",
    "\n",
    "print('names[1:5] =             ', names[1:5])\n",
    "print('names[1:6:2] =           ', (names[1:6:2]))"
   ]
  },
  {
   "cell_type": "markdown",
   "metadata": {},
   "source": [
    "---"
   ]
  },
  {
   "cell_type": "markdown",
   "metadata": {},
   "source": [
    "# P9-5"
   ]
  },
  {
   "cell_type": "markdown",
   "metadata": {},
   "source": [
    "## List 是可變的資料型態\n",
    "><details>\n",
    "    <summary>image</summary>\n",
    "    <img src='./img/List_mutable.png' style= height:450px>\n",
    " </details>\n",
    "## 比較 mutable & immutable 資料型態\n",
    ">P3-10\n",
    "><details>\n",
    "    <summary>image</summary>\n",
    "    <img src='./img/py_reference.gif' style= height:450px>\n",
    " </details>"
   ]
  },
  {
   "cell_type": "code",
   "execution_count": 3,
   "metadata": {},
   "outputs": [
    {
     "name": "stdout",
     "output_type": "stream",
     "text": [
      "id of names :             2920488800768\n",
      "names[2]='Kevin' :        ['fraser', 'grace', 'Kevin', 'jess', 'jack', 23.5, 2019]\n",
      "id of names :             2920488800768\n"
     ]
    }
   ],
   "source": [
    "names=['fraser', 'grace', 'john', 'jess', 'jack', 23.5, 2019]\n",
    "print('id of names :            ', id(names))\n",
    "\n",
    "names[2]='Kevin'\n",
    "print(\"names[2]='Kevin' :       \", names) # 修改\n",
    "print('id of names :            ', id(names))"
   ]
  },
  {
   "cell_type": "code",
   "execution_count": 4,
   "metadata": {},
   "outputs": [
    {
     "name": "stdout",
     "output_type": "stream",
     "text": [
      "names[-1:]=[2000, 23.5] : ['fraser', 'grace', 'Kevin', 'jess', 'jack', 23.5, 2000, 23.5]\n",
      "id of names :             2920488800768\n"
     ]
    }
   ],
   "source": [
    "names[-1:]=[2000, 23.5] # 一次改兩筆資料\n",
    "print('names[-1:]=[2000, 23.5] :', names) #list 可增加直接擴大\n",
    "\n",
    "print('id of names :            ', id(names))"
   ]
  },
  {
   "cell_type": "markdown",
   "metadata": {},
   "source": [
    "---"
   ]
  },
  {
   "cell_type": "markdown",
   "metadata": {},
   "source": [
    "# P9-6\n",
    "## List裡的內容可以放入任何型態 &rArr; List裡面就可以放入多層次的資料\n",
    "> <img src=\"./img/listNested.png\">"
   ]
  },
  {
   "cell_type": "code",
   "execution_count": 5,
   "metadata": {},
   "outputs": [
    {
     "name": "stdout",
     "output_type": "stream",
     "text": [
      "x[1] :       ['bb', ['ccc', 'ddd'], 'ee', 'ff']\n",
      "x[1][1] :    ['ccc', 'ddd']\n",
      "x[1][1][0] : ccc\n",
      "x[3] :       ['hh', 'ii']\n"
     ]
    }
   ],
   "source": [
    "x=['a', ['bb', ['ccc', 'ddd'], 'ee', 'ff'], 'g', ['hh', 'ii'], 'j']\n",
    "print('x[1] :      ', x[1])\n",
    "print('x[1][1] :   ', x[1][1])\n",
    "print('x[1][1][0] :', x[1][1][0])\n",
    "print('x[3] :      ', x[3])"
   ]
  },
  {
   "cell_type": "markdown",
   "metadata": {},
   "source": [
    "---"
   ]
  },
  {
   "cell_type": "markdown",
   "metadata": {},
   "source": [
    "# P9-8"
   ]
  },
  {
   "cell_type": "code",
   "execution_count": 6,
   "metadata": {},
   "outputs": [
    {
     "data": {
      "text/plain": [
       "[1, 2, 3, 4, 5, 6]"
      ]
     },
     "execution_count": 6,
     "metadata": {},
     "output_type": "execute_result"
    }
   ],
   "source": [
    "[1, 2, 3] + [4, 5, 6]"
   ]
  },
  {
   "cell_type": "code",
   "execution_count": 7,
   "metadata": {},
   "outputs": [
    {
     "data": {
      "text/plain": [
       "['Hi!', 'Hi!', 'Hi!', 'Hi!']"
      ]
     },
     "execution_count": 7,
     "metadata": {},
     "output_type": "execute_result"
    }
   ],
   "source": [
    "['Hi!'] * 4"
   ]
  },
  {
   "cell_type": "code",
   "execution_count": 8,
   "metadata": {},
   "outputs": [
    {
     "data": {
      "text/plain": [
       "True"
      ]
     },
     "execution_count": 8,
     "metadata": {},
     "output_type": "execute_result"
    }
   ],
   "source": [
    "30 in [10, 20, 30]"
   ]
  },
  {
   "cell_type": "code",
   "execution_count": 9,
   "metadata": {},
   "outputs": [
    {
     "name": "stdout",
     "output_type": "stream",
     "text": [
      "10 20 30 "
     ]
    }
   ],
   "source": [
    "a = [10, 20, 30]\n",
    "for x in a: \n",
    "    print (x, end = ' ')"
   ]
  },
  {
   "cell_type": "markdown",
   "metadata": {},
   "source": [
    "---"
   ]
  },
  {
   "cell_type": "markdown",
   "metadata": {},
   "source": [
    "# P9-12"
   ]
  },
  {
   "cell_type": "code",
   "execution_count": 10,
   "metadata": {},
   "outputs": [
    {
     "name": "stdout",
     "output_type": "stream",
     "text": [
      "lst =                        [20, 10, 30]\n",
      "len(lst) :                   3\n",
      "max(lst) :                   30\n",
      "min(lst) :                   10\n",
      "sum(lst) :                   60\n",
      "sorted(lst):                 [10, 20, 30]\n",
      "sorted(lst, reverse=True) :  [30, 20, 10]\n"
     ]
    }
   ],
   "source": [
    "lst=[20, 10, 30]\n",
    "\n",
    "print('lst =                       ', lst)\n",
    "print('len(lst) :                  ', len(lst))\n",
    "print('max(lst) :                  ', max(lst))\n",
    "print('min(lst) :                  ', min(lst))\n",
    "print('sum(lst) :                  ', sum(lst))\n",
    "print('sorted(lst):                ', sorted(lst))\n",
    "print('sorted(lst, reverse=True) : ', sorted(lst, reverse=True))"
   ]
  },
  {
   "cell_type": "code",
   "execution_count": 11,
   "metadata": {},
   "outputs": [
    {
     "data": {
      "text/plain": [
       "['a', 'b', 'c', 'd']"
      ]
     },
     "execution_count": 11,
     "metadata": {},
     "output_type": "execute_result"
    }
   ],
   "source": [
    "list('abcd')"
   ]
  },
  {
   "cell_type": "markdown",
   "metadata": {},
   "source": [
    "---"
   ]
  },
  {
   "cell_type": "markdown",
   "metadata": {},
   "source": [
    "# P9-14"
   ]
  },
  {
   "cell_type": "code",
   "execution_count": 12,
   "metadata": {},
   "outputs": [
    {
     "name": "stdout",
     "output_type": "stream",
     "text": [
      "id of a :                  2920488685696\n",
      "a.append(1) :              [4, 777, 444, 999, 11, 4, '1']\n",
      "a.count(4) :               2\n",
      "a.clear() :                []\n"
     ]
    }
   ],
   "source": [
    "a = [4, 777, 444, 999, 11, 4]\n",
    "\n",
    "print('id of a :                 ', id(a))\n",
    "\n",
    "a.append('1')\n",
    "print('a.append(1) :             ', a)\n",
    "\n",
    "b = a.count(4)\n",
    "print('a.count(4) :              ', b)\n",
    "\n",
    "a.clear()\n",
    "print('a.clear() :               ', a)"
   ]
  },
  {
   "cell_type": "markdown",
   "metadata": {},
   "source": [
    "## P4-9:\n",
    "<details>\n",
    "    <summary>image</summary>\n",
    "    <img src='./img/is_equal.png' style='height:400px'>\n",
    "</details>"
   ]
  },
  {
   "cell_type": "code",
   "execution_count": 13,
   "metadata": {},
   "outputs": [
    {
     "name": "stdout",
     "output_type": "stream",
     "text": [
      "li2 id: 2920488668352\n",
      "li1 id: 2920488698176\n",
      "li2 == li1: True\n",
      "li2 is li1: False\n"
     ]
    }
   ],
   "source": [
    "li1=[1,2]\n",
    "li2=li1.copy()\n",
    "print('li2 id:', id(li2))\n",
    "print('li1 id:', id(li1))\n",
    "print('li2 == li1:', li2==li1)\n",
    "print('li2 is li1:', li2 is li1) # 數值雖然相同, 但記憶體位置不同"
   ]
  },
  {
   "cell_type": "markdown",
   "metadata": {},
   "source": [
    "---"
   ]
  },
  {
   "cell_type": "markdown",
   "metadata": {},
   "source": [
    "# P9-15"
   ]
  },
  {
   "cell_type": "code",
   "execution_count": 14,
   "metadata": {},
   "outputs": [
    {
     "name": "stdout",
     "output_type": "stream",
     "text": [
      "a.extend(b) :              [4, 777, 444, 999, 11, 45, 999, 66, 88, 73, 'aa', 'bb', 'cc']\n",
      "a.index(999) :             3\n",
      "a.insert(5, 555) :         [4, 777, 444, 999, 11, 555, 45, 999, 66, 88, 73, 'aa', 'bb', 'cc']\n",
      "a.pop() :                  [4, 777, 444, 999, 11, 555, 45, 999, 66, 88, 73, 'aa', 'bb']\n",
      "a.pop(4) :                 [4, 777, 444, 999, 555, 45, 999, 66, 88, 73, 'aa', 'bb']\n"
     ]
    }
   ],
   "source": [
    "a = [4, 777, 444, 999, 11, 45, 999, 66, 88, 73]\n",
    "b = ['aa', 'bb', 'cc']\n",
    "a.extend(b)\n",
    "print('a.extend(b) :             ', a)\n",
    "\n",
    "print('a.index(999) :            ', a.index(999))\n",
    "\n",
    "a.insert(5, 555)\n",
    "print('a.insert(5, 555) :        ', a)\n",
    "\n",
    "a.pop()                                       #刪除\n",
    "print('a.pop() :                 ', a)        \n",
    "\n",
    "a.pop(4)                                      #刪除\n",
    "print('a.pop(4) :                ', a)"
   ]
  },
  {
   "cell_type": "code",
   "execution_count": 15,
   "metadata": {},
   "outputs": [
    {
     "name": "stdout",
     "output_type": "stream",
     "text": [
      "73\n",
      "[4, 777, 444, 999, 11, 45, 999, 66, 88]\n",
      "88\n",
      "[4, 777, 444, 999, 11, 45, 999, 66]\n"
     ]
    }
   ],
   "source": [
    "a = [4, 777, 444, 999, 11, 45, 999, 66, 88, 73]\n",
    "\n",
    "b = a.pop()\n",
    "print(b)\n",
    "print(a)\n",
    "\n",
    "c = a.pop()\n",
    "print(c)\n",
    "print(a)"
   ]
  },
  {
   "cell_type": "code",
   "execution_count": 16,
   "metadata": {},
   "outputs": [
    {
     "data": {
      "text/plain": [
       "[1, 2, 3, 4]"
      ]
     },
     "execution_count": 16,
     "metadata": {},
     "output_type": "execute_result"
    }
   ],
   "source": [
    "x=[1,2]\n",
    "y=[3,4]\n",
    "x[len(x):]=y\n",
    "x"
   ]
  },
  {
   "cell_type": "markdown",
   "metadata": {},
   "source": [
    "---"
   ]
  },
  {
   "cell_type": "markdown",
   "metadata": {},
   "source": [
    "# P9-16"
   ]
  },
  {
   "cell_type": "code",
   "execution_count": 17,
   "metadata": {},
   "outputs": [
    {
     "name": "stdout",
     "output_type": "stream",
     "text": [
      "a.remove(11) :           [4, 777, 444, 999, 45, 66, 88, 73] \n",
      "\n",
      "a.reverse :                [73, 88, 66, 45, 999, 444, 777, 4]\n"
     ]
    }
   ],
   "source": [
    "a = [4, 777, 444, 999, 11, 45, 66, 88, 73]\n",
    "\n",
    "a.remove(11)                                #刪除\n",
    "print('a.remove(11) :          ', a, '\\n')\n",
    "\n",
    "a.reverse()\n",
    "print('a.reverse :               ', a)"
   ]
  },
  {
   "cell_type": "code",
   "execution_count": 18,
   "metadata": {},
   "outputs": [
    {
     "data": {
      "text/plain": [
       "['He', 'saw', 'rich', 'foxes', 'active']"
      ]
     },
     "execution_count": 18,
     "metadata": {},
     "output_type": "execute_result"
    }
   ],
   "source": [
    "b = ['saw', 'active', 'He', 'foxes', 'rich']\n",
    "b.sort(key=len)  # length\n",
    "b"
   ]
  },
  {
   "cell_type": "code",
   "execution_count": 19,
   "metadata": {},
   "outputs": [
    {
     "name": "stdout",
     "output_type": "stream",
     "text": [
      "['He', 'rich', 'active', 'saw', 'foxes']\n",
      "e r v w x\n"
     ]
    }
   ],
   "source": [
    "b.sort(key=max)\n",
    "print(b)\n",
    "print(max('He'),max('rich'),max('active'),max('saw'),max('foxes'))"
   ]
  },
  {
   "cell_type": "markdown",
   "metadata": {},
   "source": [
    "---"
   ]
  },
  {
   "cell_type": "markdown",
   "metadata": {},
   "source": [
    "# &spades; 補充\n",
    "<img src='./img/list_reference.png' style='height:400px'>"
   ]
  },
  {
   "cell_type": "code",
   "execution_count": 20,
   "metadata": {},
   "outputs": [
    {
     "name": "stdout",
     "output_type": "stream",
     "text": [
      "2920489095104 2920489095104\n",
      "['fraser', 'grace', 'Kevin', 'jess', 'jack', 23.5, 2019]\n"
     ]
    }
   ],
   "source": [
    "names=['fraser', 'grace', 'john', 'jess', 'jack', 23.5, 2019]\n",
    "names2 = names\n",
    "print(id(names),id(names2))\n",
    "\n",
    "names2[2]='Kevin' # 更改names2，但是因為names2與names是參考到同一個記憶體位置，所以names會一起被修改。\n",
    "print(names)         "
   ]
  }
 ],
 "metadata": {
  "kernelspec": {
   "display_name": "Python 3",
   "language": "python",
   "name": "python3"
  },
  "language_info": {
   "codemirror_mode": {
    "name": "ipython",
    "version": 3
   },
   "file_extension": ".py",
   "mimetype": "text/x-python",
   "name": "python",
   "nbconvert_exporter": "python",
   "pygments_lexer": "ipython3",
   "version": "3.8.5"
  }
 },
 "nbformat": 4,
 "nbformat_minor": 2
}
