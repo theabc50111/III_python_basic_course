{
 "cells": [
  {
   "cell_type": "markdown",
   "metadata": {},
   "source": [
    "#  <font color=red> Module_13_function</font>"
   ]
  },
  {
   "cell_type": "markdown",
   "metadata": {},
   "source": [
    "# P9-1\n",
    "## 使用函數/函式的好處 :\n",
    ">### 程式碼重複使用\n",
    ">### 功能切割，模組化，結構化\n",
    ">### 簡化程式提高程式的可讀性\n",
    ">### 易於維護及管理\n",
    "## 之前的章節提到各種內建的Function與不同資料型別的Method，有時會把Function與Method兩個詞混用\n",
    "><details>\n",
    "    <summary>illustrator</summary>\n",
    "    <img src='./img/method_func.png' style='height:300px'>\n",
    " </details>"
   ]
  },
  {
   "cell_type": "code",
   "execution_count": null,
   "metadata": {},
   "outputs": [],
   "source": [
    "S='hello'\n",
    "S.upper()\n",
    "len(S)"
   ]
  },
  {
   "cell_type": "markdown",
   "metadata": {},
   "source": [
    "---"
   ]
  },
  {
   "cell_type": "markdown",
   "metadata": {},
   "source": [
    "# P9-4\n",
    "<img src='./img/main_func2.png' style='height:400px'>"
   ]
  },
  {
   "cell_type": "code",
   "execution_count": null,
   "metadata": {},
   "outputs": [],
   "source": [
    "# Function definition\n",
    "def make_a_sound():\n",
    "    print('quack')\n",
    "\n",
    "# main function    \n",
    "make_a_sound() # Call function \n",
    "print('-'*30)\n",
    "for i in range(3):\n",
    "    make_a_sound()"
   ]
  },
  {
   "cell_type": "markdown",
   "metadata": {},
   "source": [
    "###  如果函數內沒有明確的使用 return 敘述，預設為 “return None”"
   ]
  },
  {
   "cell_type": "code",
   "execution_count": null,
   "metadata": {},
   "outputs": [],
   "source": [
    "def sum_num(num1,num2):\n",
    "    print(\"In funcion:\",num1+num2)\n",
    "\n",
    "print('output of sum_num(5,6) :', sum_num(5,6))"
   ]
  },
  {
   "cell_type": "markdown",
   "metadata": {},
   "source": [
    "### 比較使用return 與沒有 return的差別"
   ]
  },
  {
   "cell_type": "code",
   "execution_count": null,
   "metadata": {},
   "outputs": [],
   "source": [
    "def sum_num_ret(num1, num2):\n",
    "    print(\"In funcion:\",num1+num2)\n",
    "    return num1+num2\n",
    "\n",
    "# main function\n",
    "print('output of sum_num(5,6) :', sum_num_ret(5,6))"
   ]
  },
  {
   "cell_type": "code",
   "execution_count": null,
   "metadata": {},
   "outputs": [],
   "source": [
    "def sum_num_ret(num1, num2):\n",
    "    print(\"In funcion:\",num1+num2)\n",
    "    return num1+num2\n",
    "\n",
    "# main function\n",
    "sum_num_ret(5, 6)\n",
    "a = sum_num_ret(7, 8)\n",
    "print(a)"
   ]
  },
  {
   "cell_type": "code",
   "execution_count": null,
   "metadata": {},
   "outputs": [],
   "source": [
    "a = [1,2,3,4]\n",
    "b = a.pop()\n",
    "print(a,b)"
   ]
  },
  {
   "cell_type": "code",
   "execution_count": null,
   "metadata": {},
   "outputs": [],
   "source": [
    "a = print('abc')\n",
    "print(a)"
   ]
  },
  {
   "cell_type": "code",
   "execution_count": null,
   "metadata": {},
   "outputs": [],
   "source": [
    "# Function definition\n",
    "def printme(pstr):\n",
    "    print(pstr)\n",
    "\n",
    "def sum_nums(n1, n2):\n",
    "    return n1+n2\n",
    "    \n",
    "# Call function\n",
    "printme('Hello Python') #'Hello Python' is an argument for printme()\n",
    "printme('Python Programming')\n",
    "\n",
    "total = sum_nums(35,20)\n",
    "print('sum of 35+20 :',total)\n",
    "print('sum of 40+50 :',sum_nums(40,50))"
   ]
  },
  {
   "cell_type": "markdown",
   "metadata": {},
   "source": [
    "### 可以使用元組(tuple) 格式傳回多個資料"
   ]
  },
  {
   "cell_type": "code",
   "execution_count": null,
   "metadata": {},
   "outputs": [],
   "source": [
    "def sum_num2(num1,num2):\n",
    "    sum_num = num1+num2\n",
    "    multi_num = num1*num2\n",
    "    return sum_num, multi_num\n",
    "\n",
    "a,b = sum_num2(5,6)\n",
    "print(a,b)"
   ]
  },
  {
   "cell_type": "markdown",
   "metadata": {},
   "source": [
    "---"
   ]
  },
  {
   "cell_type": "markdown",
   "metadata": {},
   "source": [
    "# P9-21\n",
    "## Python語言有兩種變數的可見度\n",
    "### - 在函數內的變數稱為區域變數\n",
    "### - 在函數之外的變數稱為全域變數\n",
    ">### (1) 最外面的範疇即全域範疇，識別字有 foo。\n",
    ">### (2) 中間的範疇是在 foo 裡面，識別字有 a、b、bar、foo。\n",
    ">### (3) 最裡面的範疇是在 bar 裡面，識別字只有 a、b、c、bar、foo。\n",
    "><img src='./img/variable_scope.png' style='height:400px'>"
   ]
  },
  {
   "cell_type": "code",
   "execution_count": null,
   "metadata": {},
   "outputs": [],
   "source": [
    "def foo(a):\n",
    "    b = a * 2\n",
    "    def bar(c):\n",
    "        print(a,b,c)\n",
    "    bar(b*3)\n",
    "\n",
    "foo(2)"
   ]
  },
  {
   "cell_type": "markdown",
   "metadata": {},
   "source": [
    "---"
   ]
  },
  {
   "cell_type": "markdown",
   "metadata": {},
   "source": [
    "# P9-22"
   ]
  },
  {
   "cell_type": "markdown",
   "metadata": {},
   "source": [
    "### 函數可以直接參考全域變數"
   ]
  },
  {
   "cell_type": "code",
   "execution_count": null,
   "metadata": {},
   "outputs": [],
   "source": [
    "a = 'A' # global\n",
    "def func1():\n",
    "    print(a)\n",
    "\n",
    "func1()"
   ]
  },
  {
   "cell_type": "markdown",
   "metadata": {},
   "source": [
    "###  如果函數內有指定㇐個值給變數，該變數則自動視為區域變數，<font color =red>區域變數只能在該函數內存取</font>"
   ]
  },
  {
   "cell_type": "code",
   "execution_count": null,
   "metadata": {},
   "outputs": [],
   "source": [
    "def fun2():\n",
    "    b='Hi!!!!'\n",
    "    print(b)\n",
    "\n",
    "fun2()\n",
    "print(b)"
   ]
  },
  {
   "cell_type": "markdown",
   "metadata": {},
   "source": [
    "### 假如區域與全域變數同名，區域變數會蓋掉全域變數(在函數內)"
   ]
  },
  {
   "cell_type": "code",
   "execution_count": null,
   "metadata": {},
   "outputs": [],
   "source": [
    "# Function definition\n",
    "def sum_data(arg1, arg2):\n",
    "    total  = arg1 + arg2; # total is local variable\n",
    "    print('In function local total :', total)\n",
    "\n",
    "# MAIN    \n",
    "# Call function\n",
    "\n",
    "# Using global variable\n",
    "total = 0   # This is global variable\n",
    "\n",
    "sum_data(10, 20)\n",
    "\n",
    "\n",
    "print('Outside function global total :', total)"
   ]
  },
  {
   "cell_type": "markdown",
   "metadata": {},
   "source": [
    "### 如果函數內有指定㇐個值給變數，該變數則自動視為區域變數，除非明確使用 “global” 關鍵字宣告該變數為全域變數"
   ]
  },
  {
   "cell_type": "code",
   "execution_count": null,
   "metadata": {},
   "outputs": [],
   "source": [
    "def func3():\n",
    "    global c \n",
    "    c = 'Hi!!'\n",
    "    print(c)\n",
    "\n",
    "func3()\n",
    "print('outside function:',c)"
   ]
  },
  {
   "cell_type": "code",
   "execution_count": null,
   "metadata": {},
   "outputs": [],
   "source": [
    "c = 'Hello'\n",
    "def func3():\n",
    "    global c \n",
    "    c = 'Hi!!'\n",
    "    print(f'inside function c is : {c}')\n",
    "\n",
    "print(f'before call func3, c is : {c}')\n",
    "func3()\n",
    "print(f'after call func3, outside c is : {c}')"
   ]
  },
  {
   "cell_type": "markdown",
   "metadata": {},
   "source": [
    "### 全域變數可以在整個程式內使用，包含<font color=red>函數</font>"
   ]
  },
  {
   "cell_type": "code",
   "execution_count": null,
   "metadata": {},
   "outputs": [],
   "source": [
    "a = 2\n",
    "def add_2(x):\n",
    "    return x+a # 可以使用a，因為全域變數可以在整個程式內使用\n",
    "\n",
    "def multiply1(x,y):\n",
    "    print(x*add_2(y)) # 可以使用add_2()，因為全域範圍定義的函數可以在整個程式內使用\n",
    "\n",
    "multiply1(10,7)"
   ]
  },
  {
   "cell_type": "markdown",
   "metadata": {},
   "source": [
    "---"
   ]
  },
  {
   "cell_type": "markdown",
   "metadata": {},
   "source": [
    "# P9-24"
   ]
  },
  {
   "cell_type": "code",
   "execution_count": null,
   "metadata": {},
   "outputs": [],
   "source": [
    "def spam():\n",
    "    global eggs\n",
    "    eggs = 'spam'    # this is the global\n",
    "    \n",
    "def bacon():\n",
    "    eggs = 'bacon'   # this is a local\n",
    "    \n",
    "def ham():\n",
    "    print(eggs)  # this is the global\n",
    "\n",
    "# MAIN\n",
    "eggs = 42        # this is the global\n",
    "\n",
    "ham()\n",
    "\n",
    "bacon()\n",
    "print(eggs)      # 42\n",
    "\n",
    "spam()\n",
    "print(eggs)      # spam\n",
    "\n",
    "ham()            # spam"
   ]
  },
  {
   "cell_type": "markdown",
   "metadata": {},
   "source": [
    "---"
   ]
  },
  {
   "cell_type": "markdown",
   "metadata": {},
   "source": [
    "# P9-5"
   ]
  },
  {
   "cell_type": "markdown",
   "metadata": {},
   "source": [
    "# Assignment 只是建立物件的參考(References to objects)，Python中的reference就是 C語言的指標\n",
    "><details>\n",
    "    <summary>illustrator</summary>\n",
    "    <img src='./img/py_c_pointer.gif' style='height:400px'>\n",
    " </details>"
   ]
  },
  {
   "cell_type": "markdown",
   "metadata": {},
   "source": [
    "---"
   ]
  },
  {
   "cell_type": "markdown",
   "metadata": {},
   "source": [
    "# P9-6"
   ]
  },
  {
   "cell_type": "markdown",
   "metadata": {},
   "source": [
    "### Python 的 pass by assignment 還是使用C的Call-by-value的風格\n",
    "##### 其實Python傳參數還是使用C的Call-by-value的風格，只是為了說明Python沒有類似C++的Call-by-reference風格，所以才解釋為Pass-by-Assignment。\n",
    "##### Python傳參數時，傳遞的是變數的參考，而非傳遞數值本身\n",
    "<details>\n",
    "    <summary>before change</summary>\n",
    "    <img src='./img/pass_by_assignment1_1.png' style='height:400px'>\n",
    "</details>\n",
    "<details>\n",
    "    <summary>after change</summary>\n",
    "    <img src='./img/pass_by_assignment1_2.png' style='height:400px'>\n",
    " </details>"
   ]
  },
  {
   "cell_type": "code",
   "execution_count": null,
   "metadata": {},
   "outputs": [],
   "source": [
    "# Function definition\n",
    "def changeme(myvar):\n",
    "    print('In function, before change:', myvar)\n",
    "    myvar = 50\n",
    "    print('In function, after change:', myvar)\n",
    "    \n",
    "# main function\n",
    "myvar = 20\n",
    "changeme(myvar) # Call function\n",
    "print('Outside function:', myvar)"
   ]
  },
  {
   "cell_type": "markdown",
   "metadata": {},
   "source": [
    "---"
   ]
  },
  {
   "cell_type": "markdown",
   "metadata": {},
   "source": [
    "# P9-7"
   ]
  },
  {
   "cell_type": "markdown",
   "metadata": {},
   "source": [
    "### Python的List 類似 C 的指標陣列(array of pointer)\n",
    "<details>\n",
    "    <summary>illustrator</summary>\n",
    "    <img src='./img/pointers_array.png' style='height:500px'>\n",
    "</details>"
   ]
  },
  {
   "cell_type": "markdown",
   "metadata": {},
   "source": [
    "### pass by assignment for mutable data\n",
    "<details>\n",
    "    <summary>before change</summary>\n",
    "    <img src='./img/pass_by_assignment_mutable1_1.png' style='height:400px'>\n",
    "</details>\n",
    "<details>\n",
    "    <summary>after change</summary>\n",
    "    <img src='./img/pass_by_assignment_mutable1_2.png' style='height:400px'>\n",
    "</details>\n",
    "\n"
   ]
  },
  {
   "cell_type": "code",
   "execution_count": null,
   "metadata": {},
   "outputs": [],
   "source": [
    "# Function definition\n",
    "def changeme(mylist):\n",
    "    print('In function, before change:', mylist)\n",
    "    mylist[1] = 50\n",
    "    print('In function, after change:', mylist)\n",
    "\n",
    "# Call function\n",
    "mylist = [10,20,30]\n",
    "changeme(mylist)\n",
    "print('Outside function:',mylist)"
   ]
  },
  {
   "cell_type": "markdown",
   "metadata": {},
   "source": [
    "---"
   ]
  },
  {
   "cell_type": "markdown",
   "metadata": {},
   "source": [
    "# P9-9 位置引數"
   ]
  },
  {
   "cell_type": "code",
   "execution_count": null,
   "metadata": {},
   "outputs": [],
   "source": [
    "def my_function(x, y):\n",
    "    print(f'x : {x}')\n",
    "    print(f'y : {y}')\n",
    "\n",
    "my_function(5, 6) # 位置引數的接收順序一一對照參數的順序傳給函數"
   ]
  },
  {
   "cell_type": "code",
   "execution_count": null,
   "metadata": {},
   "outputs": [],
   "source": [
    "my_function(5) # 位置引數的數量與函式的參數數量不一致"
   ]
  },
  {
   "cell_type": "code",
   "execution_count": null,
   "metadata": {},
   "outputs": [],
   "source": [
    "# Function definition\n",
    "def area(length,width): # two parametersa\n",
    "    return length*width\n",
    "\n",
    "# MAIN\n",
    "# Call function\n",
    "result = area(15,8) # two require arguments\n",
    "print('Area =',result)"
   ]
  },
  {
   "cell_type": "markdown",
   "metadata": {},
   "source": [
    "---"
   ]
  },
  {
   "cell_type": "markdown",
   "metadata": {},
   "source": [
    "# P9-10 keyword arguments"
   ]
  },
  {
   "cell_type": "code",
   "execution_count": null,
   "metadata": {},
   "outputs": [],
   "source": [
    "# 關鍵字引數\n",
    "# Function definition\n",
    "def my_function(x, y):\n",
    "    print(f'x : {x}')\n",
    "    print(f'y : {y}')\n",
    "\n",
    "my_function(y = 6, x = 5) # key-word arguments ,可以不需依照順序傳引數，而是使用引數名稱(x、y)來傳遞引數值"
   ]
  },
  {
   "cell_type": "code",
   "execution_count": null,
   "metadata": {},
   "outputs": [],
   "source": [
    "# 關鍵字引數\n",
    "# Function definition\n",
    "def printinfo(dbname, port):\n",
    "    print('DB Name:', dbname)\n",
    "    print('Port:', port)\n",
    "\n",
    "# Call function\n",
    "printinfo('MSSQL', 1433)    # required arguments\n",
    "printinfo(port=3306, dbname='MySQL') # key-word arguments ,可以不需依照順序傳引數，而是使用引數名稱(port、dbname)來傳遞引數值"
   ]
  },
  {
   "cell_type": "code",
   "execution_count": null,
   "metadata": {},
   "outputs": [],
   "source": [
    "print?"
   ]
  },
  {
   "cell_type": "code",
   "execution_count": null,
   "metadata": {},
   "outputs": [],
   "source": [
    "print('ABC',end=' ') # 'ABC'就是位置引數，end就是關鍵字引數 "
   ]
  },
  {
   "cell_type": "markdown",
   "metadata": {},
   "source": [
    "---"
   ]
  },
  {
   "cell_type": "markdown",
   "metadata": {},
   "source": [
    "# P9-12 default arguments"
   ]
  },
  {
   "cell_type": "code",
   "execution_count": null,
   "metadata": {},
   "outputs": [],
   "source": [
    "# Function definition\n",
    "def printinfo(tblname, dbname='MySQL', port=3306):\n",
    "    print('Table Name:', tblname)\n",
    "    print('DB Name:', dbname)\n",
    "    print('Port:', port)\n",
    "\n",
    "printinfo('person') # 1 positional argument, two default arguments\n",
    "printinfo(tblname='person') # 1 keyword argument,  two default arguments"
   ]
  },
  {
   "cell_type": "code",
   "execution_count": null,
   "metadata": {},
   "outputs": [],
   "source": [
    "printinfo(port=3330, tblname='products') # 2 keyword arguments, one of them has default value, but is covered by the new given value. the last one is default arguments"
   ]
  },
  {
   "cell_type": "code",
   "execution_count": null,
   "metadata": {},
   "outputs": [],
   "source": [
    "printinfo('person', 'MSSQL', 1433) # 3 positional arguments, two of them have default value, but they are covered by the new given value"
   ]
  },
  {
   "cell_type": "code",
   "execution_count": null,
   "metadata": {},
   "outputs": [],
   "source": [
    "printinfo('products', port=3330)  # 1 positional, 1 keyword arguments. the last one is default arguments"
   ]
  },
  {
   "cell_type": "code",
   "execution_count": null,
   "metadata": {},
   "outputs": [],
   "source": [
    "print?"
   ]
  },
  {
   "cell_type": "code",
   "execution_count": null,
   "metadata": {},
   "outputs": [],
   "source": [
    "print('ABC') # end 與 sep 都沒傳引數，使用預設值 => 預設引數"
   ]
  },
  {
   "cell_type": "markdown",
   "metadata": {},
   "source": [
    "---"
   ]
  },
  {
   "cell_type": "markdown",
   "metadata": {},
   "source": [
    "# P9-14 引數 錯誤用法"
   ]
  },
  {
   "cell_type": "code",
   "execution_count": null,
   "metadata": {},
   "outputs": [],
   "source": [
    "# required argument missing\n",
    "def printinfo(name, age=35):\n",
    "    print('Name:', name)\n",
    "    print('Age', age)\n",
    "\n",
    "printinfo()  # lack of required arg"
   ]
  },
  {
   "cell_type": "code",
   "execution_count": null,
   "metadata": {},
   "outputs": [],
   "source": [
    "# positional after keyword argument\n",
    "def printinfo(tblname, dbname='MySQL', port=3306):\n",
    "    print('Table Name:', tblname)\n",
    "    print('DB Name:', dbname)\n",
    "    print('Port:', port)\n",
    "    \n",
    "printinfo(port=8888, 'person')  # keyword argument has to be after required argument"
   ]
  },
  {
   "cell_type": "code",
   "execution_count": null,
   "metadata": {},
   "outputs": [],
   "source": [
    "# duplicate arguments  2 tblname\n",
    "def printinfo(tblname, dbname='MySQL', port=3306):\n",
    "    print('Table Name:', tblname)\n",
    "    print('DB Name:', dbname)\n",
    "    print('Port:', port)\n",
    "    \n",
    "printinfo('person', tblname='products')"
   ]
  },
  {
   "cell_type": "markdown",
   "metadata": {},
   "source": [
    "---"
   ]
  },
  {
   "cell_type": "markdown",
   "metadata": {},
   "source": [
    "# P9-15 不固定長引數"
   ]
  },
  {
   "cell_type": "code",
   "execution_count": null,
   "metadata": {},
   "outputs": [],
   "source": [
    "# 在參數前面加上一個*，就可以接收複數個引數，且數量可以不固定\n",
    "def person(name,age,*experience): \n",
    "    print(f'Hi {name}, you are {age} years old, you have work experience in {experience}')\n",
    "\n",
    "person('Nick', 18, 'CompanyA', 'CompanyB', 'CompanyC', 'CompanyD','CompanyE') # 'Nick'、18 is  position argumnets, 'CompanyA', 'CompanyB', 'CompanyC', 'CompanyD' is arbitrary arguments "
   ]
  },
  {
   "cell_type": "code",
   "execution_count": null,
   "metadata": {},
   "outputs": [],
   "source": [
    "def func(a,b=2,*c,d,e=3):\n",
    "    print(a,b,c,d,e)\n",
    "\n",
    "func(6,5,4,3,2,1,d=10)\n",
    "func(6,5,4,3,2,1,d=10,e=8)\n",
    "func(8,d=10)\n",
    "# func(6,5,4,3,2,1,e=8,b=9,d=10)\n",
    "# func(1,b=9,2,3,4,5,6,d=10)\n",
    "# func(8,7,6,5,4,8)"
   ]
  },
  {
   "cell_type": "code",
   "execution_count": null,
   "metadata": {},
   "outputs": [],
   "source": [
    "# Function definition\n",
    "# 在參數前面加上一個*，就可以接收複數個引數，且數量可以不固定\n",
    "def printinfo(arg1, *vartuple):\n",
    "    print('Output is: ')\n",
    "    print('first:',arg1)\n",
    "    print('the rest of args :', vartuple)\n",
    "    for var in vartuple:\n",
    "        print(var)\n",
    "    print()\n",
    "    \n",
    "# MAIN\n",
    "# Call function\n",
    "printinfo(10)\n",
    "printinfo(70, 60, 50) # 70 is a position argumnet, 60、50 is arbitrary arguments "
   ]
  },
  {
   "cell_type": "markdown",
   "metadata": {},
   "source": [
    "---"
   ]
  },
  {
   "cell_type": "markdown",
   "metadata": {},
   "source": [
    "# P9-17"
   ]
  },
  {
   "cell_type": "code",
   "execution_count": null,
   "metadata": {},
   "outputs": [],
   "source": [
    "def func(arg1,arg2):\n",
    "    return arg1+arg2\n",
    "\n",
    "a = func(5,6)\n",
    "print(a)"
   ]
  },
  {
   "cell_type": "code",
   "execution_count": null,
   "metadata": {},
   "outputs": [],
   "source": [
    "sum_data = lambda arg1, arg2 : arg1+arg2   # 這個Lambda函數沒有名字，只是用了㇐個變數(sum_data)去參考這個Lambda函數\n",
    "print(sum_data(10, 20))"
   ]
  },
  {
   "cell_type": "markdown",
   "metadata": {},
   "source": [
    "---"
   ]
  },
  {
   "cell_type": "markdown",
   "metadata": {},
   "source": [
    "# P9-19"
   ]
  },
  {
   "cell_type": "code",
   "execution_count": null,
   "metadata": {},
   "outputs": [],
   "source": [
    "def func(x):\n",
    "    return x[3]\n",
    "\n",
    "lis1=['Mr.Tsao','Mr.Cheng','Mr.Lin','Mr.Wang','Mr.GAO','Mr.XIAO']\n",
    "lis1.sort(key=func) # P9-16\n",
    "lis1"
   ]
  },
  {
   "cell_type": "code",
   "execution_count": null,
   "metadata": {},
   "outputs": [],
   "source": [
    "lis1=['Mr.Tsao','Mr.Cheng','Mr.Lin','Mr.Wang','Mr.GAO','Mr.XIAO']\n",
    "lis1.sort(key=lambda x:x[3]) # P9-16\n",
    "lis1"
   ]
  },
  {
   "cell_type": "code",
   "execution_count": null,
   "metadata": {},
   "outputs": [],
   "source": [
    "# function: return sum of two values\n",
    "def sum_data(a, b):\n",
    "    return a+b\n",
    "    \n",
    "# function: using function as parameter    \n",
    "def operate_on(x, y, func):\n",
    "    return func(x, y)\n",
    "\n",
    "# MAIN\n",
    "r = operate_on(16,20,sum_data)   # call function\n",
    "print('operate_on(16,20,sum_data) =',r)\n",
    "          \n",
    "r = operate_on(10,40,lambda a,b:a-b)   # with anonymous function\n",
    "print('operate_on(10,40,Lambda_function) =', r)"
   ]
  },
  {
   "cell_type": "markdown",
   "metadata": {},
   "source": [
    "---"
   ]
  },
  {
   "cell_type": "markdown",
   "metadata": {},
   "source": [
    "# &spades; 補充\n",
    "## <a href='https://docs.python.org/3/faq/programming.html#how-do-i-write-a-function-with-output-parameters-call-by-reference'>How do I write a function with output parameters (call by reference)?</a>"
   ]
  },
  {
   "cell_type": "code",
   "execution_count": null,
   "metadata": {},
   "outputs": [],
   "source": [
    "def func2(a, b): \n",
    "    a = 'new-value' # a and b are local names\n",
    "    b = b + 1 # assigned to new objects\n",
    "    return a, b # return new valuesx, y = 'old-value', 99\n",
    "\n",
    "x, y = 'old-value', 99 # x and y are aliasees of 'old-value' and 99\n",
    "w, z = func2(x, y)\n",
    "print(w, z) # output: new-value 100"
   ]
  },
  {
   "cell_type": "markdown",
   "metadata": {},
   "source": [
    "---"
   ]
  },
  {
   "cell_type": "markdown",
   "metadata": {},
   "source": [
    "### 使用help() 或者 ?(Jupyter notebook的功能) 尋找函式的說明(document string)"
   ]
  },
  {
   "cell_type": "code",
   "execution_count": null,
   "metadata": {},
   "outputs": [],
   "source": [
    "def func1():\n",
    "    \"\"\"print python world\"\"\" # document string\n",
    "    print('python world')"
   ]
  },
  {
   "cell_type": "code",
   "execution_count": null,
   "metadata": {},
   "outputs": [],
   "source": [
    "help(func1)"
   ]
  },
  {
   "cell_type": "code",
   "execution_count": null,
   "metadata": {},
   "outputs": [],
   "source": [
    "func1?"
   ]
  },
  {
   "cell_type": "code",
   "execution_count": null,
   "metadata": {},
   "outputs": [],
   "source": [
    "print?"
   ]
  },
  {
   "cell_type": "markdown",
   "metadata": {},
   "source": [
    "### 變數 i 若沒有使用到，可使用底線 _ 代替，表示沒有使用到這個變數。"
   ]
  },
  {
   "cell_type": "code",
   "execution_count": null,
   "metadata": {},
   "outputs": [],
   "source": [
    "for _ in range(3):  #因為 i 沒用到\n",
    "    print('good')"
   ]
  },
  {
   "cell_type": "markdown",
   "metadata": {},
   "source": [
    "---"
   ]
  },
  {
   "cell_type": "markdown",
   "metadata": {},
   "source": [
    "### 函式參數設定順序:\n",
    "<pre><code>\n",
    "def f(pos1, pos2, /, pos_or_kwd, *, kwd1, kwd2):\n",
    "      -----------    ----------     ----------\n",
    "        |             |                  |\n",
    "        |        Positional or keyword   |\n",
    "        |                                - Keyword only\n",
    "         -- Positional only\n",
    "</code></pre>\n",
    "#### 函式參數設定順序注意事項:\n",
    ">- 擁有預設引數的參數必須要定義在一般參數之後\n",
    ">>- 這裡是指在以/ 、* 為界線，在這個界線內的參數必須符合這個條件:\n",
    "擁有預設引數的參數必須要定義在一般位置參數之後\n",
    ">- `/`Positional-only parameters前面只能擺擁有預設引數的參數、一般參數\n",
    ">- 定義參數時，`*`(Keyword-Only Arguments)  與 `*args`(Arbitrary Argument Lists) 只能存在其中一個\n",
    ">- `*args`(Arbitrary Argument Lists)後面的參數只能接收關鍵字引數(Keyword-Only Arguments)\n",
    ">- `**kwargs`必須定義在`*arg`之後 (`*`name must occur before `**`name)\n",
    "---\n",
    "### 引數設定順序⇒位置引數→關鍵字引數\n",
    ">### `func(a,b,d=500,c=600)`\n",
    "\n",
    "ref : \n",
    "- https://docs.python.org/3.8/tutorial/controlflow.html#special-parameters\n",
    "- https://docs.python.org/3.8/tutorial/controlflow.html#recap"
   ]
  }
 ],
 "metadata": {
  "kernelspec": {
   "display_name": "Python 3",
   "language": "python",
   "name": "python3"
  },
  "language_info": {
   "codemirror_mode": {
    "name": "ipython",
    "version": 3
   },
   "file_extension": ".py",
   "mimetype": "text/x-python",
   "name": "python",
   "nbconvert_exporter": "python",
   "pygments_lexer": "ipython3",
   "version": "3.6.9"
  }
 },
 "nbformat": 4,
 "nbformat_minor": 2
}
