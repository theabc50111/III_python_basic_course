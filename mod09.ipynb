{
 "cells": [
  {
   "cell_type": "markdown",
   "metadata": {},
   "source": [
    "#  <font color=red> Module_09_List</font>"
   ]
  },
  {
   "cell_type": "markdown",
   "metadata": {},
   "source": [
    "## List &rArr; 有序(sequence)、可變(mutable)\n",
    ">### <img src='./img/py_data_type.png'>"
   ]
  },
  {
   "cell_type": "code",
   "execution_count": 1,
   "metadata": {},
   "outputs": [
    {
     "name": "stdout",
     "output_type": "stream",
     "text": [
      "['a', 'b', 'c', 'd']\n",
      "['a', 'b', 'c', 'd']\n",
      "['bdse', 'aien', 2015, 2018]\n",
      "[]\n"
     ]
    }
   ],
   "source": [
    "list1 = ['a', 'b', 'c', 'd']\n",
    "print(list1)\n",
    "list2='a b c d'.split() # 講義P5-13\n",
    "print(list2)\n",
    "list3 = ['bdse', 'aien', 2015, 2018]\n",
    "print(list3)\n",
    "list4 = []\n",
    "print(list4)"
   ]
  },
  {
   "cell_type": "markdown",
   "metadata": {},
   "source": [
    "----"
   ]
  },
  {
   "cell_type": "markdown",
   "metadata": {},
   "source": [
    "# index\n",
    "><img src=\".\\img\\list.png\"  style='height:250px; width:650px'>"
   ]
  },
  {
   "cell_type": "code",
   "execution_count": null,
   "metadata": {},
   "outputs": [],
   "source": [
    "names=['fraser', 'grace', 'john', 'jess', 'jack', 23.5, 2019]\n",
    "print('names =                  ', names)\n",
    "print('names[0] =               ', names[0])\n",
    "print('names[0][0] =            ', names[0][0], '\\n')\n",
    "\n",
    "print('names[5] =               ', names[5])\n",
    "print('names[-1] =              ', names[-1],'\\n')\n",
    "\n",
    "print('names[1:5] =             ', names[1:5])\n",
    "print('names[1:6:2] =           ', (names[1:6:2]))"
   ]
  },
  {
   "cell_type": "markdown",
   "metadata": {},
   "source": [
    "---"
   ]
  },
  {
   "cell_type": "markdown",
   "metadata": {},
   "source": [
    "## List 是可變的資料型態\n",
    "><details>\n",
    "    <summary>image</summary>\n",
    "    <img src='./img/list_mutable.png' style= height:450px>\n",
    " </details>\n",
    "## 比較 mutable & immutable 資料型態\n",
    ">P3-10\n",
    "><details>\n",
    "    <summary>image</summary>\n",
    "    <img src='./img/py_reference.gif' style= height:450px>\n",
    " </details>"
   ]
  },
  {
   "cell_type": "code",
   "execution_count": null,
   "metadata": {},
   "outputs": [],
   "source": [
    "names=['fraser', 'grace', 'john', 'jess', 'jack', 23.5, 2019]\n",
    "print('id of names :            ', id(names))\n",
    "\n",
    "names[2]='Kevin'\n",
    "print(\"names[2]='Kevin' :       \", names) # 修改\n",
    "print('id of names :            ', id(names))"
   ]
  },
  {
   "cell_type": "code",
   "execution_count": null,
   "metadata": {},
   "outputs": [],
   "source": [
    "names[-1:]=[2000, 23.5] # 一次改兩筆資料\n",
    "print('names[-1:]=[2000, 23.5] :', names) #list 可增加直接擴大\n",
    "\n",
    "print('id of names :            ', id(names))"
   ]
  },
  {
   "cell_type": "markdown",
   "metadata": {},
   "source": [
    "---"
   ]
  },
  {
   "cell_type": "markdown",
   "metadata": {},
   "source": [
    "## List裡的內容可以放入任何型態 &rArr; List裡面就可以放入多層次的資料\n",
    "> <img src='./img/listNested.png'>"
   ]
  },
  {
   "cell_type": "code",
   "execution_count": null,
   "metadata": {},
   "outputs": [],
   "source": [
    "x=['a', ['bb', ['ccc', 'ddd'], 'ee', 'ff'], 'g', ['hh', 'ii'], 'j']\n",
    "print('x[1] :      ', x[1])\n",
    "print('x[1][1] :   ', x[1][1])\n",
    "print('x[1][1][0] :', x[1][1][0])\n",
    "print('x[3] :      ', x[3])"
   ]
  },
  {
   "cell_type": "markdown",
   "metadata": {},
   "source": [
    "---"
   ]
  },
  {
   "cell_type": "code",
   "execution_count": null,
   "metadata": {},
   "outputs": [],
   "source": [
    "[1, 2, 3] + [4, 5, 6]"
   ]
  },
  {
   "cell_type": "code",
   "execution_count": null,
   "metadata": {},
   "outputs": [],
   "source": [
    "['Hi!'] * 4"
   ]
  },
  {
   "cell_type": "code",
   "execution_count": null,
   "metadata": {},
   "outputs": [],
   "source": [
    "30 in [10, 20, 30]"
   ]
  },
  {
   "cell_type": "code",
   "execution_count": null,
   "metadata": {},
   "outputs": [],
   "source": [
    "a = [10, 20, 30]\n",
    "for x in a: \n",
    "    print (x, end = ' ')"
   ]
  },
  {
   "cell_type": "markdown",
   "metadata": {},
   "source": [
    "---"
   ]
  },
  {
   "cell_type": "code",
   "execution_count": null,
   "metadata": {},
   "outputs": [],
   "source": [
    "lst=[20, 10, 30]\n",
    "\n",
    "print('lst =                       ', lst)\n",
    "print('len(lst) :                  ', len(lst))\n",
    "print('max(lst) :                  ', max(lst))\n",
    "print('min(lst) :                  ', min(lst))\n",
    "print('sum(lst) :                  ', sum(lst))\n",
    "print('sorted(lst):                ', sorted(lst))\n",
    "print('sorted(lst, reverse=True) : ', sorted(lst, reverse=True))"
   ]
  },
  {
   "cell_type": "code",
   "execution_count": null,
   "metadata": {},
   "outputs": [],
   "source": [
    "list('abcd')"
   ]
  },
  {
   "cell_type": "markdown",
   "metadata": {},
   "source": [
    "---"
   ]
  },
  {
   "cell_type": "code",
   "execution_count": null,
   "metadata": {},
   "outputs": [],
   "source": [
    "a = [4, 777, 444, 999, 11, 4]\n",
    "\n",
    "print('id of a :                 ', id(a))\n",
    "\n",
    "a.append('1')\n",
    "print('a.append(1) :             ', a)\n",
    "\n",
    "b = a.count(4)\n",
    "print('a.count(4) :              ', b)\n",
    "\n",
    "a.clear()\n",
    "print('a.clear() :               ', a)"
   ]
  },
  {
   "cell_type": "markdown",
   "metadata": {},
   "source": [
    "<details>\n",
    "    <summary>image</summary>\n",
    "    <img src='./img/is_equal.png' style='height:400px'>\n",
    "</details>"
   ]
  },
  {
   "cell_type": "code",
   "execution_count": null,
   "metadata": {},
   "outputs": [],
   "source": [
    "li1=[1,2]\n",
    "li2=li1.copy()\n",
    "print('li2 id:', id(li2))\n",
    "print('li1 id:', id(li1))\n",
    "print('li2 == li1:', li2==li1)\n",
    "print('li2 is li1:', li2 is li1) # 數值雖然相同, 但記憶體位置不同"
   ]
  },
  {
   "cell_type": "markdown",
   "metadata": {},
   "source": [
    "---"
   ]
  },
  {
   "cell_type": "code",
   "execution_count": null,
   "metadata": {},
   "outputs": [],
   "source": [
    "a = [4, 777, 444, 999, 11, 45, 999, 66, 88, 73]\n",
    "b = ['aa', 'bb', 'cc']\n",
    "a.extend(b)\n",
    "print('a.extend(b) :             ', a)\n",
    "\n",
    "print('a.index(999) :            ', a.index(999))\n",
    "\n",
    "a.insert(5, 555)\n",
    "print('a.insert(5, 555) :        ', a)\n",
    "\n",
    "a.pop()                                       #刪除\n",
    "print('a.pop() :                 ', a)        \n",
    "\n",
    "a.pop(4)                                      #刪除\n",
    "print('a.pop(4) :                ', a)"
   ]
  },
  {
   "cell_type": "code",
   "execution_count": null,
   "metadata": {},
   "outputs": [],
   "source": [
    "a = [4, 777, 444, 999, 11, 45, 999, 66, 88, 73]\n",
    "\n",
    "b = a.pop()\n",
    "print(b)\n",
    "print(a)\n",
    "\n",
    "c = a.pop()\n",
    "print(c)\n",
    "print(a)"
   ]
  },
  {
   "cell_type": "code",
   "execution_count": null,
   "metadata": {},
   "outputs": [],
   "source": [
    "x=[1,2]\n",
    "y=[3,4]\n",
    "x[len(x):]=y\n",
    "x"
   ]
  },
  {
   "cell_type": "markdown",
   "metadata": {},
   "source": [
    "---"
   ]
  },
  {
   "cell_type": "code",
   "execution_count": null,
   "metadata": {},
   "outputs": [],
   "source": [
    "a = [4, 777, 444, 999, 11, 45, 66, 88, 73]\n",
    "\n",
    "a.remove(11)                                #刪除\n",
    "print('a.remove(11) :          ', a, '\\n')\n",
    "\n",
    "a.reverse()\n",
    "print('a.reverse :               ', a)"
   ]
  },
  {
   "cell_type": "code",
   "execution_count": null,
   "metadata": {},
   "outputs": [],
   "source": [
    "b = ['saw', 'active', 'He', 'foxes', 'rich']\n",
    "b.sort(key=len)  # length\n",
    "b"
   ]
  },
  {
   "cell_type": "code",
   "execution_count": null,
   "metadata": {},
   "outputs": [],
   "source": [
    "b.sort(key=max)\n",
    "print(b)\n",
    "print(max('He'),max('rich'),max('active'),max('saw'),max('foxes'))"
   ]
  },
  {
   "cell_type": "markdown",
   "metadata": {},
   "source": [
    "---"
   ]
  },
  {
   "cell_type": "markdown",
   "metadata": {},
   "source": [
    "# list comprehensions"
   ]
  },
  {
   "cell_type": "code",
   "execution_count": null,
   "metadata": {},
   "outputs": [],
   "source": [
    "S = []\n",
    "for x in range(10) :\n",
    "    x = x**2\n",
    "    S.append(x)\n",
    "S"
   ]
  },
  {
   "cell_type": "code",
   "execution_count": null,
   "metadata": {},
   "outputs": [],
   "source": [
    "S = [x**2 for x in range(10)]\n",
    "print(S)"
   ]
  },
  {
   "cell_type": "code",
   "execution_count": null,
   "metadata": {},
   "outputs": [],
   "source": [
    "V = [2**x for x in range(13)]\n",
    "M = [x for x in S if x % 2 == 0]\n",
    "print(V)\n",
    "print(M)"
   ]
  },
  {
   "cell_type": "code",
   "execution_count": null,
   "metadata": {},
   "outputs": [],
   "source": [
    "%%timeit\n",
    "# V = (1,2,4,8,...2**10)\n",
    "V=[]\n",
    "for n in range(11):\n",
    "    V +=[2**n]\n",
    "V"
   ]
  },
  {
   "cell_type": "code",
   "execution_count": null,
   "metadata": {},
   "outputs": [],
   "source": [
    "%%timeit\n",
    "# V = (1,2,4,8,...2**10)\n",
    "V = [2**n for n in range(11)]\n",
    "V"
   ]
  },
  {
   "cell_type": "code",
   "execution_count": null,
   "metadata": {},
   "outputs": [],
   "source": [
    "# for loop start\n",
    "#公元年分除以4可整除但公元年分除以100不可整除」\n",
    "#或「公元年分除以400可整除」\n",
    "leap_year=[]\n",
    "for i in range(1000, 2020):\n",
    "    if( ( i%4==0 and  i%100!=0) or (i%400== 0) ):\n",
    "        leap_year.append(i)\n",
    "print(leap_year)"
   ]
  },
  {
   "cell_type": "code",
   "execution_count": null,
   "metadata": {},
   "outputs": [],
   "source": [
    "leap_year1 = [i for i in range(1000,2020) if(( i%4==0 and  i%100!=0) or (i%400==0)) ]\n",
    "\n",
    "print(leap_year1)"
   ]
  },
  {
   "cell_type": "markdown",
   "metadata": {},
   "source": [
    "---"
   ]
  },
  {
   "cell_type": "markdown",
   "metadata": {},
   "source": [
    "# &spades; 補充\n",
    "<img src='./img/list_reference.png' style='height:400px'>"
   ]
  },
  {
   "cell_type": "code",
   "execution_count": null,
   "metadata": {},
   "outputs": [],
   "source": [
    "names=['fraser', 'grace', 'john', 'jess', 'jack', 23.5, 2019]\n",
    "names2 = names\n",
    "print(id(names),id(names2))\n",
    "\n",
    "names2[2]='Kevin' # 更改names2，但是因為names2與names是參考到同一個記憶體位置，所以names會一起被修改。\n",
    "print(names)         "
   ]
  }
 ],
 "metadata": {
  "kernelspec": {
   "display_name": "Python 3",
   "language": "python",
   "name": "python3"
  },
  "language_info": {
   "codemirror_mode": {
    "name": "ipython",
    "version": 3
   },
   "file_extension": ".py",
   "mimetype": "text/x-python",
   "name": "python",
   "nbconvert_exporter": "python",
   "pygments_lexer": "ipython3",
   "version": "3.8.5"
  }
 },
 "nbformat": 4,
 "nbformat_minor": 2
}
