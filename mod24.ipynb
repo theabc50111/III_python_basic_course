{
 "cells": [
  {
   "cell_type": "markdown",
   "metadata": {},
   "source": [
    "# Jieba"
   ]
  },
  {
   "cell_type": "code",
   "execution_count": 1,
   "metadata": {},
   "outputs": [
    {
     "name": "stderr",
     "output_type": "stream",
     "text": [
      "Building prefix dict from the default dictionary ...\n",
      "Loading model from cache C:\\Users\\user\\AppData\\Local\\Temp\\jieba.cache\n"
     ]
    },
    {
     "name": "stdout",
     "output_type": "stream",
     "text": [
      "輸入： 足球運動需要大家一起來推廣，歡迎加入我們的行列！\n",
      "精確模式： "
     ]
    },
    {
     "name": "stderr",
     "output_type": "stream",
     "text": [
      "Loading model cost 0.700 seconds.\n",
      "Prefix dict has been built successfully.\n"
     ]
    },
    {
     "name": "stdout",
     "output_type": "stream",
     "text": [
      "足球/運動/需要/大家/一起/來/推廣/，/歡迎/加入/我們/的/行列/！/\n",
      "全模式： 足球/運/動/需要/大家/一起/來/推/廣/，/歡/迎/加入/我/們/的/行列/！/\n",
      "搜索引擎模式： 足球/運動/需要/大家/一起/來/推廣/，/歡迎/加入/我們/的/行列/！/"
     ]
    }
   ],
   "source": [
    "'''\n",
    "\n",
    "pip install jieba\n",
    "\n",
    "精確模式 ：將句子最精確地切開，叫適合文本分析。\n",
    "寫法:words = jieba.cut(content, cut_all=False)\n",
    "\n",
    "全模式：把句子中所有的可以成詞的詞語都掃描出來, 速度快。\n",
    "寫法:words = jieba.cut(content, cut_all=True)\n",
    "\n",
    "搜索引擎模式：在精確模式的基礎上對長詞再次切分，提高召回率，適合用於搜尋引擎分詞。 寫法:jieba.cut_for_search(Content)\n",
    "\n",
    "\n",
    "'''\n",
    "\n",
    "import jieba\n",
    "\n",
    "sentence = \"足球運動需要大家一起來推廣，歡迎加入我們的行列！\"\n",
    "print(\"輸入： {}\".format(sentence))\n",
    "words1 = jieba.cut(sentence, cut_all=False)\n",
    "words2 = jieba.cut(sentence, cut_all=True)\n",
    "words3 = jieba.cut_for_search(sentence)\n",
    "\n",
    "print(\"精確模式：\", end=' ')\n",
    "for word in words1:\n",
    "    print(word+'/', end='')\n",
    "\n",
    "print('')\n",
    "\n",
    "print(\"全模式：\", end=' ')\n",
    "for word in words2:\n",
    "    print(word+'/', end='')\n",
    "\n",
    "print('')\n",
    "\n",
    "print(\"搜索引擎模式：\", end=' ')\n",
    "for word in words3:\n",
    "    print(word+'/', end='')"
   ]
  },
  {
   "cell_type": "code",
   "execution_count": 2,
   "metadata": {},
   "outputs": [
    {
     "name": "stdout",
     "output_type": "stream",
     "text": [
      "考試/即將/結束/\n",
      "考試/即將結束/"
     ]
    }
   ],
   "source": [
    "text = '考試即將結束'\n",
    "words1 = jieba.cut(text, cut_all=False)\n",
    "for word in words1:\n",
    "    print(word+'/', end='')\n",
    "\n",
    "print('')\n",
    "\n",
    "# 加入字詞 jieba.add_word(word, freq=None, tag=None)\n",
    "jieba.add_word('即將結束', freq=None, tag=None)\n",
    "\n",
    "# 載入自定義詞庫 jieba.load_userdict(file_path)\n",
    "jieba.load_userdict('dict.txt')\n",
    "\n",
    "words1 = jieba.cut(text, cut_all=False)\n",
    "for word in words1:\n",
    "    print(word+'/', end='')"
   ]
  },
  {
   "cell_type": "markdown",
   "metadata": {},
   "source": [
    "# Pillow"
   ]
  },
  {
   "cell_type": "code",
   "execution_count": 1,
   "metadata": {},
   "outputs": [
    {
     "name": "stdout",
     "output_type": "stream",
     "text": [
      "<PIL.JpegImagePlugin.JpegImageFile image mode=RGB size=210x158 at 0x17EF27EBD48>\n"
     ]
    }
   ],
   "source": [
    "from PIL import Image\n",
    "\n",
    "im = Image.open(\"cat.jpg\")\n",
    "print(im)\n",
    "im.save(\"test.png\")"
   ]
  },
  {
   "cell_type": "code",
   "execution_count": 2,
   "metadata": {},
   "outputs": [
    {
     "name": "stdout",
     "output_type": "stream",
     "text": [
      "(210, 158)\n",
      "(400, 200)\n"
     ]
    }
   ],
   "source": [
    "from PIL import Image\n",
    "\n",
    "im = Image.open(\"cat.jpg\")\n",
    "print(im.size)\n",
    "\n",
    "im.show()\n",
    "\n",
    "width = 400\n",
    "height = 200\n",
    "nim = im.resize( (width, height), Image.BILINEAR )\n",
    "print(nim.size)\n",
    "nim.save(\"cat_resized.jpg\")"
   ]
  },
  {
   "cell_type": "markdown",
   "metadata": {},
   "source": [
    "- Image.FLIP_LEFT_RIGHT (左右翻轉)\n",
    "- Image.FLIP_TOP_DOWN (上下翻轉)\n",
    "- Image.ROTATE_90 (旋轉90度)\n",
    "- Image.ROTATE_180 (旋轉180度)\n",
    "- Image.ROTATE_270 (旋轉270度)"
   ]
  },
  {
   "cell_type": "code",
   "execution_count": 2,
   "metadata": {},
   "outputs": [],
   "source": [
    "from PIL import Image\n",
    "\n",
    "img = Image.open(\"cat.jpg\")\n",
    "imgR = img.transpose(Image.ROTATE_180)\n",
    "imgR.save(\"cat_R180.jpg\")"
   ]
  },
  {
   "cell_type": "markdown",
   "metadata": {},
   "source": [
    "# Pytube"
   ]
  },
  {
   "cell_type": "code",
   "execution_count": 3,
   "metadata": {},
   "outputs": [
    {
     "ename": "ModuleNotFoundError",
     "evalue": "No module named 'pytube'",
     "output_type": "error",
     "traceback": [
      "\u001b[1;31m---------------------------------------------------------------------------\u001b[0m",
      "\u001b[1;31mModuleNotFoundError\u001b[0m                       Traceback (most recent call last)",
      "\u001b[1;32m<ipython-input-3-5d705b8373cf>\u001b[0m in \u001b[0;36m<module>\u001b[1;34m\u001b[0m\n\u001b[1;32m----> 1\u001b[1;33m \u001b[1;32mfrom\u001b[0m \u001b[0mpytube\u001b[0m \u001b[1;32mimport\u001b[0m \u001b[0mYouTube\u001b[0m\u001b[1;33m\u001b[0m\u001b[1;33m\u001b[0m\u001b[0m\n\u001b[0m\u001b[0;32m      2\u001b[0m \u001b[1;33m\u001b[0m\u001b[0m\n\u001b[0;32m      3\u001b[0m \u001b[0mlink\u001b[0m \u001b[1;33m=\u001b[0m \u001b[1;34m'https://www.youtube.com/watch?v=eIib9hh2UCE'\u001b[0m      \u001b[1;31m#想下載的影片連結\u001b[0m\u001b[1;33m\u001b[0m\u001b[1;33m\u001b[0m\u001b[0m\n\u001b[0;32m      4\u001b[0m \u001b[0mYouTube\u001b[0m\u001b[1;33m(\u001b[0m\u001b[0mlink\u001b[0m\u001b[1;33m)\u001b[0m\u001b[1;33m.\u001b[0m\u001b[0mstreams\u001b[0m\u001b[1;33m.\u001b[0m\u001b[0mget_highest_resolution\u001b[0m\u001b[1;33m(\u001b[0m\u001b[1;33m)\u001b[0m\u001b[1;33m.\u001b[0m\u001b[0mdownload\u001b[0m\u001b[1;33m(\u001b[0m\u001b[1;33m)\u001b[0m \u001b[1;31m#下載影片\u001b[0m\u001b[1;33m\u001b[0m\u001b[1;33m\u001b[0m\u001b[0m\n",
      "\u001b[1;31mModuleNotFoundError\u001b[0m: No module named 'pytube'"
     ]
    }
   ],
   "source": [
    "from pytube import YouTube\n",
    "\n",
    "link = 'https://www.youtube.com/watch?v=eIib9hh2UCE'      #想下載的影片連結\n",
    "YouTube(link).streams.get_highest_resolution().download() #下載影片"
   ]
  },
  {
   "cell_type": "markdown",
   "metadata": {},
   "source": [
    "# QRcode"
   ]
  },
  {
   "cell_type": "code",
   "execution_count": 5,
   "metadata": {},
   "outputs": [],
   "source": [
    "import qrcode\n",
    "# Link for website\n",
    "input_data = \"https://isaac60103.github.io/\"\n",
    "#Creating an instance of qrcode\n",
    "qr = qrcode.QRCode(\n",
    "        version=1,\n",
    "        box_size=10,\n",
    "        border=5)\n",
    "qr.add_data(input_data)\n",
    "qr.make(fit=True)\n",
    "img = qr.make_image(fill='black', back_color='white')\n",
    "img.save('qrcode001.png')"
   ]
  },
  {
   "cell_type": "markdown",
   "metadata": {},
   "source": [
    "# tesseract"
   ]
  },
  {
   "cell_type": "code",
   "execution_count": 1,
   "metadata": {},
   "outputs": [
    {
     "name": "stdout",
     "output_type": "stream",
     "text": [
      "BREAKING THE STATUE\n",
      "\n",
      "i have always known\n",
      "\n",
      "i just didn't understand\n",
      "the inner conflictions\n",
      "arresting our hands\n",
      "gravitating close enough\n",
      "expansive distamce between\n",
      "i couldn't give you more\n",
      "but i meant everything\n",
      "when the day comes\n",
      "\n",
      "you find your heart\n",
      "\n",
      "wants something more\n",
      "\n",
      "than a viece and a part\n",
      "your life will change\n",
      "like astatue set free\n",
      "\n",
      "to walk among us\n",
      "\n",
      "to created estiny\n",
      "\n",
      "we didn't break any rules\n",
      "we didn't make mistakes\n",
      "making beauty in loving\n",
      "making lovine for days\n",
      "\n",
      "SHILOW\n",
      "\f",
      "\n"
     ]
    }
   ],
   "source": [
    "# download binary \n",
    "# https://github.com/UB-Mannheim/tesseract/wiki\n",
    "from PIL import Image\n",
    "import pytesseract\n",
    "\n",
    "\n",
    "pytesseract.pytesseract.tesseract_cmd = 'C:/Program Files/Tesseract-OCR/tesseract.exe'\n",
    "\n",
    "image = Image.open(\"test.jpeg\")\n",
    "code = pytesseract.image_to_string(image)\n",
    "print(code)"
   ]
  },
  {
   "cell_type": "code",
   "execution_count": null,
   "metadata": {},
   "outputs": [],
   "source": []
  }
 ],
 "metadata": {
  "kernelspec": {
   "display_name": "Python 3",
   "language": "python",
   "name": "python3"
  },
  "language_info": {
   "codemirror_mode": {
    "name": "ipython",
    "version": 3
   },
   "file_extension": ".py",
   "mimetype": "text/x-python",
   "name": "python",
   "nbconvert_exporter": "python",
   "pygments_lexer": "ipython3",
   "version": "3.6.9"
  }
 },
 "nbformat": 4,
 "nbformat_minor": 4
}
