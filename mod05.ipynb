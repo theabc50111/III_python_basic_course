{
 "cells": [
  {
   "cell_type": "markdown",
   "metadata": {},
   "source": [
    "#  <font color=red> Module_05_Python 文字資料型態與成員運算子</font>"
   ]
  },
  {
   "cell_type": "markdown",
   "metadata": {},
   "source": [
    "# P5-3 "
   ]
  },
  {
   "cell_type": "markdown",
   "metadata": {},
   "source": [
    "## 單引號雙引號混用的好處"
   ]
  },
  {
   "cell_type": "code",
   "execution_count": 18,
   "metadata": {},
   "outputs": [
    {
     "data": {
      "text/plain": [
       "\"it's nice\""
      ]
     },
     "execution_count": 18,
     "metadata": {},
     "output_type": "execute_result"
    }
   ],
   "source": [
    "str1 = \"it's nice\"\n",
    "str1"
   ]
  },
  {
   "cell_type": "markdown",
   "metadata": {},
   "source": [
    "# python <font color=red>沒有char(字元)</font>的資料型態"
   ]
  },
  {
   "cell_type": "markdown",
   "metadata": {},
   "source": [
    "# 索引(Index) 與切片(Slicing) :\n",
    "## <font color=red>索引值:只要是<font color=blue>有序</font>的資料型態，其表現形式都很接近(有索引與切片功能)</font>\n",
    "> <details>\n",
    "    <summary>P3-3</summary>\n",
    "    <img src='./img/py_data_type.png'>\n",
    "  </details>\n",
    "## 索引值(index)是從0開始的整數\n",
    ">### 正序&rArr;從0開始的整數\n",
    ">### 反序&rArr;從-1開始的整數\n",
    ">> <details>\n",
    "    <summary>illustrator</summary>\n",
    "    <img src='./img/strIndex01.png'>\n",
    "  </details>\n",
    "## Slice\n",
    ">### 切片(slice) 格式為 <font color=orange>[起點:終點:間隔]</font>，<font color=red>切片不含終點</font>\n",
    ">> <details>\n",
    "    <summary><font color=red>Slice都含起始值，不含結束值點</font></summary>\n",
    "    <img src='./img/index01.png'>\n",
    "   </details>"
   ]
  },
  {
   "cell_type": "code",
   "execution_count": 19,
   "metadata": {},
   "outputs": [
    {
     "name": "stdout",
     "output_type": "stream",
     "text": [
      "var1[0] :       H\n",
      "var1[1:4] :     ell\n",
      "var1[5:1] :     \n",
      "var1[:6] :      Hello \n",
      "var1[::2] :     HloWrd\n",
      "var1[::-1] :    dlroW olleH\n",
      "var1[::-2] :    drWolH\n",
      "var1[-1] :      d\n",
      "var1[-11:-2] :  Hello Wor\n",
      "var1[-2:-11] :  \n",
      "var1[3:-2] :    lo Wor\n",
      "var1[3:-2:2] :  l o\n"
     ]
    }
   ],
   "source": [
    "var1 = 'Hello World'\n",
    "\n",
    "print('var1[0] :      ', var1[0])\n",
    "print('var1[1:4] :    ', var1[1:4]) # 不指定間隔(預設為1)\n",
    "print('var1[5:1] :    ', var1[5:1]) # 開頭到結尾的順序，要與間隔的正負號一致，所以不能用[5:1]\n",
    "print('var1[:6] :     ', var1[:6]) # 不指定起點(預設從0開始)\n",
    "print('var1[::2] :    ', var1[::2]) # 不指定起點(預設從0開始)，不指定終點(預設到最後為止)，隔一個選取\n",
    "print('var1[::-1] :   ', var1[::-1]) # 倒序\n",
    "print('var1[::-2] :   ', var1[::-2]) # 倒序，且間隔為2 \n",
    "print('var1[-1] :     ', var1[-1])\n",
    "print('var1[-11:-2] : ', var1[-11:-2]) \n",
    "print('var1[-2:-11] : ', var1[-2:-11]) # 間隔為1，所以不能用[-2:-11]\n",
    "print('var1[3:-2] :   ', var1[3:-2])\n",
    "print('var1[3:-2:2] : ', var1[3:-2:2])"
   ]
  },
  {
   "cell_type": "markdown",
   "metadata": {},
   "source": [
    "---"
   ]
  },
  {
   "cell_type": "markdown",
   "metadata": {},
   "source": [
    "# P5-4\n",
    "## operator overloading (來自C#/C++)\n",
    ">- 在字串中使用加號(`+`)，來連接字串\n",
    ">- 在字串中使用乘號(`*`)，來令字串重複出現，乘多少，重複多少次"
   ]
  },
  {
   "cell_type": "code",
   "execution_count": 20,
   "metadata": {},
   "outputs": [
    {
     "name": "stdout",
     "output_type": "stream",
     "text": [
      "AB\n",
      "AAAAAAAAAA\n"
     ]
    },
    {
     "ename": "TypeError",
     "evalue": "can't multiply sequence by non-int of type 'float'",
     "output_type": "error",
     "traceback": [
      "\u001b[1;31m---------------------------------------------------------------------------\u001b[0m",
      "\u001b[1;31mTypeError\u001b[0m                                 Traceback (most recent call last)",
      "\u001b[1;32m<ipython-input-20-a545c74cc9d8>\u001b[0m in \u001b[0;36m<module>\u001b[1;34m\u001b[0m\n\u001b[0;32m      1\u001b[0m \u001b[0mprint\u001b[0m\u001b[1;33m(\u001b[0m\u001b[1;34m'A'\u001b[0m\u001b[1;33m+\u001b[0m\u001b[1;34m'B'\u001b[0m\u001b[1;33m)\u001b[0m\u001b[1;33m\u001b[0m\u001b[1;33m\u001b[0m\u001b[0m\n\u001b[0;32m      2\u001b[0m \u001b[0mprint\u001b[0m\u001b[1;33m(\u001b[0m\u001b[1;34m'A'\u001b[0m\u001b[1;33m*\u001b[0m\u001b[1;36m10\u001b[0m\u001b[1;33m)\u001b[0m\u001b[1;33m\u001b[0m\u001b[1;33m\u001b[0m\u001b[0m\n\u001b[1;32m----> 3\u001b[1;33m \u001b[0mprint\u001b[0m\u001b[1;33m(\u001b[0m\u001b[1;34m'A'\u001b[0m\u001b[1;33m*\u001b[0m\u001b[1;36m10.0\u001b[0m\u001b[1;33m)\u001b[0m \u001b[1;31m#不能乘以浮點數\u001b[0m\u001b[1;33m\u001b[0m\u001b[1;33m\u001b[0m\u001b[0m\n\u001b[0m",
      "\u001b[1;31mTypeError\u001b[0m: can't multiply sequence by non-int of type 'float'"
     ]
    }
   ],
   "source": [
    "print('A'+'B')\n",
    "print('A'*10)\n",
    "print('A'*10.0) #不能乘以浮點數"
   ]
  },
  {
   "cell_type": "markdown",
   "metadata": {},
   "source": [
    "## 字串不可變(immutable)\n",
    "<details>\n",
    "    <summary><h3>P3-3</h3></summary>\n",
    "    <img src='./img/py_data_type.png'>\n",
    "</details>"
   ]
  },
  {
   "cell_type": "code",
   "execution_count": 21,
   "metadata": {},
   "outputs": [
    {
     "ename": "TypeError",
     "evalue": "'str' object does not support item assignment",
     "output_type": "error",
     "traceback": [
      "\u001b[1;31m---------------------------------------------------------------------------\u001b[0m",
      "\u001b[1;31mTypeError\u001b[0m                                 Traceback (most recent call last)",
      "\u001b[1;32m<ipython-input-21-da3c0ba32a07>\u001b[0m in \u001b[0;36m<module>\u001b[1;34m\u001b[0m\n\u001b[0;32m      1\u001b[0m \u001b[0mvar1\u001b[0m \u001b[1;33m=\u001b[0m \u001b[1;34m'Hello World!'\u001b[0m\u001b[1;33m\u001b[0m\u001b[1;33m\u001b[0m\u001b[0m\n\u001b[1;32m----> 2\u001b[1;33m \u001b[0mvar1\u001b[0m\u001b[1;33m[\u001b[0m\u001b[1;36m4\u001b[0m\u001b[1;33m]\u001b[0m\u001b[1;33m=\u001b[0m\u001b[1;34m'W'\u001b[0m  \u001b[1;31m# TypeError\u001b[0m\u001b[1;33m\u001b[0m\u001b[1;33m\u001b[0m\u001b[0m\n\u001b[0m",
      "\u001b[1;31mTypeError\u001b[0m: 'str' object does not support item assignment"
     ]
    }
   ],
   "source": [
    "var1 = 'Hello World!'\n",
    "var1[4]='W'  # TypeError"
   ]
  },
  {
   "cell_type": "markdown",
   "metadata": {},
   "source": [
    "---"
   ]
  },
  {
   "cell_type": "markdown",
   "metadata": {},
   "source": [
    "# P5-5 跳脫字元\n"
   ]
  },
  {
   "cell_type": "code",
   "execution_count": 22,
   "metadata": {},
   "outputs": [
    {
     "ename": "SyntaxError",
     "evalue": "invalid syntax (<ipython-input-22-41a17fa1fdf0>, line 1)",
     "output_type": "error",
     "traceback": [
      "\u001b[1;36m  File \u001b[1;32m\"<ipython-input-22-41a17fa1fdf0>\"\u001b[1;36m, line \u001b[1;32m1\u001b[0m\n\u001b[1;33m    print('She said: \"It's raining.\"')\u001b[0m\n\u001b[1;37m                         ^\u001b[0m\n\u001b[1;31mSyntaxError\u001b[0m\u001b[1;31m:\u001b[0m invalid syntax\n"
     ]
    }
   ],
   "source": [
    "print('She said: \"It's raining.\"')"
   ]
  },
  {
   "cell_type": "code",
   "execution_count": 23,
   "metadata": {},
   "outputs": [
    {
     "name": "stdout",
     "output_type": "stream",
     "text": [
      "'\n"
     ]
    }
   ],
   "source": [
    "print('\\'')"
   ]
  },
  {
   "cell_type": "code",
   "execution_count": 24,
   "metadata": {},
   "outputs": [
    {
     "name": "stdout",
     "output_type": "stream",
     "text": [
      "She said: \"It's raining.\"\n"
     ]
    }
   ],
   "source": [
    "print('She said: \"It\\'s raining.\"')"
   ]
  },
  {
   "cell_type": "code",
   "execution_count": 25,
   "metadata": {},
   "outputs": [
    {
     "data": {
      "text/plain": [
       "'c:\\test\\new.txt'"
      ]
     },
     "execution_count": 25,
     "metadata": {},
     "output_type": "execute_result"
    }
   ],
   "source": [
    "'c:\\test\\new.txt' # 互動式介面中，並不會真正執行跳脫字元，要使用print函數才能解釋跳脫字元"
   ]
  },
  {
   "cell_type": "code",
   "execution_count": 26,
   "metadata": {},
   "outputs": [
    {
     "name": "stdout",
     "output_type": "stream",
     "text": [
      "c:\test\n",
      "ew.txt\n",
      "c:\\test\\new.txt\n"
     ]
    }
   ],
   "source": [
    "print('c:\\test\\new.txt') \n",
    "print('c:\\\\test\\\\new.txt')"
   ]
  },
  {
   "cell_type": "markdown",
   "metadata": {},
   "source": [
    "---"
   ]
  },
  {
   "cell_type": "markdown",
   "metadata": {},
   "source": [
    "# P5-6 多列字串"
   ]
  },
  {
   "cell_type": "markdown",
   "metadata": {},
   "source": [
    "#### 3個單引號"
   ]
  },
  {
   "cell_type": "code",
   "execution_count": 27,
   "metadata": {},
   "outputs": [
    {
     "data": {
      "text/plain": [
       "'This is a long string that contains\\nseveral lines and some non-printable characters, \\nsuch as TAB(\\t) or NEWLINE(\\n). For triple-quoted strings, \\nalways use double quote characters to be consistent \\nwith the docstring convention in PEP 257.'"
      ]
     },
     "execution_count": 27,
     "metadata": {},
     "output_type": "execute_result"
    }
   ],
   "source": [
    "text_para1 = '''This is a long string that contains\n",
    "several lines and some non-printable characters, \n",
    "such as TAB(\\t) or NEWLINE(\\n). For triple-quoted strings, \n",
    "always use double quote characters to be consistent \n",
    "with the docstring convention in PEP 257.'''\n",
    "text_para1"
   ]
  },
  {
   "cell_type": "code",
   "execution_count": 28,
   "metadata": {},
   "outputs": [
    {
     "name": "stdout",
     "output_type": "stream",
     "text": [
      "This is a long string that contains\n",
      "several lines and some non-printable characters, \n",
      "such as TAB(\t) or NEWLINE(\n",
      "). For triple-quoted strings, \n",
      "always use double quote characters to be consistent \n",
      "with the docstring convention in PEP 257.\n"
     ]
    }
   ],
   "source": [
    "print(text_para1)"
   ]
  },
  {
   "cell_type": "markdown",
   "metadata": {},
   "source": [
    "#### 如果是 docstring，永遠使用三個雙引號表達\n",
    "https://www.python.org/dev/peps/pep-0008/#documentation-strings"
   ]
  },
  {
   "cell_type": "markdown",
   "metadata": {},
   "source": [
    "---"
   ]
  },
  {
   "cell_type": "markdown",
   "metadata": {},
   "source": [
    "# P5-9 成員運算子"
   ]
  },
  {
   "cell_type": "code",
   "execution_count": 29,
   "metadata": {},
   "outputs": [
    {
     "name": "stdout",
     "output_type": "stream",
     "text": [
      "False\n",
      "True\n",
      "False\n"
     ]
    }
   ],
   "source": [
    "a = 'Hello World'\n",
    "b = 'Hell'\n",
    "print(a in b)\n",
    "print(b in a)\n",
    "print(b not in a)"
   ]
  },
  {
   "cell_type": "code",
   "execution_count": 30,
   "metadata": {},
   "outputs": [
    {
     "name": "stdout",
     "output_type": "stream",
     "text": [
      "False\n"
     ]
    }
   ],
   "source": [
    "a = 'Hello World'\n",
    "b = 'Hello  ' # 注意空白也是字元\n",
    "print(b in a)"
   ]
  },
  {
   "cell_type": "markdown",
   "metadata": {},
   "source": [
    "---"
   ]
  },
  {
   "cell_type": "markdown",
   "metadata": {},
   "source": [
    "# P5-11"
   ]
  },
  {
   "cell_type": "markdown",
   "metadata": {},
   "source": [
    "#### Raw String &rArr; 不解釋任何跳脫字元特殊字元"
   ]
  },
  {
   "cell_type": "code",
   "execution_count": 31,
   "metadata": {},
   "outputs": [
    {
     "name": "stdout",
     "output_type": "stream",
     "text": [
      "c:\\test\\new.txt\n"
     ]
    }
   ],
   "source": [
    "print(r'c:\\test\\new.txt')"
   ]
  },
  {
   "cell_type": "code",
   "execution_count": 32,
   "metadata": {},
   "outputs": [
    {
     "name": "stdout",
     "output_type": "stream",
     "text": [
      "c:\\test\\new.txt\n"
     ]
    }
   ],
   "source": [
    "print('c:\\\\test\\\\new.txt')"
   ]
  },
  {
   "cell_type": "code",
   "execution_count": 33,
   "metadata": {},
   "outputs": [
    {
     "data": {
      "text/plain": [
       "'c:\\\\test\\\\new.txt'"
      ]
     },
     "execution_count": 33,
     "metadata": {},
     "output_type": "execute_result"
    }
   ],
   "source": [
    "a=r'c:\\test\\new.txt'\n",
    "a"
   ]
  },
  {
   "cell_type": "markdown",
   "metadata": {},
   "source": [
    "#### len() &rArr; 用來計算字串長度"
   ]
  },
  {
   "cell_type": "code",
   "execution_count": 34,
   "metadata": {},
   "outputs": [
    {
     "name": "stdout",
     "output_type": "stream",
     "text": [
      "len(a) : 5\n"
     ]
    }
   ],
   "source": [
    "a = 'Hello'\n",
    "b = 3\n",
    "print('len(a) :', len(a))"
   ]
  },
  {
   "cell_type": "markdown",
   "metadata": {},
   "source": [
    "#### str() &rArr; 用來將資料轉成字串"
   ]
  },
  {
   "cell_type": "code",
   "execution_count": 35,
   "metadata": {},
   "outputs": [
    {
     "name": "stdout",
     "output_type": "stream",
     "text": [
      "Hello 3\n"
     ]
    }
   ],
   "source": [
    "print('Hello '+str(b))"
   ]
  },
  {
   "cell_type": "markdown",
   "metadata": {},
   "source": [
    "---"
   ]
  },
  {
   "cell_type": "markdown",
   "metadata": {},
   "source": [
    "# P5-12 字串方法\n",
    "<img src='./img/method_func.png' style='height:400px'>"
   ]
  },
  {
   "cell_type": "code",
   "execution_count": 36,
   "metadata": {},
   "outputs": [
    {
     "name": "stdout",
     "output_type": "stream",
     "text": [
      "upper : THE ZEN OF PYTHON\n",
      "lower : the zen of python\n"
     ]
    }
   ],
   "source": [
    "S = 'the zeN of python'\n",
    "print('upper :',S.upper())\n",
    "print('lower :',S.lower())"
   ]
  },
  {
   "cell_type": "markdown",
   "metadata": {},
   "source": [
    "---"
   ]
  },
  {
   "cell_type": "markdown",
   "metadata": {},
   "source": [
    "# P5-13"
   ]
  },
  {
   "cell_type": "code",
   "execution_count": 37,
   "metadata": {},
   "outputs": [
    {
     "name": "stdout",
     "output_type": "stream",
     "text": [
      "a.isalpha() :    False\n",
      "a.isspace() :    False\n",
      "a.isupper() :    False\n",
      "a.islower() :    True\n",
      "a.isdigit() :    False\n",
      "a.isalnum():     True\n"
     ]
    }
   ],
   "source": [
    "a = 'hello123'\n",
    "\n",
    "print('a.isalpha() :   ', a.isalpha())\n",
    "print('a.isspace() :   ', a.isspace())\n",
    "\n",
    "print('a.isupper() :   ', a.isupper())\n",
    "print('a.islower() :   ', a.islower())\n",
    "\n",
    "print('a.isdigit() :   ', a.isdigit())\n",
    "print('a.isalnum():    ', a.isalnum())"
   ]
  },
  {
   "cell_type": "code",
   "execution_count": 38,
   "metadata": {},
   "outputs": [
    {
     "name": "stdout",
     "output_type": "stream",
     "text": [
      "['Python', 'programming', 'is', 'fun!']\n",
      "['555', '867', '5309']\n",
      "['123', '456', 'txt']\n",
      "['123', '456.txt']\n"
     ]
    }
   ],
   "source": [
    "print(\"Python programming is fun!\".split())\n",
    "print(\"555-867-5309\".split('-'))\n",
    "print(\"123.456.txt\".split('.'))\n",
    "print(\"123.456.txt\".split('.',1))"
   ]
  },
  {
   "cell_type": "code",
   "execution_count": 39,
   "metadata": {},
   "outputs": [
    {
     "name": "stdout",
     "output_type": "stream",
     "text": [
      "3\n"
     ]
    }
   ],
   "source": [
    "x = \"Python programming is fun!\"\n",
    "print(x.count('n'))"
   ]
  },
  {
   "cell_type": "code",
   "execution_count": 40,
   "metadata": {},
   "outputs": [
    {
     "name": "stdout",
     "output_type": "stream",
     "text": [
      "hello456\n"
     ]
    }
   ],
   "source": [
    "a = 'hello123'\n",
    "print(a.replace('123', '456'))"
   ]
  },
  {
   "cell_type": "markdown",
   "metadata": {},
   "source": [
    "---"
   ]
  },
  {
   "cell_type": "markdown",
   "metadata": {},
   "source": [
    "# P5-14"
   ]
  },
  {
   "cell_type": "code",
   "execution_count": 41,
   "metadata": {},
   "outputs": [
    {
     "name": "stdout",
     "output_type": "stream",
     "text": [
      "['123.456', 'txt']\n"
     ]
    }
   ],
   "source": [
    "print(\"123.456.txt\".rsplit('.',1))"
   ]
  },
  {
   "cell_type": "code",
   "execution_count": 42,
   "metadata": {},
   "outputs": [
    {
     "name": "stdout",
     "output_type": "stream",
     "text": [
      "  #### this is a book ####\n",
      "#### this is a book ####   \n",
      "#### this is a book ####\n"
     ]
    }
   ],
   "source": [
    "word = '  #### this is a book ####   '\n",
    "print(word.rstrip())\n",
    "print(word.lstrip())\n",
    "print(word.strip())"
   ]
  },
  {
   "cell_type": "code",
   "execution_count": 43,
   "metadata": {},
   "outputs": [
    {
     "name": "stdout",
     "output_type": "stream",
     "text": [
      " this is a book \n",
      "this is a book\n"
     ]
    }
   ],
   "source": [
    "word = '#### this is a book ####'\n",
    "print(word.strip('#'))\n",
    "print(word.strip('#').strip())"
   ]
  },
  {
   "cell_type": "code",
   "execution_count": 44,
   "metadata": {},
   "outputs": [
    {
     "name": "stdout",
     "output_type": "stream",
     "text": [
      "  #### this is a book ####   \n"
     ]
    }
   ],
   "source": [
    "word = '  #### this is a book ####   '\n",
    "print(word.lstrip('#'))"
   ]
  },
  {
   "cell_type": "markdown",
   "metadata": {},
   "source": [
    "---"
   ]
  },
  {
   "cell_type": "markdown",
   "metadata": {},
   "source": [
    "# &spades; 補充 "
   ]
  },
  {
   "cell_type": "markdown",
   "metadata": {},
   "source": [
    "### 路徑分隔符號"
   ]
  },
  {
   "cell_type": "code",
   "execution_count": 45,
   "metadata": {},
   "outputs": [
    {
     "name": "stdout",
     "output_type": "stream",
     "text": [
      "C:\\Program Files\n",
      "C:/Program Files\n"
     ]
    }
   ],
   "source": [
    "print('C:\\Program Files') # 以前Windows使用反斜線，Linux 與 網址都是使用斜線\n",
    "print('C:/Program Files') # 但是微軟開始將向Linux系統靠攏，所以現在用斜線的方式也可以了"
   ]
  },
  {
   "cell_type": "markdown",
   "metadata": {},
   "source": [
    "### str 不可變，即便使用str的方法"
   ]
  },
  {
   "cell_type": "code",
   "execution_count": 46,
   "metadata": {},
   "outputs": [
    {
     "name": "stdout",
     "output_type": "stream",
     "text": [
      "this is a string 2264977213360\n",
      "this is a longer string 2264977252960\n"
     ]
    }
   ],
   "source": [
    "a = 'this is a string'\n",
    "print(a, id(a))\n",
    "print(a.replace('string', 'longer string'), id(a.replace('string', 'longer string')))"
   ]
  },
  {
   "cell_type": "markdown",
   "metadata": {},
   "source": [
    "### 運算永遠比函數呼叫快"
   ]
  },
  {
   "cell_type": "code",
   "execution_count": 47,
   "metadata": {},
   "outputs": [
    {
     "name": "stdout",
     "output_type": "stream",
     "text": [
      "abcd\n",
      "abcd\n",
      "65.6 ns ± 3.25 ns per loop (mean ± std. dev. of 7 runs, 10000000 loops each)\n",
      "85.4 ns ± 16.1 ns per loop (mean ± std. dev. of 7 runs, 10000000 loops each)\n"
     ]
    }
   ],
   "source": [
    "a='abcde'\n",
    "print(a[:4])\n",
    "print(a.rstrip('e'))\n",
    "%timeit a[:4]\n",
    "%timeit a.rstrip('e')"
   ]
  }
 ],
 "metadata": {
  "kernelspec": {
   "display_name": "Python 3",
   "language": "python",
   "name": "python3"
  },
  "language_info": {
   "codemirror_mode": {
    "name": "ipython",
    "version": 3
   },
   "file_extension": ".py",
   "mimetype": "text/x-python",
   "name": "python",
   "nbconvert_exporter": "python",
   "pygments_lexer": "ipython3",
   "version": "3.8.5"
  }
 },
 "nbformat": 4,
 "nbformat_minor": 2
}
