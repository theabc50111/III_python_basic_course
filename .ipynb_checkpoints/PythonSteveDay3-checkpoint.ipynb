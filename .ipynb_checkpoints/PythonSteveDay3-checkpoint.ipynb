{
 "cells": [
  {
   "cell_type": "markdown",
   "metadata": {},
   "source": [
    "# Module_13_函數(Function)設計\n",
    "## 使用函數/函式的好處 :\n",
    ">### 軟體重複使用\n",
    ">### 功能切割，模組化，結構化\n",
    ">### 簡化程式提高程式的可讀性\n",
    ">### 易於維護及管理\n",
    ">### 讓程式偵錯更容易\n",
    "\n",
    "><img src=\".\\img\\func.png\"  style='height:450px; width:700px'>"
   ]
  },
  {
   "cell_type": "markdown",
   "metadata": {},
   "source": [
    "# Python 程式架構如下(直譯式 : 一行一行解譯):\n",
    ">### * 程式在一開始執行時, 作業系統會先去找 __main__ program,\n",
    ">### * 當一個程式一被 \"載入\" 時, 如果沒有 if __name__ == __main__: 會直接載如 \"執行\"， 有了 if __name__..., OS知道不是 main ,\n",
    ">### * 就只 \"載入\" 等待呼叫"
   ]
  },
  {
   "cell_type": "code",
   "execution_count": null,
   "metadata": {},
   "outputs": [],
   "source": [
    "# Python 基本程式結構\n",
    "\n",
    "import numpy\n",
    "import pandas\n",
    "\n",
    "def func(x):\n",
    "    ''' Beautiful is better than ugly.      優美勝於醜陋（Python 以編寫優美的代碼為目標）\n",
    "        Explicit is better than implicit.   明瞭勝於晦澀（優美的代碼應當是明瞭的，命名規範，風格相似)\n",
    "        Simple is better than complex.      簡潔勝於複雜（優美的代碼應當是簡潔的，不要有複雜的內部實現)\n",
    "        Complex is better than complicated. 複雜勝於淩亂（如果複雜不可避免，那代碼間也不能有難懂的關係，要保持介面簡潔）\n",
    "        Flat is better than nested.         扁平勝於嵌套（優美的代碼應當是扁平的，不能有太多的嵌套)\n",
    "        Sparse is better than dense.        間隔勝於緊湊（優美的代碼有適當的間隔，不要奢望一行代碼解決問題）\n",
    "        Readability counts                  可讀性很重要（優美的代碼是可讀的）\n",
    "        .....\n",
    "    '''\n",
    "    print('x = ', x)\n",
    "    return  \n",
    "\n",
    "def func1():\n",
    "    '''python world'''\n",
    "    print('python world')\n",
    "    \n",
    "    \n",
    "if __name__ == '__main__' :         # 供外部呼叫時使用\n",
    "    for x in range(5):    # x = 1 ~ 5 one by one\n",
    "        if x == 1:        # comments\n",
    "            func(x)\n"
   ]
  },
  {
   "cell_type": "code",
   "execution_count": null,
   "metadata": {},
   "outputs": [],
   "source": [
    "# \"print\" is a function too\n",
    "# function always has reture value even none\n",
    "\n",
    "#物件導向是建置在以函數為基礎(function base)的環境\n",
    "# obj.xxx()\n",
    "'a, b, c'.split(',')\n",
    "\n",
    "# xxx(obj)\n",
    "sum([1,5,9])\n",
    "print('hello')"
   ]
  },
  {
   "cell_type": "code",
   "execution_count": null,
   "metadata": {
    "scrolled": true
   },
   "outputs": [],
   "source": [
    "# %run mod13/func_def1.py\n",
    "# Function definition\n",
    "def make_a_sound():\n",
    "    \"\"\"This function print duck sound\"\"\"\n",
    "    print('quack')\n",
    "    \n",
    "# Call function\n",
    "\n",
    "if __name__ == '__main__':\n",
    "    make_a_sound()\n",
    "\n",
    "    for i in range(3):\n",
    "        make_a_sound()\n",
    "\n",
    "    for _ in range(3):  #因為 i 沒用到\n",
    "        make_a_sound()"
   ]
  },
  {
   "cell_type": "code",
   "execution_count": null,
   "metadata": {
    "scrolled": true
   },
   "outputs": [],
   "source": [
    "make_a_sound?"
   ]
  },
  {
   "cell_type": "code",
   "execution_count": null,
   "metadata": {},
   "outputs": [],
   "source": [
    "print?"
   ]
  },
  {
   "cell_type": "markdown",
   "metadata": {},
   "source": [
    "# 13-10"
   ]
  },
  {
   "cell_type": "markdown",
   "metadata": {},
   "source": [
    "# Python is call by assignment,  使用C的Call-by-value的風格"
   ]
  },
  {
   "cell_type": "code",
   "execution_count": 3,
   "metadata": {},
   "outputs": [
    {
     "name": "stdout",
     "output_type": "stream",
     "text": [
      "In function, before change: 20\n",
      "In function, after change: 50\n",
      "Outside function: 20\n"
     ]
    }
   ],
   "source": [
    "# %run mod13/argument1.py\n",
    "# not require return 'Global and local'\n",
    "# Function definition\n",
    "def changeme(myvar):\n",
    "    print('In function, before change:', myvar)   # myvar = 20\n",
    "    myvar = 50  # only in local\n",
    "    print('In function, after change:', myvar)   # myvar = 50\n",
    "    \n",
    "# Main Call function\n",
    "myvar = 20\n",
    "changeme(myvar)\n",
    "print('Outside function:', myvar)               # var = 20"
   ]
  },
  {
   "cell_type": "markdown",
   "metadata": {},
   "source": [
    "![CallByValue](.\\img\\CallByValue3.png)"
   ]
  },
  {
   "cell_type": "code",
   "execution_count": null,
   "metadata": {
    "scrolled": true
   },
   "outputs": [],
   "source": [
    "# C 的指標陣列(array of pointer)\n",
    "# %run mod13/argument2.py\n",
    "# not require return 'Global and local'\n",
    "# Function definition\n",
    "def changeme(mylist):\n",
    "    print('In function, before change:', mylist)\n",
    "    mylist[2] = 50\n",
    "    print('In function, after change:', mylist)\n",
    "\n",
    "# Main Call function\n",
    "mylist = [10, 20, 30]\n",
    "changeme(mylist)\n",
    "print('Outside function:',mylist)"
   ]
  },
  {
   "cell_type": "code",
   "execution_count": null,
   "metadata": {},
   "outputs": [],
   "source": [
    "# C 的指標陣列(array of pointer)\n",
    "# %run mod13/func_def2.py\n",
    "# Function definition\n",
    "\n",
    "def printme(pstr):\n",
    "    \"\"\"This function print a string\"\"\"\n",
    "    print(pstr)\n",
    "\n",
    "def sum_nums(n1, n2):\n",
    "    \"\"\"This function return sum of two numbers\"\"\"\n",
    "    return n1+n2, n1*n2                      # return tuple, 2 values\n",
    "    \n",
    "# Call function\n",
    "printme('Hello Python')\n",
    "printme('Python Programming')\n",
    "\n",
    "total, multi = sum_nums(35, 20)\n",
    "print('Total :',total, multi)\n",
    "\n",
    "print('Total :',sum_nums(40,50))"
   ]
  },
  {
   "cell_type": "markdown",
   "metadata": {},
   "source": [
    "### p13-11"
   ]
  },
  {
   "cell_type": "code",
   "execution_count": null,
   "metadata": {},
   "outputs": [],
   "source": [
    "# 函式的參數\n",
    "def fun(s1, s2='world', count=1):\n",
    "    s = s1+' ' + s2+ '  '\n",
    "    print(s * count)\n",
    "\n",
    "fun('Hello')\n",
    "fun('Hi',' Jack')\n",
    "fun('Hi',' Jack', 2)\n",
    "fun('Hi', count=3)\n",
    "fun('Hi', count=3, s2='sky')"
   ]
  },
  {
   "cell_type": "code",
   "execution_count": null,
   "metadata": {},
   "outputs": [],
   "source": [
    "# 參數名稱前面加上*，可以接受所有剩餘的傳入資料(位置型參數)，產生元組 tuple\n",
    "\n",
    "def count(*add_all):    # *args\n",
    "    print(add_all)      #(1, 2, 3, 4, 5)\n",
    "    count = 0\n",
    "    for i in add_all:\n",
    "        count += i\n",
    "    return count\n",
    "\n",
    "print(count(1,2,3,4,5))"
   ]
  },
  {
   "cell_type": "code",
   "execution_count": null,
   "metadata": {},
   "outputs": [],
   "source": [
    "# 參數名稱前面加上**，可以接受所有剩餘的傳入資料(關鍵字參數)，產生字典\n",
    "\n",
    "def info(**dict):                # **kwargs\n",
    "    print(dict)                  #{'name': 'Tom', 'age': 30}\n",
    "    print(type(dict))            # dict\n",
    "info(name=\"Tom\",age=30)"
   ]
  },
  {
   "cell_type": "code",
   "execution_count": null,
   "metadata": {},
   "outputs": [],
   "source": [
    "# start、args、kwargs 分別會得到什麼結果?\n",
    "\n",
    "def fun1(start, *args, **kwargs):\n",
    "    print(\"start=\", start)\n",
    "    print(\"*args=\", args)\n",
    "    print(\"**kwargs=\", kwargs)\n",
    "\n",
    "fun1(1, 2 ,3 , a=4, b=5)"
   ]
  },
  {
   "cell_type": "markdown",
   "metadata": {},
   "source": [
    "---"
   ]
  },
  {
   "cell_type": "markdown",
   "metadata": {},
   "source": [
    "# Module_14_函數(Function)引數"
   ]
  },
  {
   "cell_type": "markdown",
   "metadata": {},
   "source": [
    "## 14-1"
   ]
  },
  {
   "cell_type": "markdown",
   "metadata": {},
   "source": [
    "### p14-4 位置引數"
   ]
  },
  {
   "cell_type": "code",
   "execution_count": null,
   "metadata": {},
   "outputs": [],
   "source": [
    "# Function definition\n",
    "def printme(pstr):\n",
    "    print(pstr)\n",
    "\n",
    "# Call function\n",
    "printme('test')"
   ]
  },
  {
   "cell_type": "code",
   "execution_count": null,
   "metadata": {},
   "outputs": [],
   "source": [
    "def my_function(x, y, z=1.5):\n",
    "    if z > 1:\n",
    "        return z * (x + y)\n",
    "    else:\n",
    "        return z / (x + y)\n",
    "\n",
    "print(my_function(5, 6, z=0.7))\n",
    "print(my_function(3.14, 7, 3.5))\n",
    "print(my_function(10, 20))"
   ]
  },
  {
   "cell_type": "code",
   "execution_count": null,
   "metadata": {
    "scrolled": true
   },
   "outputs": [],
   "source": [
    "# 位置引數\n",
    "# %run mod14/require_arg.py\n",
    "# Function definition\n",
    "def area(length, width):  # parameter\n",
    "    return length*width\n",
    "\n",
    "# MAIN\n",
    "# Call function\n",
    "result = area(15,8)\n",
    "print('Area =', result)\n",
    "\n",
    "result = area(8)  # error. argument"
   ]
  },
  {
   "cell_type": "markdown",
   "metadata": {},
   "source": [
    "### p14-6 關鍵字引數"
   ]
  },
  {
   "cell_type": "code",
   "execution_count": null,
   "metadata": {},
   "outputs": [],
   "source": [
    "# 關鍵字引數\n",
    "# Function definition\n",
    "def printinfo(dbname, port):\n",
    "    print('DB Name:', dbname)\n",
    "    print('Port:', port)\n",
    "\n",
    "# Call function\n",
    "printinfo('MSSQL', 1433)    # postional\n",
    "printinfo(port=3306, dbname='MySQL')"
   ]
  },
  {
   "cell_type": "code",
   "execution_count": null,
   "metadata": {
    "scrolled": true
   },
   "outputs": [],
   "source": [
    "# %run mod14/keyword_arg.py\n",
    "# Function definition\n",
    "def printinfo(name, age):\n",
    "    print('Name:', name)\n",
    "    print('Age', age)\n",
    "\n",
    "# MAIN\n",
    "# Call function\n",
    "printinfo('Harris',40)          # positional \n",
    "printinfo(age=20, name='Mary')  # keyword"
   ]
  },
  {
   "cell_type": "markdown",
   "metadata": {},
   "source": [
    "### p14-7 預設引數"
   ]
  },
  {
   "cell_type": "code",
   "execution_count": null,
   "metadata": {},
   "outputs": [],
   "source": [
    "# Function definition\n",
    "def printinfo(tblname, dbname='MySQL', port=3306):\n",
    "    print('Table Name:', tblname)\n",
    "    print('DB Name:', dbname)\n",
    "    print('Port:', port)\n",
    "\n",
    "printinfo('person')                            # 1 positional argument\n",
    "printinfo(tblname='person')                    # 1 keyword argument"
   ]
  },
  {
   "cell_type": "code",
   "execution_count": null,
   "metadata": {},
   "outputs": [],
   "source": [
    "printinfo(port=3330, tblname='products')    # 2 keyword arguments"
   ]
  },
  {
   "cell_type": "code",
   "execution_count": null,
   "metadata": {},
   "outputs": [],
   "source": [
    "printinfo('person', 'MSSQL', 1433)      # 3 positional arguments"
   ]
  },
  {
   "cell_type": "code",
   "execution_count": null,
   "metadata": {},
   "outputs": [],
   "source": [
    "printinfo('products', port=3330)      # 1 positional, 1 keyword "
   ]
  },
  {
   "cell_type": "code",
   "execution_count": null,
   "metadata": {},
   "outputs": [],
   "source": [
    "# %run mod14/default_arg.py\n",
    "# Function definition \n",
    "def printinfo(name, age=35):\n",
    "    print('Name:', name)\n",
    "    print('Age', age)\n",
    "\n",
    "# MAIN\n",
    "# Call function\n",
    "printinfo(age=50, name='Calvin')   # age is 50\n",
    "printinfo(name='Calvin')           # age is 35"
   ]
  },
  {
   "cell_type": "markdown",
   "metadata": {},
   "source": [
    "### p14-9 預設引數 錯誤用法"
   ]
  },
  {
   "cell_type": "code",
   "execution_count": null,
   "metadata": {},
   "outputs": [],
   "source": [
    "# required argument missing\n",
    "def printinfo(name, age=35):\n",
    "    print('Name:', name)\n",
    "    print('Age', age)\n",
    "\n",
    "printinfo()  "
   ]
  },
  {
   "cell_type": "code",
   "execution_count": null,
   "metadata": {},
   "outputs": [],
   "source": [
    "# positional after keyword argument\n",
    "def printinfo(tblname, dbname='MySQL', port=3306):\n",
    "    print('Table Name:', tblname)\n",
    "    print('DB Name:', dbname)\n",
    "    print('Port:', port)\n",
    "    \n",
    "printinfo(port=8888, 'person')  "
   ]
  },
  {
   "cell_type": "code",
   "execution_count": null,
   "metadata": {},
   "outputs": [],
   "source": [
    "# duplicate arguments  2 tblname\n",
    "def printinfo(tblname, dbname='MySQL', port=3306):\n",
    "    print('Table Name:', tblname)\n",
    "    print('DB Name:', dbname)\n",
    "    print('Port:', port)\n",
    "    \n",
    "printinfo('person', tblname='products')     "
   ]
  },
  {
   "cell_type": "markdown",
   "metadata": {},
   "source": [
    "# 14-11"
   ]
  },
  {
   "cell_type": "code",
   "execution_count": null,
   "metadata": {},
   "outputs": [],
   "source": [
    "# Function definition varlen_arg.py\n",
    "def printinfo(arg1, *vartuple):\n",
    "    print('Output is: ')\n",
    "    print(arg1)\n",
    "    for var in vartuple:\n",
    "        print(var)\n",
    "    print()\n",
    "\n",
    "printinfo(10)\n",
    "printinfo(70, 60, 50, 40)\n"
   ]
  },
  {
   "cell_type": "markdown",
   "metadata": {},
   "source": [
    "---"
   ]
  },
  {
   "cell_type": "markdown",
   "metadata": {},
   "source": [
    "# Module_15_匿名函數與變數可見度"
   ]
  },
  {
   "cell_type": "code",
   "execution_count": null,
   "metadata": {},
   "outputs": [],
   "source": [
    "sum_data = lambda arg1, arg2 : arg1+arg2   # like func (x, y) return x*y\n",
    "print(sum_data(10, 20))"
   ]
  },
  {
   "cell_type": "code",
   "execution_count": null,
   "metadata": {},
   "outputs": [],
   "source": [
    "# need to compare to 三元運算  XX if yy else zz\n",
    "x = lambda a, b : a + b\n",
    "print(x(5, 9))"
   ]
  },
  {
   "cell_type": "code",
   "execution_count": null,
   "metadata": {},
   "outputs": [],
   "source": [
    "# lambda <args> : <return Value> if <condition > ( <return value > if <condition> else <return value>)\n",
    "# need to compare to 三元運算  XX if yy else zz\n",
    "data = lambda x : x**2 if x > 3 else x**3\n",
    "print(data(2))"
   ]
  },
  {
   "cell_type": "code",
   "execution_count": 1,
   "metadata": {},
   "outputs": [
    {
     "data": {
      "text/plain": [
       "[36, 49, 64, 81]"
      ]
     },
     "execution_count": 1,
     "metadata": {},
     "output_type": "execute_result"
    }
   ],
   "source": [
    "[(lambda x: x*x)(x) for x in range(10) if x >5]"
   ]
  },
  {
   "cell_type": "code",
   "execution_count": null,
   "metadata": {},
   "outputs": [],
   "source": [
    "[x*x for x in range(10) if x >5]  # 另外寫法"
   ]
  },
  {
   "cell_type": "markdown",
   "metadata": {},
   "source": [
    "# 15-11"
   ]
  },
  {
   "cell_type": "code",
   "execution_count": null,
   "metadata": {},
   "outputs": [],
   "source": [
    "# mod15/global_var.py\n",
    "# Using global variable\n",
    "total = 0   # This is global variable\n",
    "\n",
    "# Function definition\n",
    "def sum_data(arg1, arg2):\n",
    "    total = arg1 + arg2; # total is local variable\n",
    "    # print 30\n",
    "    print('In function local total :', total)\n",
    "\n",
    "# MAIN    \n",
    "# Call function\n",
    "sum_data(10, 20)\n",
    "\n",
    "# print 0\n",
    "print('Outside function global total :', total)"
   ]
  },
  {
   "cell_type": "markdown",
   "metadata": {},
   "source": [
    "# 15-12"
   ]
  },
  {
   "cell_type": "code",
   "execution_count": null,
   "metadata": {},
   "outputs": [],
   "source": [
    "# mod15/global_var.py\n",
    "# even you add return.  is it still local variable? check\n",
    "\n",
    "eggs = 42        # this is the global\n",
    "def ham():\n",
    "    print(eggs)  # this is the global\n",
    "\n",
    "def bacon():\n",
    "    eggs = 'bacon'   # local assign.  local variable  \n",
    "    \n",
    "def spam():\n",
    "    global eggs\n",
    "    eggs = 'spam'    # this is the global\n",
    "    \n",
    "ham()\n",
    "bacon()\n",
    "print(eggs)      # 42\n",
    "\n",
    "spam()\n",
    "print(eggs)      # spam "
   ]
  },
  {
   "cell_type": "code",
   "execution_count": null,
   "metadata": {},
   "outputs": [],
   "source": [
    "for i in range(10):\n",
    "    print(i, end=' ')\n",
    "\n",
    "i  # it's still globle after for... loop"
   ]
  },
  {
   "cell_type": "markdown",
   "metadata": {},
   "source": [
    "---"
   ]
  },
  {
   "cell_type": "markdown",
   "metadata": {},
   "source": [
    "# Module_16_模組(Module)設計與使用"
   ]
  },
  {
   "cell_type": "code",
   "execution_count": null,
   "metadata": {},
   "outputs": [],
   "source": [
    "import numpy as np"
   ]
  },
  {
   "cell_type": "code",
   "execution_count": null,
   "metadata": {},
   "outputs": [],
   "source": [
    "# Support.py\n",
    "# Module defintion\n",
    "def print_func(arg):\n",
    "    \"\"\"Print Hello message to arg argument\"\"\"\n",
    "    print (__name__)\n",
    "    print ('Hello :',arg)"
   ]
  },
  {
   "cell_type": "code",
   "execution_count": null,
   "metadata": {},
   "outputs": [],
   "source": [
    "# mod 16 bmi module\n",
    "def BMI(w, h):\n",
    "    \"\"\"\n",
    "    calculate BMI\n",
    "    W : KG, h = cm\n",
    "    \"\"\"\n",
    "    print(__name__)\n",
    "\n",
    "    return w/(h/100)**2\n",
    "\n",
    "# MAIN\n",
    "if __name__=='__main__':\n",
    "    height=float(input('Height(cm): '))\n",
    "    weight=float(input('Weight(kg): '))\n",
    "    print('BMI is ',BMI(weight,height), '\\n')\n",
    "\n",
    "BMI?\n",
    "print_func(1)"
   ]
  },
  {
   "cell_type": "markdown",
   "metadata": {},
   "source": [
    "# 16-8"
   ]
  },
  {
   "cell_type": "code",
   "execution_count": null,
   "metadata": {},
   "outputs": [],
   "source": [
    "import math\n",
    "dir(math)"
   ]
  },
  {
   "cell_type": "code",
   "execution_count": null,
   "metadata": {},
   "outputs": [],
   "source": [
    "from math import cos"
   ]
  },
  {
   "cell_type": "markdown",
   "metadata": {},
   "source": [
    "---"
   ]
  },
  {
   "cell_type": "markdown",
   "metadata": {},
   "source": [
    "# Module_17_異常處理"
   ]
  },
  {
   "cell_type": "code",
   "execution_count": null,
   "metadata": {},
   "outputs": [],
   "source": [
    "# exception\n",
    "try:\n",
    "    n1,n2 = eval(input('Input two integers(n1,n2): '))\n",
    "    r = n1/n2\n",
    "    print('r =', r)    \n",
    "except SyntaxError:\n",
    "    print('Error: Please separate input data by comma!')\n",
    "except ZeroDivisionError:\n",
    "    print('Error: Devided by zero!')\n",
    "except:\n",
    "    print('Error: Input error!')\n",
    "else:\n",
    "    print('Else: No error !')\n",
    "finally:\n",
    "    print('finally')"
   ]
  },
  {
   "cell_type": "code",
   "execution_count": null,
   "metadata": {},
   "outputs": [],
   "source": [
    "# exception\n",
    "try:\n",
    "    num = eval(input('Enter a number: '))\n",
    "    print('value is', num)    \n",
    "except NameError as e:\n",
    "    print('Error: ',e)\n",
    "\n",
    "num = eval(input('Enter a number: '))\n",
    "print('value is', num)"
   ]
  },
  {
   "cell_type": "code",
   "execution_count": null,
   "metadata": {},
   "outputs": [],
   "source": [
    "# exception\n",
    "while True:\n",
    "    try:\n",
    "        lst1 = [1,2,3,4]\n",
    "        idx = int(input('Enter an index: '))\n",
    "        if not 0<=idx<4:\n",
    "            raise IndexError('Index out of range')\n",
    "        print('Value is',lst1[idx])\n",
    "        break\n",
    "    except IndexError as e:\n",
    "        print('Index Error :', e)"
   ]
  },
  {
   "cell_type": "markdown",
   "metadata": {},
   "source": [
    "---"
   ]
  },
  {
   "cell_type": "markdown",
   "metadata": {},
   "source": [
    "# Module_18_檔案的讀寫與組織管理"
   ]
  },
  {
   "cell_type": "code",
   "execution_count": null,
   "metadata": {},
   "outputs": [],
   "source": [
    "# file write\n",
    "fp = open('note.txt', 'w')\n",
    "fp.write('資策會\\n')\n",
    "fp.write('iiiedu\\n')\n",
    "print('Write two data to note.txt!')\n",
    "fp.close()\n",
    "\n",
    "fp = open('note.txt', 'a')  # append\n",
    "fp.write('iii.org.tw\\n')   # 後來加入\n",
    "print('Append one data to note.txt!')\n",
    "fp.close()"
   ]
  },
  {
   "cell_type": "code",
   "execution_count": null,
   "metadata": {},
   "outputs": [],
   "source": [
    "# file read\n",
    "fp = open('note.txt', 'r')\n",
    "print('Content(with new line):')\n",
    "\n",
    "for line in fp:\n",
    "    print(line)\n",
    "fp.close() "
   ]
  },
  {
   "cell_type": "code",
   "execution_count": null,
   "metadata": {},
   "outputs": [],
   "source": [
    "fp = open('note.txt', 'r')   \n",
    "print('Content(no new line):')\n",
    "\n",
    "for line in fp:\n",
    "    print(line, end='')    \n",
    "fp.close()\n",
    "print()"
   ]
  },
  {
   "cell_type": "code",
   "execution_count": null,
   "metadata": {},
   "outputs": [],
   "source": [
    "fp = open('note.txt', 'r')   \n",
    "print('Content(readline):')\n",
    "\n",
    "while True: \n",
    "    line=fp.readline() \n",
    "    if not line:\n",
    "        break\n",
    "    print(line, end='')    \n",
    "fp.close()"
   ]
  },
  {
   "cell_type": "code",
   "execution_count": null,
   "metadata": {},
   "outputs": [],
   "source": [
    "# With the \"with\" statement, you get better syntax and exceptions handling. \n",
    "# The with statement simplifies exception handling by encapsulating common\n",
    "# preparation and cleanup tasks.\n",
    "\n",
    "try:\n",
    "    fp = open('note.txt', 'r')\n",
    "    data = fp.read()\n",
    "    print('Content:')\n",
    "    print(data) \n",
    "except:\n",
    "    print('Error: File I/O error!')\n",
    "finally:\n",
    "    fp.close()"
   ]
  },
  {
   "cell_type": "code",
   "execution_count": null,
   "metadata": {},
   "outputs": [],
   "source": [
    "with open('note.txt', 'r') as fp:\n",
    "    data = fp.read()\n",
    "    print('Content:')\n",
    "    print(data)"
   ]
  },
  {
   "cell_type": "code",
   "execution_count": null,
   "metadata": {},
   "outputs": [],
   "source": [
    "# file read\n",
    "fname='note.txt'\n",
    "\n",
    "with open(fname, 'r') as fp:\n",
    "    print('Content(no new line):')\n",
    "\n",
    "    for line in fp:\n",
    "        print(line, end='') "
   ]
  }
 ],
 "metadata": {
  "kernelspec": {
   "display_name": "Python 3",
   "language": "python",
   "name": "python3"
  },
  "language_info": {
   "codemirror_mode": {
    "name": "ipython",
    "version": 3
   },
   "file_extension": ".py",
   "mimetype": "text/x-python",
   "name": "python",
   "nbconvert_exporter": "python",
   "pygments_lexer": "ipython3",
   "version": "3.6.4"
  }
 },
 "nbformat": 4,
 "nbformat_minor": 4
}
