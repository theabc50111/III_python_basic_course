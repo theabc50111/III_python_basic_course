{
 "cells": [
  {
   "cell_type": "markdown",
   "metadata": {},
   "source": [
    "# <font color=red> Module_00 課程簡介--Python先修課程</font>\n",
    "## 課程注意事項\n",
    ">###   請固定座位\n",
    ">###   放學時間要更正為5:45(扣掉休息時間，以及最後一天的考試時間)\n",
    ">###   上課時長55分鐘,休息時長10分鐘,自由發問、上廁所\n",
    ">###   需要完成線上作業(corelab)\n",
    ">###   最後一天有線上教學評量\n",
    ">###   最後一天下午有線上考試(90分鐘，50題選擇題)\n",
    ">###  <font color=red> 上課、考試期間禁止錄音錄影 </font>"
   ]
  },
  {
   "cell_type": "markdown",
   "metadata": {},
   "source": [
    "## CoreLab\n",
    ">### 系統會每天追蹤進度(小測驗、程式練習)，先修班結束時，要將所有練習題完成。\n"
   ]
  },
  {
   "cell_type": "markdown",
   "metadata": {},
   "source": [
    "## 養成班調查"
   ]
  },
  {
   "cell_type": "markdown",
   "metadata": {},
   "source": [
    "<details>\n",
    "    <summary>Why should I hire a software engineer if I can just copy and paste code from Stack Overflow?</summary>\n",
    "    <img src='./img/idiom.jpg'>\n",
    "</details>"
   ]
  }
 ],
 "metadata": {
  "kernelspec": {
   "display_name": "Python 3",
   "language": "python",
   "name": "python3"
  },
  "language_info": {
   "codemirror_mode": {
    "name": "ipython",
    "version": 3
   },
   "file_extension": ".py",
   "mimetype": "text/x-python",
   "name": "python",
   "nbconvert_exporter": "python",
   "pygments_lexer": "ipython3",
   "version": "3.8.5"
  }
 },
 "nbformat": 4,
 "nbformat_minor": 2
}
