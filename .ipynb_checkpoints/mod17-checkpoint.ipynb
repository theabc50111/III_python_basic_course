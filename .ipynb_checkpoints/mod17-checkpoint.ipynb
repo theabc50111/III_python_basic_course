{
 "cells": [
  {
   "cell_type": "markdown",
   "metadata": {},
   "source": [
    "#  <font color=red> Module_17_異常處理</font>"
   ]
  },
  {
   "cell_type": "markdown",
   "metadata": {},
   "source": [
    "# P17-6"
   ]
  },
  {
   "cell_type": "code",
   "execution_count": 2,
   "metadata": {},
   "outputs": [
    {
     "name": "stdout",
     "output_type": "stream",
     "text": [
      "Input two integers(n1,n2): 10,5\n",
      "r = 2.0\n",
      "Else: No errors!\n",
      "Finally: Finish processing!\n"
     ]
    }
   ],
   "source": [
    "# exception\n",
    "try:\n",
    "    n1,n2 = eval(input('Input two integers(n1,n2): '))\n",
    "    r = n1/n2\n",
    "    print('r =', r)    \n",
    "except:\n",
    "    print('Error: Input data or expression has error!') \n",
    "else:\n",
    "    print('Else: No errors!')\n",
    "finally:\n",
    "    print('Finally: Finish processing!')"
   ]
  },
  {
   "cell_type": "markdown",
   "metadata": {},
   "source": [
    "---"
   ]
  },
  {
   "cell_type": "markdown",
   "metadata": {},
   "source": [
    "# P17-7"
   ]
  },
  {
   "cell_type": "markdown",
   "metadata": {},
   "source": [
    "### try 敘述可以有㇐或多個 except 子句，來處理不同情況的異常"
   ]
  },
  {
   "cell_type": "code",
   "execution_count": 3,
   "metadata": {},
   "outputs": [
    {
     "name": "stdout",
     "output_type": "stream",
     "text": [
      "Input two integers(n1,n2): 10,5\n",
      "r = 2.0\n"
     ]
    }
   ],
   "source": [
    "n1,n2 = eval(input('Input two integers(n1,n2): '))\n",
    "r = n1/n2\n",
    "print('r =', r)  "
   ]
  },
  {
   "cell_type": "code",
   "execution_count": 4,
   "metadata": {},
   "outputs": [
    {
     "name": "stdout",
     "output_type": "stream",
     "text": [
      "Input two integers(n1,n2): 10,5\n",
      "r = 2.0\n",
      "no error\n",
      "finally\n"
     ]
    }
   ],
   "source": [
    "try:\n",
    "    n1,n2 = eval(input('Input two integers(n1,n2): '))\n",
    "    r = n1/n2\n",
    "    print('r =', r)    \n",
    "except SyntaxError: #輸入1;2可以測試此區塊\n",
    "    print('Error: Please separate input data by comma!')\n",
    "except ZeroDivisionError: #n2輸入0可以測試此區塊\n",
    "    print('Error: Devided by zero!')\n",
    "except: # 只輸入一個數字可以測試此區塊\n",
    "    print('Error: Input error!')\n",
    "else:\n",
    "    print('no error')\n",
    "finally:\n",
    "    print('finally')"
   ]
  },
  {
   "cell_type": "markdown",
   "metadata": {},
   "source": [
    "### ㇐個 except 子句可以處理多個類型的異常"
   ]
  },
  {
   "cell_type": "code",
   "execution_count": 5,
   "metadata": {},
   "outputs": [
    {
     "name": "stdout",
     "output_type": "stream",
     "text": [
      "Input two integers(n1,n2): 10,6\n",
      "r = 1.6666666666666667\n",
      "no error\n",
      "finally\n"
     ]
    }
   ],
   "source": [
    "try:\n",
    "    n1,n2 = eval(input('Input two integers(n1,n2): '))\n",
    "    r = n1/n2\n",
    "    print('r =', r)    \n",
    "except (SyntaxError,ZeroDivisionError):\n",
    "    print('Error: Please separate input data by comma! Or Devided by zero!')\n",
    "except:\n",
    "    print('Error: Input error!')\n",
    "else:\n",
    "    print('no error')\n",
    "finally:\n",
    "    print('finally')"
   ]
  },
  {
   "cell_type": "markdown",
   "metadata": {},
   "source": [
    "---"
   ]
  },
  {
   "cell_type": "markdown",
   "metadata": {},
   "source": [
    "# P17-9"
   ]
  },
  {
   "cell_type": "markdown",
   "metadata": {},
   "source": [
    "### 把錯誤訊息顯示出來"
   ]
  },
  {
   "cell_type": "code",
   "execution_count": 9,
   "metadata": {},
   "outputs": [
    {
     "name": "stdout",
     "output_type": "stream",
     "text": [
      "Enter a number: a\n"
     ]
    },
    {
     "ename": "NameError",
     "evalue": "name 'a' is not defined",
     "output_type": "error",
     "traceback": [
      "\u001b[1;31m---------------------------------------------------------------------------\u001b[0m",
      "\u001b[1;31mNameError\u001b[0m                                 Traceback (most recent call last)",
      "\u001b[1;32m<ipython-input-9-ce2c0e51c48a>\u001b[0m in \u001b[0;36m<module>\u001b[1;34m\u001b[0m\n\u001b[1;32m----> 1\u001b[1;33m \u001b[0mnum\u001b[0m \u001b[1;33m=\u001b[0m \u001b[0meval\u001b[0m\u001b[1;33m(\u001b[0m\u001b[0minput\u001b[0m\u001b[1;33m(\u001b[0m\u001b[1;34m'Enter a number: '\u001b[0m\u001b[1;33m)\u001b[0m\u001b[1;33m)\u001b[0m\u001b[1;33m\u001b[0m\u001b[1;33m\u001b[0m\u001b[0m\n\u001b[0m\u001b[0;32m      2\u001b[0m \u001b[0mprint\u001b[0m\u001b[1;33m(\u001b[0m\u001b[1;34m'value is'\u001b[0m\u001b[1;33m,\u001b[0m \u001b[0mnum\u001b[0m\u001b[1;33m)\u001b[0m\u001b[1;33m\u001b[0m\u001b[1;33m\u001b[0m\u001b[0m\n",
      "\u001b[1;32m<string>\u001b[0m in \u001b[0;36m<module>\u001b[1;34m\u001b[0m\n",
      "\u001b[1;31mNameError\u001b[0m: name 'a' is not defined"
     ]
    }
   ],
   "source": [
    "num = eval(input('Enter a number: '))\n",
    "print('value is', num) "
   ]
  },
  {
   "cell_type": "code",
   "execution_count": 10,
   "metadata": {},
   "outputs": [
    {
     "name": "stdout",
     "output_type": "stream",
     "text": [
      "Enter a number: a\n",
      "Error:  name 'a' is not defined\n"
     ]
    }
   ],
   "source": [
    "# exception\n",
    "try:\n",
    "    num = eval(input('Enter a number: '))\n",
    "    print('value is', num)    \n",
    "except NameError as e:\n",
    "    print('Error: ',e)"
   ]
  },
  {
   "cell_type": "markdown",
   "metadata": {},
   "source": [
    "---"
   ]
  },
  {
   "cell_type": "markdown",
   "metadata": {},
   "source": [
    "# P17-11"
   ]
  },
  {
   "cell_type": "code",
   "execution_count": 11,
   "metadata": {},
   "outputs": [
    {
     "name": "stdout",
     "output_type": "stream",
     "text": [
      "Enter an index: 5\n",
      "Index Error : Index out of range\n",
      "Enter an index: 1\n",
      "Value is 2\n"
     ]
    }
   ],
   "source": [
    "# exception\n",
    "while True:\n",
    "    try:\n",
    "        lst1 = [1,2,3,4]\n",
    "        idx = int(input('Enter an index: '))\n",
    "        if not 0<=idx<4:\n",
    "            raise IndexError('Index out of range')\n",
    "        print('Value is',lst1[idx])\n",
    "        break\n",
    "    except IndexError as e:\n",
    "        print('Index Error :', e)"
   ]
  }
 ],
 "metadata": {
  "kernelspec": {
   "display_name": "Python 3",
   "language": "python",
   "name": "python3"
  },
  "language_info": {
   "codemirror_mode": {
    "name": "ipython",
    "version": 3
   },
   "file_extension": ".py",
   "mimetype": "text/x-python",
   "name": "python",
   "nbconvert_exporter": "python",
   "pygments_lexer": "ipython3",
   "version": "3.8.5"
  }
 },
 "nbformat": 4,
 "nbformat_minor": 2
}
