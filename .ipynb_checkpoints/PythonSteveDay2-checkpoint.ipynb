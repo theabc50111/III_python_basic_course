{
 "cells": [
  {
   "cell_type": "markdown",
   "metadata": {},
   "source": [
    "# Module_07_程式的流程控制-條件判斷 if...else"
   ]
  },
  {
   "cell_type": "markdown",
   "metadata": {},
   "source": [
    "# 7-3"
   ]
  },
  {
   "cell_type": "code",
   "execution_count": null,
   "metadata": {},
   "outputs": [],
   "source": [
    "x = 3; y = 7; print('Result:', x)  #可以這樣寫用分號隔開\n",
    "print('Result:', x+y)  # , is space\n",
    "print('Result:'+str(x+y))\n",
    "# try f-string"
   ]
  },
  {
   "cell_type": "code",
   "execution_count": null,
   "metadata": {},
   "outputs": [],
   "source": [
    "x = 4\n",
    "if x == 3:\n",
    "    print ('x = 3')\n",
    "else :\n",
    "    pass"
   ]
  },
  {
   "cell_type": "markdown",
   "metadata": {},
   "source": [
    "# 7-4"
   ]
  },
  {
   "cell_type": "code",
   "execution_count": null,
   "metadata": {},
   "outputs": [],
   "source": [
    "total = 11+ \\\n",
    "12 + \\\n",
    "13 + \\\n",
    "14\n",
    "total"
   ]
  },
  {
   "cell_type": "code",
   "execution_count": null,
   "metadata": {},
   "outputs": [],
   "source": [
    "days =['Sun', 'Mon', 'Tue',\n",
    "      'Wed', 'Thu', 'Fri', 'Sat']\n",
    "# try {}, ()"
   ]
  },
  {
   "cell_type": "markdown",
   "metadata": {},
   "source": [
    "# 7-5 comments"
   ]
  },
  {
   "cell_type": "code",
   "execution_count": null,
   "metadata": {},
   "outputs": [],
   "source": [
    "# #真正的備註\n",
    "# this is python\n",
    "# hello python\n",
    "# no any evaluate"
   ]
  },
  {
   "cell_type": "code",
   "execution_count": null,
   "metadata": {},
   "outputs": [],
   "source": [
    "# document String\n",
    "'''\n",
    "this is python\n",
    "hello python\n",
    "'''\n",
    "# still evaluate.  It is not a comment.   slow down your program"
   ]
  },
  {
   "cell_type": "markdown",
   "metadata": {},
   "source": [
    "# 7-7"
   ]
  },
  {
   "cell_type": "code",
   "execution_count": null,
   "metadata": {},
   "outputs": [],
   "source": [
    "var1 = 100 \n",
    "if var1: \n",
    "    print('True expr 1 : ', var1) \n",
    "    \n",
    "var2 = 0 \n",
    "if var2: \n",
    "    print('True expr 2 : ', var2) \n",
    "    \n",
    "print('Finished!')"
   ]
  },
  {
   "cell_type": "markdown",
   "metadata": {},
   "source": [
    "# 7-9"
   ]
  },
  {
   "cell_type": "code",
   "execution_count": null,
   "metadata": {},
   "outputs": [],
   "source": [
    "# %run mod07/ifstmt2.py\n",
    "# if-else stmt\n",
    "s = int(input('Input score: '))\n",
    "\n",
    "if s >= 60:\n",
    "    print(\"Pass!\")\n",
    "else:\n",
    "    print(\"Not pass!\")"
   ]
  },
  {
   "cell_type": "code",
   "execution_count": null,
   "metadata": {},
   "outputs": [],
   "source": [
    "a = 1\n",
    "if a==1:\n",
    "    print('a is 1')\n",
    "print('a is a number')  # 這個 print在 if 之外"
   ]
  },
  {
   "cell_type": "markdown",
   "metadata": {},
   "source": [
    "# 7-10"
   ]
  },
  {
   "cell_type": "code",
   "execution_count": null,
   "metadata": {
    "scrolled": true
   },
   "outputs": [],
   "source": [
    "lst = [11, 22]\n",
    "lst.clear()\n",
    "print('lst = ', lst)\n",
    "print('False == bool(lst)) :   ', False == bool(lst))\n",
    "print('False == bool(None) :   ', False == bool(None))\n",
    "print('False == 0 :            ', False == 0)"
   ]
  },
  {
   "cell_type": "code",
   "execution_count": null,
   "metadata": {
    "scrolled": true
   },
   "outputs": [],
   "source": [
    "print('False == 0.0 :        ', False == 0.0)\n",
    "print('False == bool(()) :   ', False == bool(()))\n",
    "print('False == bool({}) :   ', False == bool({}))"
   ]
  },
  {
   "cell_type": "markdown",
   "metadata": {},
   "source": [
    "# 7-12"
   ]
  },
  {
   "cell_type": "code",
   "execution_count": null,
   "metadata": {},
   "outputs": [],
   "source": [
    "amt = 2000\n",
    "if amt < 1000:\n",
    "    discount = amt * 0.05\n",
    "    print('Discount', discount)\n",
    "else:\n",
    "    discount = amt * 0.10\n",
    "    print('Discount', discount)"
   ]
  },
  {
   "cell_type": "markdown",
   "metadata": {},
   "source": [
    "# 7-14"
   ]
  },
  {
   "cell_type": "code",
   "execution_count": null,
   "metadata": {},
   "outputs": [],
   "source": [
    "amt = int(input('Enter amount: '))\n",
    "\n",
    "if amt < 1000:\n",
    "    discount = amt * 0.05\n",
    "    print('Discount',discount)\n",
    "elif amt < 5000:\n",
    "    discount = amt * 0.10\n",
    "    print('Discount',discount)\n",
    "else:\n",
    "    discount = amt * 0.15\n",
    "    print('Discount',discount)\n",
    "\n",
    "print('Net price:',amt - discount)"
   ]
  },
  {
   "cell_type": "markdown",
   "metadata": {},
   "source": [
    "# 7-16"
   ]
  },
  {
   "cell_type": "code",
   "execution_count": null,
   "metadata": {},
   "outputs": [],
   "source": [
    "num = int(input('enter number'))\n",
    "if num%2 == 0:\n",
    "    if num%3 == 0:\n",
    "        print('Divisible by 3 and 2')\n",
    "    else:\n",
    "        print('Divisible by 2, not divisible by 3')\n",
    "else:\n",
    "    if num%3 == 0:\n",
    "        print('Divisible by 3, not divisible by 2')\n",
    "    else:\n",
    "        print('Not Divisible by 2, not divisible by 3')"
   ]
  },
  {
   "cell_type": "markdown",
   "metadata": {},
   "source": [
    "# 7-17"
   ]
  },
  {
   "cell_type": "code",
   "execution_count": null,
   "metadata": {},
   "outputs": [],
   "source": [
    "var = 30\n",
    "# Only one statement\n",
    "if var==50: print('Value is 50')\n",
    "if var==40: print('Value is 40')\n",
    "print('Finished!')"
   ]
  },
  {
   "cell_type": "code",
   "execution_count": null,
   "metadata": {},
   "outputs": [],
   "source": [
    "a = 2\n",
    "#if a%3==0: Result = True\n",
    "#else: Result = False\n",
    "Result = 3 if a%3==0 else \"Hello\"\n",
    "Result"
   ]
  },
  {
   "cell_type": "code",
   "execution_count": null,
   "metadata": {},
   "outputs": [],
   "source": [
    "a=9\n",
    "if a%2:     # 9%2 = 1, True\n",
    "    print('Apple') \n",
    "else: \n",
    "    print('False')\n",
    "\n",
    "# practice print.....if   else pr...."
   ]
  },
  {
   "cell_type": "code",
   "execution_count": 2,
   "metadata": {},
   "outputs": [
    {
     "name": "stdout",
     "output_type": "stream",
     "text": [
      "x:50\n",
      "y:60\n",
      "z:70\n",
      "The largest of the number is 70\n",
      "largest num 70\n"
     ]
    }
   ],
   "source": [
    "x = int(input('x:')) ; y = int(input('y:')); z = int(input('z:'))\n",
    "print('The largest of the number is ', end='')\n",
    "if x>y :\n",
    "    if x>z:\n",
    "        print(x)\n",
    "    else:\n",
    "        print(z)\n",
    "else:                # y > x\n",
    "    if y>z:\n",
    "        print(y)\n",
    "    else:\n",
    "        print(z)\n",
    "        \n",
    "print(f'largest num {max([x, y, z])}')"
   ]
  },
  {
   "cell_type": "markdown",
   "metadata": {},
   "source": [
    "# 7-19"
   ]
  },
  {
   "cell_type": "code",
   "execution_count": null,
   "metadata": {},
   "outputs": [],
   "source": [
    "x = 7\n",
    "if x==7:\n",
    "    y=3\n",
    "else:\n",
    "    y=5"
   ]
  },
  {
   "cell_type": "code",
   "execution_count": null,
   "metadata": {},
   "outputs": [],
   "source": [
    "x = 7\n",
    "if x==7: y=3\n",
    "else: y=5"
   ]
  },
  {
   "cell_type": "code",
   "execution_count": null,
   "metadata": {},
   "outputs": [],
   "source": [
    "# 取代簡單的 if...else\n",
    "x = 7\n",
    "y=3 if x==7 else 5\n",
    "y"
   ]
  },
  {
   "cell_type": "code",
   "execution_count": 1,
   "metadata": {},
   "outputs": [
    {
     "name": "stdout",
     "output_type": "stream",
     "text": [
      "120 ns ± 0.884 ns per loop (mean ± std. dev. of 7 runs, 10000000 loops each)\n"
     ]
    }
   ],
   "source": [
    "%%timeit\n",
    "x=5\n",
    "if x%2==0:\n",
    "    y=1\n",
    "else:\n",
    "    y=50"
   ]
  },
  {
   "cell_type": "code",
   "execution_count": 2,
   "metadata": {},
   "outputs": [
    {
     "name": "stdout",
     "output_type": "stream",
     "text": [
      "105 ns ± 1.39 ns per loop (mean ± std. dev. of 7 runs, 10000000 loops each)\n"
     ]
    }
   ],
   "source": [
    "%%timeit\n",
    "x=5\n",
    "if not x%2:\n",
    "    y=1\n",
    "else:\n",
    "    y=50"
   ]
  },
  {
   "cell_type": "markdown",
   "metadata": {},
   "source": [
    "---"
   ]
  },
  {
   "cell_type": "markdown",
   "metadata": {},
   "source": [
    "# Module_08_程式的流程控制-迴圈 while ,  for... range"
   ]
  },
  {
   "cell_type": "markdown",
   "metadata": {},
   "source": [
    "## 8-4"
   ]
  },
  {
   "cell_type": "code",
   "execution_count": null,
   "metadata": {},
   "outputs": [],
   "source": [
    "count = 0\n",
    "while count < 9:\n",
    "#    print('count is:', count)\n",
    "    count += 1\n",
    "print('Finished!')"
   ]
  },
  {
   "cell_type": "code",
   "execution_count": null,
   "metadata": {},
   "outputs": [],
   "source": [
    "# %run mod08/whilestmt1.py\n",
    "# while stmt\n",
    "\n",
    "m = int(input('Input factorial:'))\n",
    "r = n = 1\n",
    "\n",
    "while n <= m:\n",
    "    r *= n  # r = r * n\n",
    "    n += 1\n",
    "print(str(m) + '! =', r)\n",
    "\n",
    "# or\n",
    "\n",
    "r = n = 1\n",
    "for n in range(1, m+1):  # iteration iteration #  迭代 : 重複的意思\n",
    "    r*=n\n",
    "print(str(m) + '! =', r)"
   ]
  },
  {
   "cell_type": "code",
   "execution_count": null,
   "metadata": {},
   "outputs": [],
   "source": [
    "# 比如說提款機\n",
    "\n",
    "num = 1\n",
    "while num==1  :         # This constructs an infinite loop\n",
    "    cash = int(input(\"輸入提款金額  :\"))\n",
    "    if 0<cash <30000:\n",
    "        break\n",
    "    \n",
    "print (\"輸入密碼\")"
   ]
  },
  {
   "cell_type": "code",
   "execution_count": null,
   "metadata": {},
   "outputs": [],
   "source": [
    "while True:\n",
    "    user = input('你猜，我是 python / java / C++ ?? ')\n",
    "    if user == 'python':\n",
    "        break\n",
    "    print(user)\n",
    "print('好，答對了！')"
   ]
  },
  {
   "cell_type": "code",
   "execution_count": 6,
   "metadata": {},
   "outputs": [
    {
     "name": "stdout",
     "output_type": "stream",
     "text": [
      "84\n"
     ]
    }
   ],
   "source": [
    "# 年利率5%，則每個月的利率為5%/12=0.4167%\n",
    "# 1萬元放在銀行，本金加利率總額為 10000*(1+0.05/12)=10041.67元\n",
    "total=0\n",
    "i=0\n",
    "# while loop ...\n",
    "while (total<1000000):\n",
    "    total *= (1+0.05/12)\n",
    "    total+=50000\n",
    "    i+=1\n",
    "print(i)"
   ]
  },
  {
   "cell_type": "code",
   "execution_count": null,
   "metadata": {},
   "outputs": [],
   "source": [
    "for var in [1, 2, 3, 4, 5]:\n",
    "    print(var)"
   ]
  },
  {
   "cell_type": "markdown",
   "metadata": {},
   "source": [
    "# 8-7"
   ]
  },
  {
   "cell_type": "code",
   "execution_count": null,
   "metadata": {},
   "outputs": [],
   "source": [
    "for i in range(1,10):\n",
    "    for j in range(1,10):\n",
    "        x = i * j\n",
    "        print(x, end=' ')\n",
    "    print()"
   ]
  },
  {
   "cell_type": "code",
   "execution_count": null,
   "metadata": {},
   "outputs": [],
   "source": [
    "for i in range(1,10):\n",
    "    for j in range(1,10):\n",
    "        print(f'{i:1} * {j:1} = {i*j:2}', end=',   ')\n",
    "\n",
    "    print('')"
   ]
  },
  {
   "cell_type": "markdown",
   "metadata": {},
   "source": [
    "# 8-8 range()"
   ]
  },
  {
   "cell_type": "code",
   "execution_count": null,
   "metadata": {},
   "outputs": [],
   "source": [
    "# lazy evaluation\n",
    "range(1,6)  # get ready, not execute"
   ]
  },
  {
   "cell_type": "code",
   "execution_count": null,
   "metadata": {},
   "outputs": [],
   "source": [
    "for i in range(1,10):\n",
    "    print(i)"
   ]
  },
  {
   "cell_type": "code",
   "execution_count": null,
   "metadata": {},
   "outputs": [],
   "source": [
    "list(range(1,6))  # execute"
   ]
  },
  {
   "cell_type": "code",
   "execution_count": null,
   "metadata": {},
   "outputs": [],
   "source": [
    "tuple(range(1,6))  # execute"
   ]
  },
  {
   "cell_type": "code",
   "execution_count": null,
   "metadata": {},
   "outputs": [],
   "source": [
    "set(range(1,6)) # execute"
   ]
  },
  {
   "cell_type": "code",
   "execution_count": null,
   "metadata": {},
   "outputs": [],
   "source": [
    "list(range(1, 15, 2))  # how about range (a,d)"
   ]
  },
  {
   "cell_type": "markdown",
   "metadata": {},
   "source": [
    "## p8-10, 11, 12, 14"
   ]
  },
  {
   "cell_type": "code",
   "execution_count": 4,
   "metadata": {},
   "outputs": [
    {
     "name": "stdout",
     "output_type": "stream",
     "text": [
      "有 偶數存在 22\n"
     ]
    }
   ],
   "source": [
    "numbers = [31, 57, 75, 85, 27, 93, 63, 19, 22, 44]\n",
    "for num in numbers:\n",
    "    if num%2 == 0:\n",
    "        print('有 偶數存在', num)\n",
    "        break\n",
    "else:\n",
    "    print('無 偶數存在')"
   ]
  },
  {
   "cell_type": "code",
   "execution_count": 5,
   "metadata": {},
   "outputs": [
    {
     "name": "stdout",
     "output_type": "stream",
     "text": [
      "['odd', 'odd', 'odd', 'odd', 'odd', 'odd', 'odd', 'odd', 'even', 'even']\n",
      "['even', 'even']\n"
     ]
    }
   ],
   "source": [
    "x = ['even' if num%2==0 else 'odd' for num in numbers]\n",
    "print(x)\n",
    "\n",
    "y = ['even' for num in numbers if num%2==0]\n",
    "print(y)"
   ]
  },
  {
   "cell_type": "code",
   "execution_count": null,
   "metadata": {
    "scrolled": true
   },
   "outputs": [],
   "source": [
    "# %run mod08/whilestmt2.py\n",
    "# whie with break stmt\n",
    "i = 1\n",
    "while True:\n",
    "    print(i, end=', ')\n",
    "    i += 1\n",
    "    if i > 5:\n",
    "        break"
   ]
  },
  {
   "cell_type": "code",
   "execution_count": null,
   "metadata": {},
   "outputs": [],
   "source": [
    "total = 0 \n",
    "\n",
    "for i in range(1,6):\n",
    "    total+=i\n",
    "total"
   ]
  },
  {
   "cell_type": "markdown",
   "metadata": {},
   "source": [
    "---"
   ]
  },
  {
   "cell_type": "markdown",
   "metadata": {},
   "source": [
    "# Module_09_串列(List)\n",
    "# index\n",
    "><img src=\".\\img\\list.png\"  style='height:250px; width:650px'>"
   ]
  },
  {
   "cell_type": "code",
   "execution_count": 8,
   "metadata": {},
   "outputs": [
    {
     "name": "stdout",
     "output_type": "stream",
     "text": [
      "['a', 'b', 'c', 'd']\n",
      "['a', 'b', 'c', 'd']\n"
     ]
    }
   ],
   "source": [
    "list1=['a', 'b', 'c', 'd']\n",
    "print(list1)\n",
    "list2='a b c d'.split() # 講義P5-13\n",
    "print(list2)\n",
    "list('abcd')"
   ]
  },
  {
   "cell_type": "code",
   "execution_count": null,
   "metadata": {},
   "outputs": [],
   "source": [
    "names=['fraser', 'grace', 'john', 'jess', 'jack', 23.5, 2019]\n",
    "print('names =                  ', names)\n",
    "print('names[0] =               ', names[0])\n",
    "print('names[0][0] =            ', names[0][0], '\\n')\n",
    "\n",
    "print('names[5] =               ', names[5])\n",
    "print('names[-1] =              ', names[-1],'\\n')\n",
    "\n",
    "print('names[1:5] =             ', names[1:5])\n",
    "print('names[1:6:2] =           ', (names[1:6:2]))\n",
    "\n",
    "names[2]='Kevin'\n",
    "print(\"names[2]='Kevin' :       \", names)         # 修改\n",
    "\n",
    "names[-1:]=[2000, 23.5]                           # 一次改兩筆資料\n",
    "print('names[-1:]=[2000, 23.5] :', names)"
   ]
  },
  {
   "cell_type": "code",
   "execution_count": 1,
   "metadata": {},
   "outputs": [
    {
     "data": {
      "text/plain": [
       "['He', 'saw', 'six', 'small', 'foxes']"
      ]
     },
     "execution_count": 1,
     "metadata": {},
     "output_type": "execute_result"
    }
   ],
   "source": [
    "b = ['saw', 'small', 'He', 'foxes', 'six']\n",
    "b.sort(key=len)  # length\n",
    "b"
   ]
  },
  {
   "cell_type": "markdown",
   "metadata": {},
   "source": [
    "# 9-6"
   ]
  },
  {
   "cell_type": "code",
   "execution_count": null,
   "metadata": {},
   "outputs": [],
   "source": [
    "lst = [33, 'python', [11, 12, 13], 77]\n",
    "print(len(lst))\n",
    "print(lst[0])\n",
    "print(lst[2])\n",
    "print(lst[2][2])"
   ]
  },
  {
   "cell_type": "markdown",
   "metadata": {},
   "source": [
    ">![listNested](.\\img\\listNested.png)"
   ]
  },
  {
   "cell_type": "code",
   "execution_count": 2,
   "metadata": {},
   "outputs": [
    {
     "data": {
      "text/plain": [
       "True"
      ]
     },
     "execution_count": 2,
     "metadata": {},
     "output_type": "execute_result"
    }
   ],
   "source": [
    "lst1=[10,20,30]\n",
    "lst2=[10,20,30]\n",
    "lst3=[10,30,20]\n",
    "lst1==lst2"
   ]
  },
  {
   "cell_type": "code",
   "execution_count": 3,
   "metadata": {},
   "outputs": [
    {
     "data": {
      "text/plain": [
       "False"
      ]
     },
     "execution_count": 3,
     "metadata": {},
     "output_type": "execute_result"
    }
   ],
   "source": [
    "lst1==lst3  #順序需一致"
   ]
  },
  {
   "cell_type": "code",
   "execution_count": 4,
   "metadata": {},
   "outputs": [
    {
     "name": "stdout",
     "output_type": "stream",
     "text": [
      "False\n",
      "1799520007240 1799523253448\n"
     ]
    }
   ],
   "source": [
    "print(lst1 is lst2)   # 可能False,  True (機率很低很低) 數值雖然想同, 但記憶體位置可能不同\n",
    "print(id(lst1), id(lst2))"
   ]
  },
  {
   "cell_type": "code",
   "execution_count": 5,
   "metadata": {},
   "outputs": [
    {
     "data": {
      "text/plain": [
       "False"
      ]
     },
     "execution_count": 5,
     "metadata": {},
     "output_type": "execute_result"
    }
   ],
   "source": [
    "lst1 is lst3"
   ]
  },
  {
   "cell_type": "markdown",
   "metadata": {},
   "source": [
    "# 9-8"
   ]
  },
  {
   "cell_type": "code",
   "execution_count": null,
   "metadata": {},
   "outputs": [],
   "source": [
    "[1, 2, 3] + [4, 5, 6]"
   ]
  },
  {
   "cell_type": "code",
   "execution_count": null,
   "metadata": {},
   "outputs": [],
   "source": [
    "['Hi!'] * 4"
   ]
  },
  {
   "cell_type": "code",
   "execution_count": null,
   "metadata": {},
   "outputs": [],
   "source": [
    "30 in [10, 20, 30]"
   ]
  },
  {
   "cell_type": "code",
   "execution_count": null,
   "metadata": {},
   "outputs": [],
   "source": [
    "a = [10, 20, 30]\n",
    "for x in a: \n",
    "    print (x, end = ' ')\n",
    "\n",
    "for i in range(len(a)): \n",
    "    print (a[i], end = ' ')"
   ]
  },
  {
   "cell_type": "markdown",
   "metadata": {},
   "source": [
    "# 9-11"
   ]
  },
  {
   "cell_type": "code",
   "execution_count": null,
   "metadata": {},
   "outputs": [],
   "source": [
    "x, y, z=20, 10, 30\n",
    "lst=[x, y, z]\n",
    "\n",
    "print('lst = ', lst)\n",
    "print('max(lst) :                  ', max(lst))\n",
    "print('min(lst) :                  ', min(lst))\n",
    "print('sum(lst) :                  ', sum(lst))\n",
    "print('sorted(lst):                ', sorted(lst))\n",
    "print('sorted(lst, reverse=True) : ', sorted(lst, reverse=True))"
   ]
  },
  {
   "cell_type": "code",
   "execution_count": null,
   "metadata": {},
   "outputs": [],
   "source": [
    "lst=[11, 22, 33, 44]\n",
    "print('lst =                       ', lst)\n",
    "print('id(lst) :                   ', id(lst), '\\n')\n",
    "\n",
    "lst[2] = 66\n",
    "print('lst[2] = 66 :               ', lst, '\\n')\n",
    "\n",
    "lst[2:]=['aaa','bbb']\n",
    "print(\"lst[2:]=['aaa','bbb'] :     \",lst,'\\n')\n",
    "\n",
    "lst[2:]=[333,444,555,666]  #list 可增加直接擴大\n",
    "print('lst[2:] = :                 ', lst)\n",
    "print('id(lst) :                   ', id(lst), '\\n')"
   ]
  },
  {
   "cell_type": "code",
   "execution_count": null,
   "metadata": {},
   "outputs": [],
   "source": [
    "lst1= [33, 'python', [11,22,33], (44,55,66)]\n",
    "print('lst1 :                      ', lst1)\n",
    "print('lst1[3][0] :                ', lst1[3][0],'\\n')\n",
    "#lst1[3][0] = 88"
   ]
  },
  {
   "cell_type": "code",
   "execution_count": null,
   "metadata": {},
   "outputs": [],
   "source": [
    "lst1 = 3*[33,44]\n",
    "print('lst1 = 3*[33,44] :          ', lst1,'\\n')\n",
    "\n",
    "lst1 = [55,66]*3\n",
    "print('lst1 = [55,66]*3 :          ', lst1)"
   ]
  },
  {
   "cell_type": "code",
   "execution_count": null,
   "metadata": {},
   "outputs": [],
   "source": [
    "a = [4, 777, 444, 999, 11]\n",
    "b = ['aa', 'bb', 'cc']\n",
    "\n",
    "print(f'a = {a} , b = {b} \\n')\n",
    "\n",
    "print('max(a) :                  ', max(a))\n",
    "print('min(a) :                  ', min(a))\n",
    "print('sum(a) :                  ', sum(a),'\\n')\n",
    "\n",
    "print('sorted(a) :               ', sorted(a))\n",
    "print('sorted(a, reverse=True) : ', sorted(a, reverse=True))"
   ]
  },
  {
   "cell_type": "code",
   "execution_count": null,
   "metadata": {},
   "outputs": [],
   "source": [
    "a = [4, 777, 444, 999, 11]\n",
    "b = ['aa', 'bb', 'cc']\n",
    "\n",
    "print(f'a = {a} , b = {b} \\n')\n",
    "\n",
    "a.append('1')\n",
    "print('a.append(1) :             ', a)               # 新增\n",
    "print('a+[1] :                   ', a+[1], '\\n')\n",
    "\n",
    "a.extend(b)\n",
    "print('a.extend(b) :             ', a)\n",
    "print('a.count(4) :              ', a.count(4))        # coount 4 and 444\n",
    "print('a.index(4) :              ', a.index(4), '\\n')\n",
    "\n",
    "a.insert(5, 555)\n",
    "print('a.insert(5, 555) :        ', a)"
   ]
  },
  {
   "cell_type": "code",
   "execution_count": null,
   "metadata": {},
   "outputs": [],
   "source": [
    "a = [4, 777, 444, 999, 11, 45, 66, 88, 73]\n",
    "b = ['aa', 'bb', 'cc']\n",
    "\n",
    "print(f'a = {a} , b = {b} \\n')\n",
    "a.pop()                                       #刪除\n",
    "print('a.pop() :                 ', a)        \n",
    "a.pop(4)                                      #刪除\n",
    "print('a.pop(4) :                ', a)\n",
    "a.remove(a[2])                                #刪除\n",
    "print('a.remove(a[2]) :          ', a, '\\n')\n",
    "\n",
    "a.reverse()\n",
    "print('a.reverse :               ', a)\n",
    "\n",
    "c = a.copy()\n",
    "print('c = a.copy() :            ', c)\n",
    "\n",
    "a.clear()\n",
    "print('a.clear() :               ', a)"
   ]
  },
  {
   "cell_type": "code",
   "execution_count": null,
   "metadata": {},
   "outputs": [],
   "source": [
    "# 找 10 在 list 中的位址\n",
    "# my_list=[10, 20, 30, 10, 20, 30]\n",
    "my_list=list(range(10,40,10))*2\n",
    "print(my_list)\n",
    "my_list_out=[]\n",
    "pos=0\n",
    "# for loop start\n",
    "for x in my_list:\n",
    "    if(x==10):\n",
    "        my_list_out.append(pos)\n",
    "#        my_list_out+=[pos]\n",
    "#        my_list_out.extend([pos])\n",
    "    pos+=1\n",
    "#for loop end\n",
    "print(my_list_out)"
   ]
  },
  {
   "cell_type": "markdown",
   "metadata": {},
   "source": [
    "---"
   ]
  },
  {
   "cell_type": "markdown",
   "metadata": {},
   "source": [
    "# Module_10_串列(List)與元組(Tuple)\n",
    ">### tuple 佔記憶體小, 計算速度快\n",
    ">![memoryIndex](.\\img\\memoryIndex03.png)"
   ]
  },
  {
   "cell_type": "code",
   "execution_count": null,
   "metadata": {},
   "outputs": [],
   "source": [
    "t1=(50) # not tuple becasue of no ','\n",
    "t1\n",
    "type(t1)"
   ]
  },
  {
   "cell_type": "code",
   "execution_count": null,
   "metadata": {},
   "outputs": [],
   "source": [
    "t2=(50,)\n",
    "print(t2*4)\n",
    "type(t2)"
   ]
  },
  {
   "cell_type": "code",
   "execution_count": null,
   "metadata": {},
   "outputs": [],
   "source": [
    "tup2 = 50,    # tup2 = 50, 60, 70\n",
    "type(tup2)"
   ]
  },
  {
   "cell_type": "code",
   "execution_count": null,
   "metadata": {},
   "outputs": [],
   "source": [
    "t3=tuple(range(0,10,2))\n",
    "print(t3)\n",
    "\n",
    "t3[1] = 5         # error,  immutable\n",
    "t3.remove(['2'])  # error, not removable, pop"
   ]
  },
  {
   "cell_type": "code",
   "execution_count": null,
   "metadata": {},
   "outputs": [],
   "source": [
    "tup3=('aaa', 'bbb', 'kkk', 'jjj', 'cc1')\n",
    "\n",
    "print(sorted(tup3))  #tuple sorted 傳回的是list[], 需要用參數去接, lst=sorted(t3), t3 is still tuple, no change\n",
    "print(max(tup3))\n",
    "print(min(tup3))\n",
    "print(tup3.count('kkk'))\n",
    "tup3+(111,222)"
   ]
  },
  {
   "cell_type": "code",
   "execution_count": null,
   "metadata": {},
   "outputs": [],
   "source": [
    "tup = 4, 5, 6; tup1 = (4, 5, 6)\n",
    "print(tup+tup1)\n",
    "print(tup+tup1+(8,))"
   ]
  },
  {
   "cell_type": "code",
   "execution_count": 5,
   "metadata": {},
   "outputs": [
    {
     "name": "stdout",
     "output_type": "stream",
     "text": [
      "Number 0 year => total : 200000.0, save : 0, Interest : 200000.0\n",
      "Number 1 year => total : 410000.0, save : 200000, Interest : 210000.0\n",
      "Number 2 year => total : 630500.0, save : 400000, Interest : 230500.0\n",
      "Number 3 year => total : 862025.0, save : 600000, Interest : 262025.0\n",
      "Number 4 year => total : 1105126.25, save : 800000, Interest : 305126.25\n",
      "Number 5 year => total : 1360382.5625, save : 1000000, Interest : 360382.5625\n",
      "Number 6 year => total : 1628401.690625, save : 1200000, Interest : 428401.69062500005\n",
      "Number 7 year => total : 1909821.7751562502, save : 1400000, Interest : 509821.7751562502\n",
      "Number 8 year => total : 2205312.8639140627, save : 1600000, Interest : 605312.8639140627\n",
      "Number 9 year => total : 2515578.507109766, save : 1800000, Interest : 715578.5071097659\n",
      "Number 10 year => total : 2841357.4324652543, save : 2000000, Interest : 841357.4324652543\n",
      "Number 11 year => total : 3183425.304088517, save : 2200000, Interest : 983425.3040885171\n",
      "Number 12 year => total : 3542596.569292943, save : 2400000, Interest : 1142596.569292943\n",
      "Number 13 year => total : 3919726.3977575903, save : 2600000, Interest : 1319726.3977575903\n",
      "Number 14 year => total : 4315712.71764547, save : 2800000, Interest : 1515712.71764547\n",
      "Number 15 year => total : 4731498.353527743, save : 3000000, Interest : 1731498.3535277434\n",
      "Number 16 year => total : 5168073.271204131, save : 3200000, Interest : 1968073.2712041307\n",
      "Number 17 year => total : 5626476.934764338, save : 3400000, Interest : 2226476.9347643377\n",
      "Number 18 year => total : 6107800.781502555, save : 3600000, Interest : 2507800.781502555\n",
      "Number 19 year => total : 6613190.820577683, save : 3800000, Interest : 2813190.820577683\n",
      "Number 20 year => total : 7143850.361606567, save : 4000000, Interest : 3143850.361606567\n"
     ]
    }
   ],
   "source": [
    "total=0\n",
    "for i in range(21):\n",
    "    total *= 1.05\n",
    "    total += 200000\n",
    "    print(f'Number {i} year => total : {total}, save : {200000*i}, Interest : {total-(200000*i)}')"
   ]
  },
  {
   "cell_type": "code",
   "execution_count": null,
   "metadata": {},
   "outputs": [],
   "source": [
    "tup = 4, 5, 6; nested_tup = (4, 5, 6), (7, 8)\n",
    "\n",
    "print(type(tup))\n",
    "print(nested_tup)\n",
    "print(tup+nested_tup)"
   ]
  },
  {
   "cell_type": "code",
   "execution_count": null,
   "metadata": {},
   "outputs": [],
   "source": [
    "tup1 = ('aiot', 'python', 23.5, 2019)\n",
    "tup2 = (1, 2, 3, 4, 5, 6, 7, 8, 9, 10)\n",
    "\n",
    "print(tup1[0])\n",
    "print(tup2[1:5])\n",
    "print(tup2[1:10:2])"
   ]
  },
  {
   "cell_type": "code",
   "execution_count": 1,
   "metadata": {},
   "outputs": [
    {
     "name": "stdout",
     "output_type": "stream",
     "text": [
      "(4, 0, 2) \n",
      "\n",
      "('s', 't', 'r', 'i', 'n', 'g')\n",
      "s\n"
     ]
    }
   ],
   "source": [
    "tup = tuple([4, 0, 2])\n",
    "print(tup, '\\n')\n",
    "\n",
    "tup = tuple('string')  # try list ('string')\n",
    "print(tup)\n",
    "print(tup[0])"
   ]
  },
  {
   "cell_type": "code",
   "execution_count": null,
   "metadata": {},
   "outputs": [],
   "source": [
    "tup = tuple(['foo', [1, 2], True])\n",
    "\n",
    "# tup[2] = False\n",
    "tup[1].append(3)  # list in Tuple OK to change or append inside of list\n",
    "print(tup)\n",
    "print(len(tup))\n",
    "tup[1][0]=20\n",
    "tup"
   ]
  },
  {
   "cell_type": "markdown",
   "metadata": {},
   "source": [
    "#### Tuple methods"
   ]
  },
  {
   "cell_type": "code",
   "execution_count": null,
   "metadata": {},
   "outputs": [],
   "source": [
    "a = (1, 2, 2, 2, 3, 4, 2)\n",
    "a.count(2)"
   ]
  },
  {
   "cell_type": "markdown",
   "metadata": {},
   "source": [
    "#### Unpacking tuples"
   ]
  },
  {
   "cell_type": "code",
   "execution_count": 2,
   "metadata": {},
   "outputs": [
    {
     "data": {
      "text/plain": [
       "5"
      ]
     },
     "execution_count": 2,
     "metadata": {},
     "output_type": "execute_result"
    }
   ],
   "source": [
    "tup = (4, 5, 6)\n",
    "a, b, c = tup\n",
    "b"
   ]
  },
  {
   "cell_type": "code",
   "execution_count": null,
   "metadata": {},
   "outputs": [],
   "source": [
    "tup = 4, 5, (6, 7)\n",
    "a, b, (c, d) = tup\n",
    "d"
   ]
  },
  {
   "cell_type": "code",
   "execution_count": null,
   "metadata": {},
   "outputs": [],
   "source": [
    "seq = [(1, 2, 3), (4, 5, 6), (7, 8, 9)]\n",
    "for a, b, c in seq:\n",
    "    print(f'a={a}, b={b}, c={c}')"
   ]
  },
  {
   "cell_type": "code",
   "execution_count": null,
   "metadata": {},
   "outputs": [],
   "source": [
    "values = 1, 2, 3, 4, 5\n",
    "print(type(values))\n",
    "a, b, *rest = values\n",
    "a, b, rest\n",
    "#rest"
   ]
  },
  {
   "cell_type": "code",
   "execution_count": null,
   "metadata": {},
   "outputs": [],
   "source": [
    "a, b, *_ = values\n",
    "_"
   ]
  },
  {
   "cell_type": "code",
   "execution_count": null,
   "metadata": {},
   "outputs": [],
   "source": [
    "sorted ({1, 5, 3, 6, 2, 99, 6}) # no repeat elements {}is set, tuple still tuple"
   ]
  },
  {
   "cell_type": "markdown",
   "metadata": {},
   "source": [
    "# 10-14 list comprehensions"
   ]
  },
  {
   "cell_type": "code",
   "execution_count": null,
   "metadata": {},
   "outputs": [],
   "source": [
    "S = [x**2 for x in range(10)]\n",
    "V = [2**x for x in range(13)]\n",
    "M = [x for x in S if x % 2 == 0]\n",
    "Q = [x**2/2 for x in range(10) ]\n",
    "print(S)\n",
    "print(V)\n",
    "print(M)\n",
    "print(Q)"
   ]
  },
  {
   "cell_type": "code",
   "execution_count": null,
   "metadata": {},
   "outputs": [],
   "source": [
    "%%timeit\n",
    "# V = (1,2,4,8,...2**10)\n",
    "V=[]\n",
    "for n in range(11):\n",
    "    V +=[2**n]\n",
    "V"
   ]
  },
  {
   "cell_type": "code",
   "execution_count": null,
   "metadata": {},
   "outputs": [],
   "source": [
    "%%timeit\n",
    "# V = (1,2,4,8,...2**10)\n",
    "V=[]\n",
    "V = [2**n for n in range(11)]\n",
    "V"
   ]
  },
  {
   "cell_type": "markdown",
   "metadata": {},
   "source": [
    "# 範例"
   ]
  },
  {
   "cell_type": "code",
   "execution_count": null,
   "metadata": {},
   "outputs": [],
   "source": [
    "# 質數\n",
    "lst=[]\n",
    "for i in range(2,1000):\n",
    "    for j in range (2,i):\n",
    "        if i%j==0:\n",
    "            break\n",
    "    else:\n",
    "        lst=lst+[i]\n",
    "print(lst)"
   ]
  },
  {
   "cell_type": "code",
   "execution_count": null,
   "metadata": {},
   "outputs": [],
   "source": [
    "# for loop start\n",
    "#公元年分除以4可整除但公元年分除以100不可整除」\n",
    "#或「公元年分除以400可整除」\n",
    "\n",
    "tuple_year=()\n",
    "for i in range(1900, 2020):\n",
    "    if( ( i%4==0 and  i%100!=0) or (i%400==0)  ):\n",
    "        tuple_year +=(i,)\n",
    "print(tuple_year, '\\n')      \n",
    "\n",
    "tuple_year1=[]        \n",
    "tuple_year1 = [tuple_year1+[i] for i in range(1900,2020) if(( i%4==0 and  i%100!=0) or (i%400==0)) ]\n",
    "\n",
    "print(tuple_year1)"
   ]
  },
  {
   "cell_type": "markdown",
   "metadata": {},
   "source": [
    "---"
   ]
  },
  {
   "cell_type": "markdown",
   "metadata": {},
   "source": [
    "# Module_11_字典(Dict)"
   ]
  },
  {
   "cell_type": "code",
   "execution_count": null,
   "metadata": {},
   "outputs": [],
   "source": [
    "d1={'Apple':'蘋果', 'Banana':'香蕉'}\n",
    "print(d1['Apple'])\n",
    "print(d1['Banana'])"
   ]
  },
  {
   "cell_type": "code",
   "execution_count": null,
   "metadata": {},
   "outputs": [],
   "source": [
    "lst = [2.59, 3.19, 4.8]\n",
    "print(lst[0])\n",
    "print(lst[1], '\\n')\n",
    "\n",
    "d1={'Eggs':2.59, 'Milk':3.19, 'Cheese':4.8}\n",
    "print(d1['Eggs'])\n",
    "print(d1['Milk'])"
   ]
  },
  {
   "cell_type": "markdown",
   "metadata": {},
   "source": [
    "><img src=\".\\img\\list-dict.png\"  style='height:400px; width:900px'>"
   ]
  },
  {
   "cell_type": "code",
   "execution_count": null,
   "metadata": {},
   "outputs": [],
   "source": [
    "d1={'name':'John', 'age':30}\n",
    "d2={'age':30, 'name':'John'}\n",
    "\n",
    "print(d1==d2)\n",
    "print(d1 is d2) # memory address diff\n",
    "print(id(d1))\n",
    "print(id(d2))\n",
    "d2['class']"
   ]
  },
  {
   "cell_type": "markdown",
   "metadata": {},
   "source": [
    ">#### tup1 = (a, 1, b, 2, c, 3)   # 佔記憶體小且完整, 執行速度快, 不可改變但可APPEND\n",
    ">#### lst1 = [a, 1, b, 2, c, 3]   # 佔記憶體大, 執行速度慢(每筆check, sortiing)\n",
    ">#### dic1 = {'AAAA':0 , 'AAAC':4, 'AAAG':7} # 執行速度快，index(a) -> key -> value有 pointer 概念"
   ]
  },
  {
   "cell_type": "markdown",
   "metadata": {},
   "source": [
    "# 11-4"
   ]
  },
  {
   "cell_type": "code",
   "execution_count": null,
   "metadata": {},
   "outputs": [],
   "source": [
    "dict1 = dict(one=1, two=2, three=3)\n",
    "print('dict1 :            ', dict1)    # 建立\n",
    "\n",
    "dict1['four']=7 \n",
    "print(\"dict1['four'] = 7 :\", dict1)    # 新增 \n",
    "\n",
    "dict1['two'] = 7\n",
    "print(\"dict1['two'] = 7 : \", dict1)    # 修改\n",
    "\n",
    "del dict1['two']                       # 刪除\n",
    "print(\"del dict1['two'] : \", dict1)\n",
    "\n",
    "print(\"dict1['one'] :     \", dict1['one'])  # 尋找"
   ]
  },
  {
   "cell_type": "code",
   "execution_count": null,
   "metadata": {},
   "outputs": [],
   "source": [
    "dict1 = {'one': 1, 'two': 2, 'three': 3, 'four':7}\n",
    "key = 'four'\n",
    "if(key in dict1):\n",
    "    print(f'dict1[{key}] : {dict1[key]}')\n",
    "else:\n",
    "    print('No', key)"
   ]
  },
  {
   "cell_type": "code",
   "execution_count": null,
   "metadata": {},
   "outputs": [],
   "source": [
    "Families = {'大明':'小明', '大華':'小華', '大雄':'小雄'}\n",
    "for Parent, Son in Families.items():\n",
    "    print(f\"{Parent} is {Son}'s Dad\")"
   ]
  },
  {
   "cell_type": "markdown",
   "metadata": {},
   "source": [
    "# 11-5"
   ]
  },
  {
   "cell_type": "markdown",
   "metadata": {},
   "source": [
    "# 11-6"
   ]
  },
  {
   "cell_type": "code",
   "execution_count": null,
   "metadata": {},
   "outputs": [],
   "source": [
    "dict1 = {'id':'A001', 'eng':[67,53,79]}\n",
    "\n",
    "print('dict1 :                     ', dict1)\n",
    "print(\"dict1['eng'] :              \", dict1['eng'])\n",
    "print(\"dict1['eng'][0]:            \", dict1['eng'][0], '\\n')\n",
    "\n",
    "dict1['math'] = [64,85,75]\n",
    "print(\"dict['math']=[64,85,75]:    \", dict1)\n",
    "print(\"dict1['math'][1] :          \", dict1['math'][1])\n",
    "\n",
    "dict1['math'][1] = 88\n",
    "print(\"dict1['math'][1] = 88 :     \", dict1)"
   ]
  },
  {
   "cell_type": "markdown",
   "metadata": {},
   "source": [
    "# 11 - 7"
   ]
  },
  {
   "cell_type": "code",
   "execution_count": null,
   "metadata": {},
   "outputs": [],
   "source": [
    "dict1 = {'Name': 'III', 'Year': 1979, 'Class': 'A'}\n",
    "\n",
    "del dict1['Class']\n",
    "print(\"del dict1['Class'] : \", dict1)\n",
    "\n",
    "dict1.clear()   # empty dict1\n",
    "print('dict1.clear() :      ', dict1)\n",
    "\n",
    "del dict1      # del dict1.  dict1 is gone\n",
    "print('del clear() :        ', dict1)   # error since no dict1 any more"
   ]
  },
  {
   "cell_type": "markdown",
   "metadata": {},
   "source": [
    "# 11-10"
   ]
  },
  {
   "cell_type": "code",
   "execution_count": null,
   "metadata": {},
   "outputs": [],
   "source": [
    "a= {'num':77, 'num1': 85, 'age': 44}  # dict\n",
    "\n",
    "print('len(a) :     ', len(a))\n",
    "print('max(a) :     ', max(a))  # key max, not so meaningful\n",
    "print('a[max(a)]) : ', a[max(a)])\n",
    "\n",
    "print('min(a) :     ', min(a))\n",
    "print('sorted(a) :  ', sorted(a))\n",
    "print(a.get('num'))\n",
    "print(a['num'])\n",
    "print(a.get('num', 'No item'))\n",
    "print(a.get('name', 'No item'))"
   ]
  },
  {
   "cell_type": "markdown",
   "metadata": {},
   "source": [
    "# 11-11"
   ]
  },
  {
   "cell_type": "code",
   "execution_count": null,
   "metadata": {},
   "outputs": [],
   "source": [
    "dict([('two', 2), ('one', 1), ('three', 3)]) # list of tuple"
   ]
  },
  {
   "cell_type": "code",
   "execution_count": null,
   "metadata": {},
   "outputs": [],
   "source": [
    "dict((('two', 2), ('one', 1), ('three', 3))) # tuple of tuple"
   ]
  },
  {
   "cell_type": "code",
   "execution_count": null,
   "metadata": {},
   "outputs": [],
   "source": [
    "dict1 = {'Stars':'John Doe','Starwars':'Jedi'}\n",
    "\n",
    "print(dict1.items())\n",
    "print(dict1.keys())\n",
    "print(list(dict1.keys()))\n",
    "print(dict1.values())"
   ]
  },
  {
   "cell_type": "code",
   "execution_count": null,
   "metadata": {},
   "outputs": [],
   "source": [
    "dict1 = {'Stars':'John Doe','Starwars':'Jedi'}\n",
    "a={'name': '77', 'num': '85'}\n",
    "\n",
    "dict1.update(a)\n",
    "print('update(a) :  ', dict1)\n",
    "\n",
    "dict1.pop('name')\n",
    "print('pop(\"name\") :', dict1)\n",
    "\n",
    "dict1.popitem()  # default is -1 item\n",
    "print('popitem() :  ', dict1)"
   ]
  },
  {
   "cell_type": "code",
   "execution_count": null,
   "metadata": {},
   "outputs": [],
   "source": [
    "char_counts = {}\n",
    "word = 'this is a letters about Python learning'\n",
    "for char in tuple(word):\n",
    "    #char_counts.update({char: word.count(char)})\n",
    "    #print(char,':', end=\"\")\n",
    "    #print( word.count(char))\n",
    "    char_counts[char] = word.count(char)  # 沒有 key 就像後加\n",
    "\n",
    "#char_counts = {char: word.count(char) for char in set(word)}\n",
    "    \n",
    "char_counts"
   ]
  },
  {
   "cell_type": "code",
   "execution_count": null,
   "metadata": {},
   "outputs": [],
   "source": [
    "d1 ={'a': 'apple', 'b':'banana'}\n",
    "print('d1 =           ', d1)\n",
    "\n",
    "d2 = d1.copy()                           # copy has diff memory address\n",
    "print('d2 (d1.copy())=', d2)\n",
    "\n",
    "print('dict1 is d2 :  ', dict1 is d2, '\\n')\n",
    "\n",
    "d3 = d1                                  # point to same address\n",
    "print('d3 (d3=d1) :   ', d3)\n",
    "print('d3 is d1 :     ', d3 is d1)"
   ]
  },
  {
   "cell_type": "code",
   "execution_count": null,
   "metadata": {},
   "outputs": [],
   "source": [
    "d3['a'] = 'amazon'                     # change d3.  d1 changed too\n",
    "\n",
    "print('d1 = ', d1)\n",
    "print('d2 = ', d2)\n",
    "print('d3 = ', d3)"
   ]
  },
  {
   "cell_type": "code",
   "execution_count": null,
   "metadata": {},
   "outputs": [],
   "source": [
    "# tup1 = (a, 1, b, 2, c, 3)\n",
    "# lst1 = [a, 1, b, 2, c, 3]\n",
    "dic1 = {'AAAA':0 , 'AAAC':4, 'AAAG':7}\n",
    "\n",
    "print('******** for key in dic1 *******')\n",
    "for key in dic1:\n",
    "    print(key)\n",
    "    \n",
    "print('\\n******** for key in dic1.keys() *******')    \n",
    "for key in dic1.keys():\n",
    "    print (key)\n",
    "    \n",
    "print('\\n******** for key in dic1.items() *******')    \n",
    "for key in dic1.items():\n",
    "    print (key)\n",
    "    \n",
    "print('\\n******** for k, v in dic1 *******')    \n",
    "for k, v in dic1.items():\n",
    "    print (k,v)"
   ]
  },
  {
   "cell_type": "markdown",
   "metadata": {},
   "source": [
    "---"
   ]
  },
  {
   "cell_type": "markdown",
   "metadata": {},
   "source": [
    "# Module_12_集合(Set)"
   ]
  },
  {
   "cell_type": "code",
   "execution_count": null,
   "metadata": {},
   "outputs": [],
   "source": [
    "a = set()  # 空集合 "
   ]
  },
  {
   "cell_type": "code",
   "execution_count": null,
   "metadata": {},
   "outputs": [],
   "source": [
    "basket = {'apple', 'orange', 'apple', 'pear', 'orange', 'banana'}\n",
    "basket\n",
    "#basket[1]    # error no ordered"
   ]
  },
  {
   "cell_type": "code",
   "execution_count": null,
   "metadata": {},
   "outputs": [],
   "source": [
    "'orange' in basket"
   ]
  },
  {
   "cell_type": "code",
   "execution_count": null,
   "metadata": {},
   "outputs": [],
   "source": [
    "'grape' in basket"
   ]
  },
  {
   "cell_type": "code",
   "execution_count": null,
   "metadata": {},
   "outputs": [],
   "source": [
    "#len(set(\"apple\"))\n",
    "#print(set('apple'))\n",
    "len(set(\"apple\"))"
   ]
  },
  {
   "cell_type": "code",
   "execution_count": null,
   "metadata": {},
   "outputs": [],
   "source": [
    "s1={'66316666'};\n",
    "s2=set('66316666')\n",
    "print(s1, len(s1))\n",
    "print(s2, len(s2))\n",
    "print(type(s1))\n",
    "print(type(s2))"
   ]
  },
  {
   "cell_type": "markdown",
   "metadata": {},
   "source": [
    "# 12-5"
   ]
  },
  {
   "cell_type": "code",
   "execution_count": null,
   "metadata": {},
   "outputs": [],
   "source": [
    "'letters is beautiful'.count('e')"
   ]
  },
  {
   "cell_type": "code",
   "execution_count": null,
   "metadata": {},
   "outputs": [],
   "source": [
    "char_counts = {}\n",
    "word = 'letters is beautiful'\n",
    "for char in set(word):\n",
    "    char_counts[char] = word.count(char)  # 因為唯一而會向後加(append)\n",
    "    \n",
    "char_counts"
   ]
  },
  {
   "cell_type": "code",
   "execution_count": null,
   "metadata": {},
   "outputs": [],
   "source": [
    "word='letters is beautiful'\n",
    "print(set(word))  # 唯一\n",
    "\n",
    "char_counts = {x:word.count(x) for x in set(word)}\n",
    "char_counts"
   ]
  },
  {
   "cell_type": "code",
   "execution_count": null,
   "metadata": {},
   "outputs": [],
   "source": [
    "for x in {1,5,2,3,3} :   \n",
    "    print (x, end = ' ')  # 集合無順序"
   ]
  },
  {
   "cell_type": "markdown",
   "metadata": {},
   "source": [
    "><img src=\".\\img\\set.png\"  style='height:450px; width:750px'>"
   ]
  },
  {
   "cell_type": "code",
   "execution_count": null,
   "metadata": {},
   "outputs": [],
   "source": [
    "print('{1,2,3} | {2,3,4} = ', {1,2,3} | {2,3,4})  # 聯集\n",
    "print('{1,2,3} & {2,3,4} = ', {1,2,3} & {2,3,4})  # 交集\n",
    "print('{1,2,3} ^ {2,3,4} = ', {1,2,3} ^ {2,3,4}, '\\n')  # XOR 互斥或\n",
    "\n",
    "print('{1,2,3} - {2,3,4} = ', {1,2,3} - {2,3,4})  # diff\n",
    "print('{2,3,4} - {2,3,1} = ', {2,3,4} - {2,3,1})  # diff\n",
    "print('{1,2,3} ^ {2,3,4} = ', {1,2,3} ^ {2,3,4}, '\\n')  # symmetric diff\n",
    "\n",
    "print('{1,2} < {1,2,3,4} = ', {1,2} < {1,2,3,4})  # sub\n",
    "print('{1,2} > {1,2,3,4} = ', {1,2} > {1,2,3,4})  # sub"
   ]
  },
  {
   "cell_type": "code",
   "execution_count": null,
   "metadata": {},
   "outputs": [],
   "source": [
    "a = {1,2,3}; b = {3,4,5}; c = {4,5,6}; d = {1,2,3,4,5,6}\n",
    "\n",
    "print (f'a = {a},  b = {b},  c = {c},  d= {d} \\n')\n",
    "\n",
    "print('a.isdisjoint(b) :           ', a.isdisjoint(b))     # 沒交集\n",
    "print('b.isdisjoint(a) :           ', b.isdisjoint(a), '\\n')\n",
    "\n",
    "print('a.issubset(b) :             ', a.issubset(b))\n",
    "print('a.issubset(d) :             ', a.issubset(d))\n",
    "print('d.issuperset(a) :           ', d.issuperset(a), '\\n')\n",
    "\n",
    "print('a.union(b) :                ', a.union(b))\n",
    "print('a.union(b) == a|b:          ', a.union(b) == a|b)\n",
    "print('a.intersection(b):          ', a.intersection(b), '\\n')  #交集\n",
    "\n",
    "print('a.difference(b) :           ', a.difference(b))  # 差集\n",
    "print('b.difference(a) :           ', b.difference(a))  # 差集\n",
    "print('a.symmetric_difference(b) : ', a.symmetric_difference(b),'\\n')  "
   ]
  },
  {
   "cell_type": "code",
   "execution_count": null,
   "metadata": {},
   "outputs": [],
   "source": [
    "set_a = {2,4,6,8,10,12}\n",
    "set_b = {3,6,9,12}\n",
    "\n",
    "#聯集取得所有元素\n",
    "print(set_a.union(set_b))                 #{2,3,4,6,8,9,10,12}\n",
    "print(set_a | set_b, '\\n')                #{2,3,4,6,8,9,10,12}\n",
    "\n",
    "#交集取得集合重複的部分\n",
    "print(set_a.intersection(set_b))          #{6, 12}\n",
    "print(set_a & set_b, '\\n')                #{6, 12}\n",
    "\n",
    "#取出set_a跟set_b不一樣的元素\n",
    "print(set_a.difference(set_b))            #{2,4,8,10}\n",
    "print(set_a - set_b)                      #{2,4,8,10}\n",
    "print(set_b.difference(set_a), '\\n')      #{9,3}\n",
    "\n",
    "#取出兩個集合中不一樣(沒有重複)的元素\n",
    "print(set_a.symmetric_difference(set_b))  #{2,3,4,8,9,10}\n",
    "print(set_a ^ set_b)                      #{2,3,4,8,9,10}"
   ]
  },
  {
   "cell_type": "code",
   "execution_count": null,
   "metadata": {},
   "outputs": [],
   "source": [
    "a = {1,2,3}; b = {3,4,5}; c = {4,5,6}; d = {1,2,3,4,5,6}\n",
    "\n",
    "a.update(b);\n",
    "a"
   ]
  },
  {
   "cell_type": "code",
   "execution_count": null,
   "metadata": {},
   "outputs": [],
   "source": [
    "a = {1,2,3}; b = {3,4,5}; c = {4,5,6}; d = {1,2,3,4,5,6}\n",
    "\n",
    "a.intersection_update(b);\n",
    "a                         #傳回與 b集合的交集"
   ]
  },
  {
   "cell_type": "code",
   "execution_count": null,
   "metadata": {},
   "outputs": [],
   "source": [
    "a = {1,2,3}; b = {3,4,5}; c = {4,5,6}; d = {1,2,3,4,5,6}\n",
    "\n",
    "a.add(1)  # how about add(4)\n",
    "a"
   ]
  },
  {
   "cell_type": "code",
   "execution_count": null,
   "metadata": {},
   "outputs": [],
   "source": [
    "a = {1,2,3}; b = {3,4,5}; c = {4,5,6}; d = {1,2,3,4,5,6}\n",
    "\n",
    "a.remove(1); a"
   ]
  },
  {
   "cell_type": "code",
   "execution_count": null,
   "metadata": {},
   "outputs": [],
   "source": [
    "a = {1,2,3}; b = {3,4,5}; c = {4,5,6}; d = {1,2,3,4,5,6}\n",
    "\n",
    "a.remove(4); a"
   ]
  },
  {
   "cell_type": "code",
   "execution_count": null,
   "metadata": {},
   "outputs": [],
   "source": [
    "a = {1,2,3}; b = {3,4,5}; c = {4,5,6}; d = {1,2,3,4,5,6}\n",
    "\n",
    "a.discard(4); a  # 如果 elem 存在於 s ，則將其移除。此方法不會觸發 KeyError 的例外"
   ]
  },
  {
   "cell_type": "code",
   "execution_count": null,
   "metadata": {},
   "outputs": [],
   "source": [
    "a = {1,2,3}; b = {3,4,5}; c = {4,5,6}; d = {1,2,3,4,5,6}\n",
    "\n",
    "a.pop(); a"
   ]
  },
  {
   "cell_type": "markdown",
   "metadata": {},
   "source": [
    "><img src=\".\\img\\list-tuple-dict-set.png\"  style='height:300px; width:850px'>"
   ]
  },
  {
   "cell_type": "markdown",
   "metadata": {},
   "source": [
    "# 12-16"
   ]
  },
  {
   "cell_type": "code",
   "execution_count": null,
   "metadata": {},
   "outputs": [],
   "source": [
    "s = {num for num in range(1,6) if num % 3 == 1}\n",
    "s"
   ]
  }
 ],
 "metadata": {
  "kernelspec": {
   "display_name": "Python 3",
   "language": "python",
   "name": "python3"
  },
  "language_info": {
   "codemirror_mode": {
    "name": "ipython",
    "version": 3
   },
   "file_extension": ".py",
   "mimetype": "text/x-python",
   "name": "python",
   "nbconvert_exporter": "python",
   "pygments_lexer": "ipython3",
   "version": "3.6.4"
  }
 },
 "nbformat": 4,
 "nbformat_minor": 4
}
