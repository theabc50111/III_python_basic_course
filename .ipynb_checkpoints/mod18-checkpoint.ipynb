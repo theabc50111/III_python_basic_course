{
 "cells": [
  {
   "cell_type": "markdown",
   "metadata": {},
   "source": [
    "#  <font color=red> Module_18_檔案讀寫與組織管理</font>"
   ]
  },
  {
   "cell_type": "markdown",
   "metadata": {},
   "source": [
    "# P18-8"
   ]
  },
  {
   "cell_type": "code",
   "execution_count": 1,
   "metadata": {},
   "outputs": [
    {
     "name": "stdout",
     "output_type": "stream",
     "text": [
      "Write two data to note.txt!\n"
     ]
    }
   ],
   "source": [
    "fp = open('./mod18/note.txt', 'w')\n",
    "fp.write('Python!!!!\\n')\n",
    "fp.write('iiiedu\\n')\n",
    "print('Write two data to note.txt!')\n",
    "fp.close()"
   ]
  },
  {
   "cell_type": "code",
   "execution_count": 2,
   "metadata": {},
   "outputs": [
    {
     "name": "stdout",
     "output_type": "stream",
     "text": [
      "Append one data to note.txt!\n"
     ]
    }
   ],
   "source": [
    "fp = open('./mod18/note.txt', 'a')\n",
    "fp.write('iii.org.tw\\n')\n",
    "print('Append one data to note.txt!')\n",
    "fp.close()"
   ]
  },
  {
   "cell_type": "markdown",
   "metadata": {},
   "source": [
    "---"
   ]
  },
  {
   "cell_type": "markdown",
   "metadata": {},
   "source": [
    "# P18-10"
   ]
  },
  {
   "cell_type": "code",
   "execution_count": 3,
   "metadata": {},
   "outputs": [
    {
     "name": "stdout",
     "output_type": "stream",
     "text": [
      "Python!!!!\n",
      "iiiedu\n",
      "iii.org.tw\n",
      "\n"
     ]
    }
   ],
   "source": [
    "# file read\n",
    "fp = open('./mod18/note.txt', 'r')   \n",
    "str1 = fp.read()\n",
    "print(str1)\n",
    "fp.close()"
   ]
  },
  {
   "cell_type": "code",
   "execution_count": 4,
   "metadata": {},
   "outputs": [
    {
     "name": "stdout",
     "output_type": "stream",
     "text": [
      "Python!!!!\n",
      "iiiedu\n",
      "iii.org.tw\n",
      "\n"
     ]
    },
    {
     "ename": "UnsupportedOperation",
     "evalue": "not writable",
     "output_type": "error",
     "traceback": [
      "\u001b[1;31m---------------------------------------------------------------------------\u001b[0m",
      "\u001b[1;31mUnsupportedOperation\u001b[0m                      Traceback (most recent call last)",
      "\u001b[1;32m<ipython-input-4-adcee1e183e2>\u001b[0m in \u001b[0;36m<module>\u001b[1;34m\u001b[0m\n\u001b[0;32m      1\u001b[0m \u001b[0mfp\u001b[0m \u001b[1;33m=\u001b[0m \u001b[0mopen\u001b[0m\u001b[1;33m(\u001b[0m\u001b[1;34m'./mod18/note.txt'\u001b[0m\u001b[1;33m,\u001b[0m \u001b[1;34m'r'\u001b[0m\u001b[1;33m)\u001b[0m \u001b[1;31m#r只能讀取\u001b[0m\u001b[1;33m\u001b[0m\u001b[1;33m\u001b[0m\u001b[0m\n\u001b[0;32m      2\u001b[0m \u001b[0mprint\u001b[0m\u001b[1;33m(\u001b[0m\u001b[0mfp\u001b[0m\u001b[1;33m.\u001b[0m\u001b[0mread\u001b[0m\u001b[1;33m(\u001b[0m\u001b[1;33m)\u001b[0m\u001b[1;33m)\u001b[0m\u001b[1;33m\u001b[0m\u001b[1;33m\u001b[0m\u001b[0m\n\u001b[1;32m----> 3\u001b[1;33m \u001b[0mfp\u001b[0m\u001b[1;33m.\u001b[0m\u001b[0mwrite\u001b[0m\u001b[1;33m(\u001b[0m\u001b[1;34m'Nick\\n'\u001b[0m\u001b[1;33m)\u001b[0m\u001b[1;33m\u001b[0m\u001b[1;33m\u001b[0m\u001b[0m\n\u001b[0m\u001b[0;32m      4\u001b[0m \u001b[0mfp\u001b[0m\u001b[1;33m.\u001b[0m\u001b[0mclose\u001b[0m\u001b[1;33m(\u001b[0m\u001b[1;33m)\u001b[0m\u001b[1;33m\u001b[0m\u001b[1;33m\u001b[0m\u001b[0m\n",
      "\u001b[1;31mUnsupportedOperation\u001b[0m: not writable"
     ]
    }
   ],
   "source": [
    "fp = open('./mod18/note.txt', 'r') #r只能讀取\n",
    "print(fp.read())\n",
    "fp.write('Nick\\n')\n",
    "fp.close()"
   ]
  },
  {
   "cell_type": "code",
   "execution_count": 5,
   "metadata": {},
   "outputs": [
    {
     "name": "stdout",
     "output_type": "stream",
     "text": [
      "Python!!!!\n",
      "iiiedu\n",
      "iii.org.tw\n",
      "\n"
     ]
    }
   ],
   "source": [
    "fp = open('./mod18/note.txt', 'r+') #r+ 能夠讀取加上寫入\n",
    "print(fp.read())\n",
    "fp.write('Nick\\n')\n",
    "fp.close()"
   ]
  },
  {
   "cell_type": "code",
   "execution_count": 6,
   "metadata": {},
   "outputs": [
    {
     "name": "stdout",
     "output_type": "stream",
     "text": [
      "Python!!!!\n",
      "\n"
     ]
    }
   ],
   "source": [
    "fp = open('./mod18/note.txt', 'r') \n",
    "line=fp.readline()\n",
    "print(line)\n",
    "fp.close()"
   ]
  },
  {
   "cell_type": "code",
   "execution_count": 7,
   "metadata": {},
   "outputs": [
    {
     "name": "stdout",
     "output_type": "stream",
     "text": [
      "Content(readline):\n",
      "No.1 line:  Python!!!!\n",
      "No.2 line:  iiiedu\n",
      "No.3 line:  iii.org.tw\n",
      "No.4 line:  Nick\n"
     ]
    }
   ],
   "source": [
    "fp = open('./mod18/note.txt', 'r')   \n",
    "print('Content(readline):')\n",
    "i=1\n",
    "while True: \n",
    "    line=fp.readline() # 每一次執行while迴圈，fp.readline()就會讀取檔案的下一行(yield 與 next()的概念，心有餘力的同學可以在自行搜索)\n",
    "    if not line:\n",
    "        break\n",
    "    print(f'No.{i} line: ',line, end='') \n",
    "    i+=1\n",
    "fp.close()"
   ]
  },
  {
   "cell_type": "markdown",
   "metadata": {},
   "source": [
    "---"
   ]
  },
  {
   "cell_type": "markdown",
   "metadata": {},
   "source": [
    "# P18-12"
   ]
  },
  {
   "cell_type": "code",
   "execution_count": 8,
   "metadata": {},
   "outputs": [
    {
     "name": "stdout",
     "output_type": "stream",
     "text": [
      "Content(readline):\n",
      "No.0 line:  Python!!!!\n",
      "No.1 line:  iiiedu\n",
      "No.2 line:  iii.org.tw\n",
      "No.3 line:  Nick\n"
     ]
    }
   ],
   "source": [
    "# file read\n",
    "fname='./mod18/note.txt'\n",
    "\n",
    "with open(fname, 'r') as fp:\n",
    "    print('Content(readline):')\n",
    "    i=0\n",
    "    while True: \n",
    "        line=fp.readline() # 每一次執行while迴圈，fp.readline()就會讀取檔案的下一行(yield 與 next()的概念，心有餘力的同學可以在自行搜索)\n",
    "        if not line:\n",
    "            break\n",
    "        print(f'No.{i} line: ',line, end='') \n",
    "        i+=1"
   ]
  },
  {
   "cell_type": "markdown",
   "metadata": {},
   "source": [
    "---"
   ]
  },
  {
   "cell_type": "markdown",
   "metadata": {},
   "source": [
    "# &spades; 補充: "
   ]
  },
  {
   "cell_type": "markdown",
   "metadata": {},
   "source": [
    "### corelab解答"
   ]
  },
  {
   "cell_type": "code",
   "execution_count": 9,
   "metadata": {},
   "outputs": [
    {
     "name": "stdout",
     "output_type": "stream",
     "text": [
      "Yes, I am the best. I know.\n"
     ]
    }
   ],
   "source": [
    "import urllib.request\n",
    "from urllib.request import Request\n",
    "headers = {'User-Agent': 'Mozilla/5.0 (Windows NT 6.1) AppleWebKit/537.36 (KHTML, like Gecko) Chrome/41.0.2228.0 Safari/537.3'}\n",
    "reg_url = \"https://kai.one/colab_quiz_18.txt\"\n",
    "req = Request(url=reg_url, headers=headers) \n",
    "# html = urlopen(req).read() \n",
    "\n",
    "\n",
    "x = urllib.request.urlopen(req); #把-----替換成正確的網址\n",
    "print(x.read().decode('utf-8'));"
   ]
  },
  {
   "cell_type": "markdown",
   "metadata": {},
   "source": [
    "### open()會得到的是一個IO物件，IO物件是可迭代的"
   ]
  },
  {
   "cell_type": "code",
   "execution_count": 10,
   "metadata": {},
   "outputs": [
    {
     "name": "stdout",
     "output_type": "stream",
     "text": [
      "<class '_io.TextIOWrapper'>\n",
      "Python!!!!\n",
      "iiiedu\n",
      "iii.org.tw\n",
      "Nick\n"
     ]
    }
   ],
   "source": [
    "# file read\n",
    "fp = open('./mod18/note.txt', 'r')   \n",
    "print(type(fp))\n",
    "\n",
    "for line in fp:\n",
    "    print(line, end='')    \n",
    "fp.close()"
   ]
  },
  {
   "cell_type": "code",
   "execution_count": 11,
   "metadata": {},
   "outputs": [
    {
     "name": "stdout",
     "output_type": "stream",
     "text": [
      "['Python!!!!\\n', 'iiiedu\\n', 'iii.org.tw\\n', 'Nick\\n']\n"
     ]
    }
   ],
   "source": [
    "fp = open('./mod18/note.txt', 'r+')\n",
    "fp.write('ABCDEFG') # 在沒有close() 之前， 都沒有正式寫入檔案中\n",
    "print(list(fp))\n",
    "fp.close()"
   ]
  }
 ],
 "metadata": {
  "kernelspec": {
   "display_name": "Python 3",
   "language": "python",
   "name": "python3"
  },
  "language_info": {
   "codemirror_mode": {
    "name": "ipython",
    "version": 3
   },
   "file_extension": ".py",
   "mimetype": "text/x-python",
   "name": "python",
   "nbconvert_exporter": "python",
   "pygments_lexer": "ipython3",
   "version": "3.8.5"
  }
 },
 "nbformat": 4,
 "nbformat_minor": 2
}
