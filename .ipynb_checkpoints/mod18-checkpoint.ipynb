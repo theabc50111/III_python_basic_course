{
 "cells": [
  {
   "cell_type": "markdown",
   "metadata": {},
   "source": [
    "#  <font color=red> Module_18_檔案讀寫與組織管理</font>"
   ]
  },
  {
   "cell_type": "markdown",
   "metadata": {},
   "source": [
    "# P18-8"
   ]
  },
  {
   "cell_type": "code",
   "execution_count": null,
   "metadata": {},
   "outputs": [],
   "source": [
    "fp = open('./mod18/note.txt', 'w')\n",
    "fp.write('Python!!!!\\n')\n",
    "fp.write('iiiedu\\n')\n",
    "print('Write two data to note.txt!')\n",
    "fp.close()"
   ]
  },
  {
   "cell_type": "code",
   "execution_count": null,
   "metadata": {},
   "outputs": [],
   "source": [
    "fp = open('./mod18/note.txt', 'a')\n",
    "fp.write('iii.org.tw\\n')\n",
    "print('Append one data to note.txt!')\n",
    "fp.close()"
   ]
  },
  {
   "cell_type": "markdown",
   "metadata": {},
   "source": [
    "---"
   ]
  },
  {
   "cell_type": "markdown",
   "metadata": {},
   "source": [
    "# P18-10"
   ]
  },
  {
   "cell_type": "code",
   "execution_count": null,
   "metadata": {},
   "outputs": [],
   "source": [
    "# file read\n",
    "fp = open('./mod18/note.txt', 'r')   \n",
    "str1 = fp.read()\n",
    "print(str1)\n",
    "fp.close()"
   ]
  },
  {
   "cell_type": "code",
   "execution_count": null,
   "metadata": {},
   "outputs": [],
   "source": [
    "fp = open('./mod18/note.txt', 'r') #r只能讀取\n",
    "print(fp.read())\n",
    "fp.write('Nick\\n')\n",
    "fp.close()"
   ]
  },
  {
   "cell_type": "code",
   "execution_count": null,
   "metadata": {},
   "outputs": [],
   "source": [
    "fp = open('./mod18/note.txt', 'r+') #r+ 能夠讀取加上寫入\n",
    "print(fp.read())\n",
    "fp.write('Nick\\n')\n",
    "fp.close()"
   ]
  },
  {
   "cell_type": "code",
   "execution_count": null,
   "metadata": {},
   "outputs": [],
   "source": [
    "fp = open('./mod18/note.txt', 'r') \n",
    "line=fp.readline()\n",
    "print(line)\n",
    "fp.close()"
   ]
  },
  {
   "cell_type": "code",
   "execution_count": null,
   "metadata": {},
   "outputs": [],
   "source": [
    "fp = open('./mod18/note.txt', 'r')   \n",
    "print('Content(readline):')\n",
    "i=1\n",
    "while True: \n",
    "    line=fp.readline() # 每一次執行while迴圈，fp.readline()就會讀取檔案的下一行(yield 與 next()的概念，心有餘力的同學可以在自行搜索)\n",
    "    if not line:\n",
    "        break\n",
    "    print(f'No.{i} line: ',line, end='') \n",
    "    i+=1\n",
    "fp.close()"
   ]
  },
  {
   "cell_type": "markdown",
   "metadata": {},
   "source": [
    "---"
   ]
  },
  {
   "cell_type": "markdown",
   "metadata": {},
   "source": [
    "# P18-12"
   ]
  },
  {
   "cell_type": "code",
   "execution_count": null,
   "metadata": {},
   "outputs": [],
   "source": [
    "# file read\n",
    "fname='./mod18/note.txt'\n",
    "\n",
    "with open(fname, 'r') as fp:\n",
    "    print('Content(readline):')\n",
    "    i=0\n",
    "    while True: \n",
    "        line=fp.readline() # 每一次執行while迴圈，fp.readline()就會讀取檔案的下一行(yield 與 next()的概念，心有餘力的同學可以在自行搜索)\n",
    "        if not line:\n",
    "            break\n",
    "        print(f'No.{i} line: ',line, end='') \n",
    "        i+=1"
   ]
  },
  {
   "cell_type": "markdown",
   "metadata": {},
   "source": [
    "---"
   ]
  },
  {
   "cell_type": "markdown",
   "metadata": {},
   "source": [
    "# &spades; 補充: "
   ]
  },
  {
   "cell_type": "markdown",
   "metadata": {},
   "source": [
    "### corelab解答"
   ]
  },
  {
   "cell_type": "code",
   "execution_count": null,
   "metadata": {},
   "outputs": [],
   "source": [
    "import urllib.request\n",
    "from urllib.request import Request\n",
    "headers = {'User-Agent': 'Mozilla/5.0 (Windows NT 6.1) AppleWebKit/537.36 (KHTML, like Gecko) Chrome/41.0.2228.0 Safari/537.3'}\n",
    "reg_url = \"https://kai.one/colab_quiz_18.txt\"\n",
    "req = Request(url=reg_url, headers=headers) \n",
    "# html = urlopen(req).read() \n",
    "\n",
    "\n",
    "x = urllib.request.urlopen(req); #把-----替換成正確的網址\n",
    "print(x.read().decode('utf-8'));"
   ]
  },
  {
   "cell_type": "markdown",
   "metadata": {},
   "source": [
    "### open()會得到的是一個IO物件，IO物件是可迭代的"
   ]
  },
  {
   "cell_type": "code",
   "execution_count": null,
   "metadata": {},
   "outputs": [],
   "source": [
    "# file read\n",
    "fp = open('./mod18/note.txt', 'r')   \n",
    "print(type(fp))\n",
    "\n",
    "for line in fp:\n",
    "    print(line, end='')    \n",
    "fp.close()"
   ]
  },
  {
   "cell_type": "code",
   "execution_count": null,
   "metadata": {},
   "outputs": [],
   "source": [
    "fp = open('./mod18/note.txt', 'r+')\n",
    "fp.write('ABCDEFG') # 在沒有close() 之前， 都沒有正式寫入檔案中\n",
    "print(list(fp))\n",
    "fp.close()"
   ]
  }
 ],
 "metadata": {
  "kernelspec": {
   "display_name": "Python 3",
   "language": "python",
   "name": "python3"
  },
  "language_info": {
   "codemirror_mode": {
    "name": "ipython",
    "version": 3
   },
   "file_extension": ".py",
   "mimetype": "text/x-python",
   "name": "python",
   "nbconvert_exporter": "python",
   "pygments_lexer": "ipython3",
   "version": "3.8.3"
  }
 },
 "nbformat": 4,
 "nbformat_minor": 2
}
