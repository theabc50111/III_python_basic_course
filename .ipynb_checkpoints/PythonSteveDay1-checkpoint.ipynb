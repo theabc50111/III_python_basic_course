{
 "cells": [
  {
   "cell_type": "markdown",
   "metadata": {},
   "source": [
    "# <font color=red> Module_00 課程簡介--Python先修課程</font>\n",
    "\n",
    ">### 1.  請固定座位\n",
    ">### 2.  放學時間要更正為5:30(扣掉休息時間，以及最後一天的考試時間)\n",
    ">### 3.  上課時長55分鐘,休息時長10分鐘,自由發問、上廁所\n",
    ">### 4.  休息時間會回收課前評點\n",
    ">### 5.  需要完成線上作業(corelab)\n",
    ">### 6.  最後一天有線上教學評量\n",
    ">### 7.  最後一天下午有線上考試(90分鐘，50題選擇題)"
   ]
  },
  {
   "cell_type": "markdown",
   "metadata": {},
   "source": [
    "-----"
   ]
  },
  {
   "cell_type": "markdown",
   "metadata": {},
   "source": [
    "# Module_01_Python簡介"
   ]
  },
  {
   "cell_type": "markdown",
   "metadata": {},
   "source": [
    "# P1-4, Python 特色\n",
    ">### 程式導向(Process Oriented Program Language)\n",
    ">- 提高可讀性\n",
    ">- 易於維護\n",
    "><img src=\".\\img\\pop_hierarchy.png\" style='height:300px; width:600px'><br>\n",
    "\n",
    ">### 物件導向(Object-Oriented Program Language)\n",
    "><img src=\".\\img\\oop_example.png\" style='height:300px; width:600px'><br>\n",
    "\n",
    ">### 程式發展歷史\n",
    "><img src=\".\\img\\oop_history.png\" style='height:300px; width:600px'><br>\n",
    "\n",
    ">### 腳本語言、互動性強⇒一個enter 執行一個敘述"
   ]
  },
  {
   "cell_type": "markdown",
   "metadata": {},
   "source": [
    "# P1-5\n",
    "### 程式語言的成長趨勢\n",
    "><img src=\".\\img\\PythonTrend.png\"  style='height:450px; width:900px'>"
   ]
  },
  {
   "cell_type": "markdown",
   "metadata": {},
   "source": [
    "# P1-6\n",
    ">### 省略變數類型宣告動作 =>動態語言"
   ]
  },
  {
   "cell_type": "markdown",
   "metadata": {},
   "source": [
    "# P1-11 python document\n",
    "\n",
    ">#### https://docs.python.org/3/\n",
    ">#### PEP 8 Tab and space\n",
    ">#### Google \"buildin function\" "
   ]
  },
  {
   "cell_type": "markdown",
   "metadata": {},
   "source": [
    "# P1-12 如何找到環境變數\n",
    ">### 1. 本機 => 右鍵點選內容\n",
    ">### 2. 左邊頁簽 => 點選進階系統設定\n",
    ">### 3. 上面的頁簽 => 進階 => 右下角 => 環境變數\n",
    ">### 4. 查看上下兩個欄位中的 Path內容\n",
    "<img src=\"./img/env_variables.png\" style='height:500px;'>"
   ]
  },
  {
   "cell_type": "markdown",
   "metadata": {},
   "source": [
    "# P1-15 IDE (開發工具箱)\n",
    ">## IDLE (Python 提供的)\n",
    ">## VS code\n",
    ">## Jupyter notebook (網站架構<HTML>) "
   ]
  },
  {
   "cell_type": "markdown",
   "metadata": {},
   "source": [
    "# VScode\n",
    ">### 由於VS Code不知道Python的安裝路徑，所以當開啟任一個.py檔案時，VS Code會提示你進行設定。此時我們只要按照下圖的步驟，去設定Python.exe的路徑即可。\n",
    ">### 1. 安裝Python extension\n",
    "<img src='./img/vscode_py_ext.png' style='height=300px;'><br>\n",
    ">### 2. 設定Python.exe的路徑<br>\n",
    "<img src='./img/vscode_set_py.png' style='height=100px;'><br>"
   ]
  },
  {
   "cell_type": "markdown",
   "metadata": {},
   "source": [
    "# Jupyter notebook\n",
    "\n",
    "## 安裝\n",
    ">### 1.  Ipython 就是 Jupyter Python 的 Kernal (ipython : 互動式)\n",
    ">### 2.  在 (Windows PowerShell 系統管理員)身分下 pip install jupyter notebook (灌程式)\n",
    ">### 3.  在 (Windows PowerShell 一般身分)下打 jupyter notebook (執行程式)( :>jupyter notebook)\n",
    ">### 4.  or install Anaconda ( :>jupyter notebook) (暫不建議)\n",
    ">### <font color=red> ------------------------------------------------------------------------\n",
    "## 常用功能\n",
    ">### - auto compelete => Tab\n",
    ">### - shift + Tab => 快速查詢函式、方法的用法\n",
    ">### - short cut : Help => Keyboard shortcuts\n",
    ">### - ?指令 => 查看說明文件\n",
    ">### - % => 魔法函式\n",
    ">### - ! + cli 指令 => 執行作業系統命令"
   ]
  },
  {
   "cell_type": "code",
   "execution_count": 3,
   "metadata": {},
   "outputs": [],
   "source": [
    "print?"
   ]
  },
  {
   "cell_type": "code",
   "execution_count": 8,
   "metadata": {},
   "outputs": [
    {
     "name": "stdout",
     "output_type": "stream",
     "text": [
      "61\n",
      "8.25\n"
     ]
    }
   ],
   "source": [
    "%run ./mod01/ex1_1.py\n",
    "# . 代表現在目錄位置， ..代表上一層目錄位置"
   ]
  },
  {
   "cell_type": "code",
   "execution_count": 6,
   "metadata": {},
   "outputs": [
    {
     "name": "stdout",
     "output_type": "stream",
     "text": [
      " 磁碟區 D 中的磁碟是 Data\n",
      " 磁碟區序號:  A057-3354\n",
      "\n",
      " D:\\course_materials\\python_basic\\Tsao\\pyhton_basic_example\\2E_example 的目錄\n",
      "\n",
      "2020/05/04  上午 12:24    <DIR>          .\n",
      "2020/05/04  上午 12:24    <DIR>          ..\n",
      "2020/04/22  上午 07:05    <DIR>          .ipynb_checkpoints\n",
      "2020/05/03  下午 11:45    <DIR>          img\n",
      "2020/04/22  上午 04:01    <DIR>          installation\n",
      "2020/04/22  上午 04:01    <DIR>          mod01\n",
      "2020/04/22  上午 04:01    <DIR>          mod07\n",
      "2020/04/22  上午 04:01    <DIR>          mod08\n",
      "2020/04/22  上午 04:01    <DIR>          mod13\n",
      "2020/04/22  上午 04:01    <DIR>          mod14\n",
      "2020/04/22  上午 04:01    <DIR>          mod15\n",
      "2020/04/22  上午 04:01    <DIR>          mod16\n",
      "2020/04/22  上午 04:01    <DIR>          mod17\n",
      "2020/04/22  上午 04:01    <DIR>          mod18\n",
      "2020/04/19  上午 02:56           419,142 PythonSteveDay1.html\n",
      "2020/05/04  上午 12:24            37,842 PythonSteveDay1.ipynb\n",
      "2020/04/19  上午 02:56           449,297 PythonSteveDay2.html\n",
      "2020/04/21  下午 02:22            44,577 PythonSteveDay2.ipynb\n",
      "2020/04/19  上午 02:57           347,653 PythonSteveDay3.html\n",
      "2020/04/22  上午 07:05            23,548 PythonSteveDay3.ipynb\n",
      "2020/04/21  下午 06:14             7,022 Untitled.ipynb\n",
      "               7 個檔案       1,329,081 位元組\n",
      "              14 個目錄  844,523,806,720 位元組可用\n"
     ]
    }
   ],
   "source": [
    "!dir"
   ]
  },
  {
   "cell_type": "markdown",
   "metadata": {},
   "source": [
    "# 原始碼(Source code)、位元組碼(byte code)、機械碼\n",
    "><img src=\".\\img\\py_process.png\"  style='height:300px;'>"
   ]
  },
  {
   "cell_type": "code",
   "execution_count": 1,
   "metadata": {},
   "outputs": [
    {
     "name": "stdout",
     "output_type": "stream",
     "text": [
      "  4           0 LOAD_FAST                0 (a)\n",
      "              2 LOAD_FAST                1 (b)\n",
      "              4 BINARY_ADD\n",
      "              6 RETURN_VALUE\n"
     ]
    }
   ],
   "source": [
    "# show 位元碼\n",
    "import dis\n",
    "def add(a,b):\n",
    "    return a+b\n",
    "add.__code__.co_code\n",
    "# print(add.__code__.co_code)\n",
    "dis.dis(add)"
   ]
  },
  {
   "cell_type": "markdown",
   "metadata": {},
   "source": [
    "---"
   ]
  },
  {
   "cell_type": "markdown",
   "metadata": {},
   "source": [
    "# Module_02_認識變數與基本數學運算\n",
    "\n",
    "### 特此申明 : 在Jupyter 中盡量不要用 print 指令，但為了初學者容易閱讀起見, 不得已我們會用一些\n",
    "### 原因如下: y 數字還是文字傻傻分不清"
   ]
  },
  {
   "cell_type": "code",
   "execution_count": 1,
   "metadata": {},
   "outputs": [
    {
     "name": "stdout",
     "output_type": "stream",
     "text": [
      "5\n"
     ]
    },
    {
     "data": {
      "text/plain": [
       "'5'"
      ]
     },
     "execution_count": 1,
     "metadata": {},
     "output_type": "execute_result"
    }
   ],
   "source": [
    "y = '5'\n",
    "print(y)   # y 數字還是文字傻傻分不清\n",
    "y   "
   ]
  },
  {
   "cell_type": "code",
   "execution_count": null,
   "metadata": {},
   "outputs": [],
   "source": [
    "print('Python is simple;'*4 ,'enjoy!')  # print內 ','代表空一格, print就是一函數(函式), \n"
   ]
  },
  {
   "cell_type": "markdown",
   "metadata": {},
   "source": [
    "## 2-2 keyword list"
   ]
  },
  {
   "cell_type": "code",
   "execution_count": 2,
   "metadata": {},
   "outputs": [
    {
     "name": "stdout",
     "output_type": "stream",
     "text": [
      "['False', 'None', 'True', 'and', 'as', 'assert', 'break', 'class', 'continue', 'def', 'del', 'elif', 'else', 'except', 'finally', 'for', 'from', 'global', 'if', 'import', 'in', 'is', 'lambda', 'nonlocal', 'not', 'or', 'pass', 'raise', 'return', 'try', 'while', 'with', 'yield'] \n",
      "\n",
      "dict_keys(['__name__', '__doc__', '__package__', '__loader__', '__spec__', '__build_class__', '__import__', 'abs', 'all', 'any', 'ascii', 'bin', 'callable', 'chr', 'compile', 'delattr', 'dir', 'divmod', 'eval', 'exec', 'format', 'getattr', 'globals', 'hasattr', 'hash', 'hex', 'id', 'input', 'isinstance', 'issubclass', 'iter', 'len', 'locals', 'max', 'min', 'next', 'oct', 'ord', 'pow', 'print', 'repr', 'round', 'setattr', 'sorted', 'sum', 'vars', 'None', 'Ellipsis', 'NotImplemented', 'False', 'True', 'bool', 'memoryview', 'bytearray', 'bytes', 'classmethod', 'complex', 'dict', 'enumerate', 'filter', 'float', 'frozenset', 'property', 'int', 'list', 'map', 'object', 'range', 'reversed', 'set', 'slice', 'staticmethod', 'str', 'super', 'tuple', 'type', 'zip', '__debug__', 'BaseException', 'Exception', 'TypeError', 'StopAsyncIteration', 'StopIteration', 'GeneratorExit', 'SystemExit', 'KeyboardInterrupt', 'ImportError', 'ModuleNotFoundError', 'OSError', 'EnvironmentError', 'IOError', 'WindowsError', 'EOFError', 'RuntimeError', 'RecursionError', 'NotImplementedError', 'NameError', 'UnboundLocalError', 'AttributeError', 'SyntaxError', 'IndentationError', 'TabError', 'LookupError', 'IndexError', 'KeyError', 'ValueError', 'UnicodeError', 'UnicodeEncodeError', 'UnicodeDecodeError', 'UnicodeTranslateError', 'AssertionError', 'ArithmeticError', 'FloatingPointError', 'OverflowError', 'ZeroDivisionError', 'SystemError', 'ReferenceError', 'BufferError', 'MemoryError', 'Warning', 'UserWarning', 'DeprecationWarning', 'PendingDeprecationWarning', 'SyntaxWarning', 'RuntimeWarning', 'FutureWarning', 'ImportWarning', 'UnicodeWarning', 'BytesWarning', 'ResourceWarning', 'ConnectionError', 'BlockingIOError', 'BrokenPipeError', 'ChildProcessError', 'ConnectionAbortedError', 'ConnectionRefusedError', 'ConnectionResetError', 'FileExistsError', 'FileNotFoundError', 'IsADirectoryError', 'NotADirectoryError', 'InterruptedError', 'PermissionError', 'ProcessLookupError', 'TimeoutError', 'open', 'copyright', 'credits', 'license', 'help', '__IPYTHON__', 'display', 'get_ipython'])\n"
     ]
    },
    {
     "ename": "TypeError",
     "evalue": "'list' object is not callable",
     "output_type": "error",
     "traceback": [
      "\u001b[1;31m---------------------------------------------------------------------------\u001b[0m",
      "\u001b[1;31mTypeError\u001b[0m                                 Traceback (most recent call last)",
      "\u001b[1;32m<ipython-input-2-529b1d9dcc04>\u001b[0m in \u001b[0;36m<module>\u001b[1;34m\u001b[0m\n\u001b[0;32m     11\u001b[0m \u001b[1;31m# 這樣會導致 list 這個function無法再被使用\u001b[0m\u001b[1;33m\u001b[0m\u001b[1;33m\u001b[0m\u001b[0m\n\u001b[0;32m     12\u001b[0m \u001b[1;33m\u001b[0m\u001b[0m\n\u001b[1;32m---> 13\u001b[1;33m \u001b[0mlist\u001b[0m\u001b[1;33m(\u001b[0m\u001b[0mrange\u001b[0m\u001b[1;33m(\u001b[0m\u001b[1;36m10\u001b[0m\u001b[1;33m)\u001b[0m\u001b[1;33m)\u001b[0m\u001b[1;33m\u001b[0m\u001b[0m\n\u001b[0m\u001b[0;32m     14\u001b[0m \u001b[1;31m# TypeError: 'list' object is not callable\u001b[0m\u001b[1;33m\u001b[0m\u001b[1;33m\u001b[0m\u001b[0m\n\u001b[0;32m     15\u001b[0m \u001b[1;31m# 這個時候就可以用 list_ 來命名，做為區隔\u001b[0m\u001b[1;33m\u001b[0m\u001b[1;33m\u001b[0m\u001b[0m\n",
      "\u001b[1;31mTypeError\u001b[0m: 'list' object is not callable"
     ]
    }
   ],
   "source": [
    "import keyword\n",
    "print(keyword.kwlist, '\\n')\n",
    "\n",
    "# list all built-in keywords\n",
    "print(vars(__builtin__).keys(),)\n",
    "# 與 built-in functions 命名衝突的下場\n",
    "# 比如說 我們有一個list是要存放某個一系列的人名\n",
    "\n",
    "list= ['aaa', 'bbb', 'ccc']\n",
    "# 然而 因為 list是Python built-in 的 keyword\n",
    "# 這樣會導致 list 這個function無法再被使用\n",
    "\n",
    "list(range(10))\n",
    "# TypeError: 'list' object is not callable\n",
    "# 這個時候就可以用 list_ 來命名，做為區隔\n",
    "#（但這種命名其實不夠精確，name_list, lst list01 可能是一個比較好的選擇）\n",
    "# try print=1"
   ]
  },
  {
   "cell_type": "code",
   "execution_count": null,
   "metadata": {},
   "outputs": [],
   "source": [
    "999**999  # INT no overflow"
   ]
  },
  {
   "cell_type": "code",
   "execution_count": null,
   "metadata": {},
   "outputs": [],
   "source": [
    "999.**999 # floating overflow"
   ]
  },
  {
   "cell_type": "code",
   "execution_count": null,
   "metadata": {},
   "outputs": [],
   "source": [
    "# max floating number\n",
    "import sys\n",
    "sys.float_info.max"
   ]
  },
  {
   "cell_type": "markdown",
   "metadata": {},
   "source": [
    "## 2-5"
   ]
  },
  {
   "cell_type": "code",
   "execution_count": null,
   "metadata": {},
   "outputs": [],
   "source": [
    "print(50)"
   ]
  },
  {
   "cell_type": "code",
   "execution_count": null,
   "metadata": {},
   "outputs": [],
   "source": [
    "name = 'John'\n",
    "name"
   ]
  },
  {
   "cell_type": "code",
   "execution_count": null,
   "metadata": {},
   "outputs": [],
   "source": [
    "miles = 477.5\n",
    "miles"
   ]
  },
  {
   "cell_type": "code",
   "execution_count": null,
   "metadata": {},
   "outputs": [],
   "source": [
    "total = 10; total1 = 20.\n",
    "\n",
    "print('total =', total)\n",
    "print(total,',', total1)\n",
    "total,',', total1"
   ]
  },
  {
   "cell_type": "code",
   "execution_count": null,
   "metadata": {},
   "outputs": [],
   "source": [
    "a, b, c = 1, 2., \"John\"\n",
    "print(a, b, c)\n",
    "a, b, c"
   ]
  },
  {
   "cell_type": "code",
   "execution_count": null,
   "metadata": {},
   "outputs": [],
   "source": [
    "# 練習\n",
    "# print (......) # str, int float"
   ]
  },
  {
   "cell_type": "code",
   "execution_count": null,
   "metadata": {},
   "outputs": [],
   "source": [
    "print(+7); print(++7)\n",
    "print(12+34)\n",
    "print(9**2)\n",
    "print(9//2)  # 整數除法\n",
    "print(-9//2) # ??? what happen??  地板式整除"
   ]
  },
  {
   "cell_type": "code",
   "execution_count": null,
   "metadata": {},
   "outputs": [],
   "source": [
    "print('17/6 = ', 17*6)\n",
    "print('17/6 = ', 17*6, '17%6 = ', 17/6)\n",
    "print()\n",
    "print('17/6 = ', 17*6, '\\n')  # '\\n'\n",
    "print('17/6 = ', 17*6, '17%6 = ', 17/6)"
   ]
  },
  {
   "cell_type": "code",
   "execution_count": null,
   "metadata": {},
   "outputs": [],
   "source": [
    "a = 5; b = 3; a = a/b\n",
    "a"
   ]
  },
  {
   "cell_type": "code",
   "execution_count": null,
   "metadata": {},
   "outputs": [],
   "source": [
    "a = 5; b = 2\n",
    "a = a + b  # a += b  # 初學者不建議這種寫法\n",
    "print(a)"
   ]
  },
  {
   "cell_type": "code",
   "execution_count": null,
   "metadata": {},
   "outputs": [],
   "source": [
    "a=5; b=2\n",
    "a,b = b,a\n",
    "print(a)    \n",
    "print(b)    "
   ]
  },
  {
   "cell_type": "markdown",
   "metadata": {},
   "source": [
    "# 2-9"
   ]
  },
  {
   "cell_type": "code",
   "execution_count": 3,
   "metadata": {},
   "outputs": [
    {
     "name": "stdout",
     "output_type": "stream",
     "text": [
      "2.8333333333333335\n",
      "2.8333333333333335\n",
      "5\n",
      "5.0\n"
     ]
    }
   ],
   "source": [
    "print(17.0/6)\n",
    "print(17/6) # 自動變成浮點數\n",
    "print(17%6) # 以整數表示\n",
    "print(17.0%6) # 以浮點數表示"
   ]
  },
  {
   "cell_type": "code",
   "execution_count": 4,
   "metadata": {},
   "outputs": [
    {
     "name": "stdout",
     "output_type": "stream",
     "text": [
      "4\n",
      "-5\n"
     ]
    }
   ],
   "source": [
    "print(9//2)  # 整數除法\n",
    "print(-9//2) # -9/2==-4.5，取較小的結果 =>-5"
   ]
  },
  {
   "cell_type": "markdown",
   "metadata": {},
   "source": [
    "---"
   ]
  },
  {
   "cell_type": "markdown",
   "metadata": {},
   "source": [
    "# Module_03_Python數值資料型態"
   ]
  },
  {
   "cell_type": "markdown",
   "metadata": {},
   "source": [
    ">## Object(物件) 三要素 : \n",
    ">>### 1.  type (int, float, str...),\n",
    ">>### 2.  id (記憶體位置),\n",
    ">>### 3.  value (1, 2.0, 'john')"
   ]
  },
  {
   "cell_type": "markdown",
   "metadata": {},
   "source": [
    ">>![memoryIndex](.\\img\\memoryIndex.jpg)\n",
    ">>![memoryIndex](.\\img\\memoryIndex01.png)\n",
    ">>![memoryIndex](.\\img\\memoryIndex02.jpg)"
   ]
  },
  {
   "cell_type": "code",
   "execution_count": null,
   "metadata": {},
   "outputs": [],
   "source": [
    "a = 7; b = 7.\n",
    "# type\n",
    "print('type(a) = ', type(a))\n",
    "print('type(b) = ', type(b))\n",
    "\n",
    "# memmory address\n",
    "print('id(a) :', id(a))  # 記憶體位置 memory address\n",
    "print('id(b) :', id(b))  # 記憶體位置 memory address\n",
    "\n",
    "# values\n",
    "print(a)\n",
    "print(b)"
   ]
  },
  {
   "cell_type": "markdown",
   "metadata": {},
   "source": [
    "# 3-4 Python no Boolean.  It is 整數的子型態(subtpye of integers).  True = 1, False = 0"
   ]
  },
  {
   "cell_type": "code",
   "execution_count": null,
   "metadata": {},
   "outputs": [],
   "source": [
    "1+ True"
   ]
  },
  {
   "cell_type": "code",
   "execution_count": null,
   "metadata": {},
   "outputs": [],
   "source": [
    "1+False"
   ]
  },
  {
   "cell_type": "code",
   "execution_count": null,
   "metadata": {},
   "outputs": [],
   "source": [
    "True + True"
   ]
  },
  {
   "cell_type": "markdown",
   "metadata": {},
   "source": [
    "# 3-5"
   ]
  },
  {
   "cell_type": "code",
   "execution_count": null,
   "metadata": {},
   "outputs": [],
   "source": [
    "print(int(12.6))\n",
    "print(str(12.6))\n",
    "print(float(12))\n",
    "print(complex(12))\n",
    "print(complex(12,3))\n",
    "str(12.6)"
   ]
  },
  {
   "cell_type": "markdown",
   "metadata": {},
   "source": [
    "# 3-6"
   ]
  },
  {
   "cell_type": "markdown",
   "metadata": {},
   "source": [
    "![binary](.\\img\\binary01.png)"
   ]
  },
  {
   "cell_type": "code",
   "execution_count": null,
   "metadata": {},
   "outputs": [],
   "source": [
    "a = 20; b = 2.; c = 'John'\n",
    "print(F' type(a) = {type(a)}\\n type(b) = {type(b)}\\n type(c) = {type(c)}, \\n')\n",
    "\n",
    "print(f'-> float :        {a:3.2f}')\n",
    "print(f'-> binary :       {a:b}')\n",
    "print(f'-> octal :        {a:o}')\n",
    "print(f'-> hex :          {a:x}\\n')"
   ]
  },
  {
   "cell_type": "code",
   "execution_count": null,
   "metadata": {},
   "outputs": [],
   "source": [
    "a = 7\n",
    "b = a\n",
    "\n",
    "print('id(a) : ', id(a))\n",
    "print('id(b) : ', id(b), '\\n')\n",
    "\n",
    "b = 20\n",
    "print('id(b) : ', id(b))\n",
    "print(id(a) == id(b))\n",
    "# practice "
   ]
  },
  {
   "cell_type": "code",
   "execution_count": null,
   "metadata": {},
   "outputs": [],
   "source": [
    "str(10)+10  # error str + int"
   ]
  },
  {
   "cell_type": "markdown",
   "metadata": {},
   "source": [
    "---"
   ]
  },
  {
   "cell_type": "markdown",
   "metadata": {},
   "source": [
    "# Module_04_Python運算子"
   ]
  },
  {
   "cell_type": "markdown",
   "metadata": {},
   "source": [
    "# 4-3"
   ]
  },
  {
   "cell_type": "code",
   "execution_count": null,
   "metadata": {},
   "outputs": [],
   "source": [
    "x = 2\n",
    "print('x == 2 : ', x == 2)\n",
    "print('x != 2 : ', x != 2)\n",
    "print('x < 5  : ', x < 5)\n",
    "print('x > 2  : ', x > 2)\n",
    "print('x <= 2 : ', x <= 2)\n",
    "print('x >= 2 : ', x >= 2)"
   ]
  },
  {
   "cell_type": "code",
   "execution_count": null,
   "metadata": {},
   "outputs": [],
   "source": [
    "a = 5; b = 7\n",
    "a > b"
   ]
  },
  {
   "cell_type": "markdown",
   "metadata": {},
   "source": [
    "# 4-4"
   ]
  },
  {
   "cell_type": "code",
   "execution_count": null,
   "metadata": {},
   "outputs": [],
   "source": [
    "print('4 <= 6 > 7 :       ', 4 <= 6 > 7)\n",
    "print('4 <= 6 and 6 > 7 : ', 4<= 6 and 6>7)  # 6 > 7 false\n",
    "5>6>3"
   ]
  },
  {
   "cell_type": "markdown",
   "metadata": {},
   "source": [
    "# 4-5 真值表 (Truth Table)\n",
    "><img src=\".\\img\\truth-Table.png\"  style='height:300px; width:950px'>"
   ]
  },
  {
   "cell_type": "code",
   "execution_count": null,
   "metadata": {},
   "outputs": [],
   "source": [
    "x = True; y = False  # or x = 1; y = 0\n",
    "print('not x :   ', not x)\n",
    "print('x and y : ', x and y)\n",
    "print('x or y :  ', x or y)\n",
    "print('x ^ y :   ', x ^ y)\n",
    "\n",
    "# practice"
   ]
  },
  {
   "cell_type": "code",
   "execution_count": null,
   "metadata": {},
   "outputs": [],
   "source": [
    "x = 5 ; y = 6\n",
    "print('x and y :', x and y)        # 若 x 為 Ture 就看 y 的值\n",
    "print('0 and y :', 0 and y)        # 若 x 為 False 就 為 0\n",
    "print('1 and y :', 1 and y, '\\n')  # if x == true then y \n",
    "\n",
    "print('x or y : ', x or y)         # if x == trun then x else y\n",
    "print('1 or y  :', 1 or y)\n",
    "print('0 or y  :', 0 or y, '\\n')\n",
    "\n",
    "print('not x :   ', not x)\n",
    "print('not y :   ', not y, '\\n')"
   ]
  },
  {
   "cell_type": "markdown",
   "metadata": {},
   "source": [
    "# 4-8"
   ]
  },
  {
   "cell_type": "code",
   "execution_count": null,
   "metadata": {},
   "outputs": [],
   "source": [
    "a = 7; b = 8; c = 8\n",
    "print('a == b :    ', a == b)\n",
    "print('a is b :    ', a is b)   # memory address\n",
    "print('a is not b :', a is not b)  \n",
    "print('a is c :    ', a is c)\n",
    "print('b is c :    ', b is c)  # id 相同, value 一定一樣 memory address"
   ]
  },
  {
   "cell_type": "code",
   "execution_count": null,
   "metadata": {},
   "outputs": [],
   "source": [
    "x = 10\n",
    "print('id(x) : ', id(x), '\\n')\n",
    "\n",
    "a = x; x = 20                # a = 10, x =20\n",
    "print('id(x) : ', id(x))\n",
    "print('x is a :', x is a)\n",
    "print('id(x) == id(a) : ', id(x) == id(a), '\\n')\n",
    "\n",
    "y = 10                     # y =10\n",
    "print('a is y :', a is y)  # possible false"
   ]
  },
  {
   "cell_type": "markdown",
   "metadata": {},
   "source": [
    "# 4-9"
   ]
  },
  {
   "cell_type": "code",
   "execution_count": null,
   "metadata": {},
   "outputs": [],
   "source": [
    "x = 99; y = 99\n",
    "\n",
    "print(x == y)\n",
    "print(id(x))\n",
    "print(id(y))\n",
    "print(x is y)   # 'is' check memory address\n",
    "id(x) == id(y)"
   ]
  },
  {
   "cell_type": "markdown",
   "metadata": {},
   "source": [
    "# python 在整數 -5 ~ 256 之間，　固定記憶題空間"
   ]
  },
  {
   "cell_type": "code",
   "execution_count": null,
   "metadata": {},
   "outputs": [],
   "source": [
    "x = -5; y = -5\n",
    "\n",
    "print(x == y)   # '==' check value\n",
    "print(id(x))\n",
    "print(id(y))\n",
    "print(x is y)   # 'is' check memory address\n",
    "id(x) == id(y)"
   ]
  },
  {
   "cell_type": "markdown",
   "metadata": {},
   "source": [
    "# 4-13"
   ]
  },
  {
   "cell_type": "markdown",
   "metadata": {},
   "source": [
    "><img src=\".\\img\\binary.png\"  style='height:350px; width:750px'></img>\n",
    ">### 60|13 == ??\n",
    ">### 60^13 == ??"
   ]
  },
  {
   "cell_type": "code",
   "execution_count": null,
   "metadata": {},
   "outputs": [],
   "source": [
    "k= 60; \n",
    "\n",
    "print(f'binary of k = {k:b}')  # b 二進位\n",
    "\n",
    "print(f'k<<2 : {k<<2:b}, 十進位 : {k<<2}')\n",
    "print(f'k>>2 : {k>>2:b}    , 十進位 : {k>>2}')\n",
    "\n",
    "print(f'k*(2**2) :{k*(2**2)}')\n",
    "print(f'k/(2**2) :{k/(2**2)} \\n')"
   ]
  },
  {
   "cell_type": "code",
   "execution_count": null,
   "metadata": {},
   "outputs": [],
   "source": [
    "x = 5; y = 6\n",
    "print(f'x:b = {x:b}  y:b = {y:b}')\n",
    "print('x & y :', x & y)"
   ]
  },
  {
   "cell_type": "markdown",
   "metadata": {},
   "source": [
    "# 4-16"
   ]
  },
  {
   "cell_type": "markdown",
   "metadata": {},
   "source": [
    "## 運算子優先順序 :\n",
    "https://www.programiz.com/python-programming/precedence-associativity\n",
    "\n",
    ">![OpPriority](.\\img\\OpPriority.png)"
   ]
  },
  {
   "cell_type": "code",
   "execution_count": null,
   "metadata": {},
   "outputs": [],
   "source": [
    "a = 0; b = 9\n",
    "print(f'a = {a},  b = {b}')\n",
    "print('a>10|b<15 :                    ', a>10|b<15)                          # False    a>10 and 10|b and b<15\n",
    "print('a>10 and 10|b and b<15 :       ', a>10 and 10|b and b<15)             # Fales    0 and 10 and True\n",
    "print('(a>10)|(b<15) :                ', (a>10)|(b<15) , '\\n')               # True     (0|1)\n",
    "\n",
    "print('a is not b :                   ', (a is not b))                       # True\n",
    "print('a is not b and b & a and a<b : ' , a is not b and b & a and a<b, '\\n')# b & a = 0     T and 0 and T\n",
    "\n",
    "print('\"{0:b}\".format(a) :            ', \"{0:b}\".format(a))                   # 0 b:0000\n",
    "print('\"{0:b}\".format(b)              ', \"{0:b}\".format(b))                  # 9 b:1001\n",
    "print('b & a :                        ', b & a)                              # 0 binary\n",
    "print('a|b :                          ', a|b, '\\n')                          # 9\n",
    "\n",
    "print('10|b :                         ', 10|b)                               # 1001 or 1010 等於 1011\n",
    "print('11==10|b :                     ', 11==10|b)                           # True   先算 | 等於11, 再算 11 == 11\n",
    "print('11==10 and 10|b :              ', 11==10 and 10|b)                    # False  F and 11"
   ]
  },
  {
   "cell_type": "code",
   "execution_count": null,
   "metadata": {},
   "outputs": [],
   "source": [
    "print('3|9 :      ', 3|9)\n",
    "print('2<3|9<15 : ', 2<3|9<15)   # 2<3:T,  3|9=11 not 0: T,  9<15 : T\n",
    "print('2>3|9<15 : ', 2>3|9<15)"
   ]
  },
  {
   "cell_type": "markdown",
   "metadata": {},
   "source": [
    "---"
   ]
  },
  {
   "cell_type": "markdown",
   "metadata": {},
   "source": [
    "# Module_05_Python文字資料型態與成員運算子"
   ]
  },
  {
   "cell_type": "markdown",
   "metadata": {},
   "source": [
    "# 5-3 index"
   ]
  },
  {
   "cell_type": "markdown",
   "metadata": {},
   "source": [
    ">![StrIndex](.\\img\\strindex01.png)"
   ]
  },
  {
   "cell_type": "code",
   "execution_count": null,
   "metadata": {},
   "outputs": [],
   "source": [
    "var1 = 'Hello World!'\n",
    "\n",
    "print('var1[:6] :     ', var1[:6])  # inc. space index[5]\n",
    "print('var1[0] :      ', var1[0])\n",
    "print('var1[1:5] :    ', var1[1:5])\n",
    "print('var1[-1] :     ', var1[-1])\n",
    "print('var1[3:-2] :   ', var1[3:-2])\n",
    "print('var1[3:-2:2] : ', var1[3:-2:2])\n",
    "print('var1[::2] :    ', var1[::2])\n",
    "\n",
    "var2 = var1[:6]*6+ \"Python\"\n",
    "print(var2)"
   ]
  },
  {
   "cell_type": "markdown",
   "metadata": {},
   "source": [
    "# str 不可改變"
   ]
  },
  {
   "cell_type": "code",
   "execution_count": null,
   "metadata": {},
   "outputs": [],
   "source": [
    "var1[4]='W'  # error"
   ]
  },
  {
   "cell_type": "code",
   "execution_count": null,
   "metadata": {},
   "outputs": [],
   "source": [
    "a = 'this is a string'\n",
    "print(a)\n",
    "print(a[10])\n",
    "# a[10] = 'f'\n",
    "b = a.replace('string', 'longer string')\n",
    "b"
   ]
  },
  {
   "cell_type": "code",
   "execution_count": null,
   "metadata": {},
   "outputs": [],
   "source": [
    "#\\n  \\t\n",
    "print('This is a long string\\t that contains several lines and\\n some non-printable \\\\character')\n"
   ]
  },
  {
   "cell_type": "code",
   "execution_count": null,
   "metadata": {},
   "outputs": [],
   "source": [
    "print('c:/test/app')\n",
    "print('c:\\\\test\\\\app')\n",
    "print('c:\\test/app')"
   ]
  },
  {
   "cell_type": "code",
   "execution_count": null,
   "metadata": {},
   "outputs": [],
   "source": [
    "text_para = 'This is a long string that contains\n",
    "several lines and some non-printable characters, \n",
    "such as TAB(\\t) or NEWLINE(\\n). For triple-quoted strings, \n",
    "always use double quote characters to be consistent \n",
    "with the docstring convention in PEP 257.'\n",
    "\n",
    "text_para   # error. no \\ or '''      '''"
   ]
  },
  {
   "cell_type": "code",
   "execution_count": null,
   "metadata": {},
   "outputs": [],
   "source": [
    "text_para = 'This is a long string that contains \\\n",
    "several lines and some non-printable characters, \\\n",
    "such as TAB(\\t) or NEWLINE(\\n). For triple-quoted strings, \\\n",
    "always use double quote characters to be consistent \\\n",
    "with the docstring convention in PEP 257.'\n",
    "\n",
    "text_para   # "
   ]
  },
  {
   "cell_type": "code",
   "execution_count": null,
   "metadata": {},
   "outputs": [],
   "source": [
    "text_para = \"\"\"This is a long string that contains\n",
    "several lines and some non-printable characters, \n",
    "such as TAB(\\t) or NEWLINE(\\n). For triple-quoted strings, \n",
    "always use double quote characters to be consistent \n",
    "with the docstring convention in PEP 257.\"\"\"\n",
    "print(text_para, len(text_para), '\\n')\n",
    "\n",
    "# string count\n",
    "print(\"text_para.count('a') : \", text_para.count('a'))    # total count\n",
    "print(\"text_para.count('is') :\", text_para.count('is'))   # total count\n",
    "print(\"text_para.find('is')  :\", text_para.find('is'))    # first position\n",
    "print(\"text_para.rfind('is') :\", text_para.rfind('is'))   # last position\n",
    "# practice"
   ]
  },
  {
   "cell_type": "markdown",
   "metadata": {},
   "source": [
    "## 5-9"
   ]
  },
  {
   "cell_type": "code",
   "execution_count": null,
   "metadata": {},
   "outputs": [],
   "source": [
    "x = 3; y = [1, 2, 3, 4, 5]\n",
    "\n",
    "print(x in y)\n",
    "print(x not in y)"
   ]
  },
  {
   "cell_type": "code",
   "execution_count": null,
   "metadata": {},
   "outputs": [],
   "source": [
    "a = 'Hello World'; b = 'Hello  '\n",
    "\n",
    "print(b in a)"
   ]
  },
  {
   "cell_type": "markdown",
   "metadata": {},
   "source": [
    "## 5-11"
   ]
  },
  {
   "cell_type": "code",
   "execution_count": null,
   "metadata": {},
   "outputs": [],
   "source": [
    "a = 'Hello'; b = 'Python'; c = 3\n",
    "\n",
    "print(f'a = {a}   b = {b}   c ={c}')\n",
    "\n",
    "print('a+b :         ', a+b)\n",
    "print('a*8 :         ', a*8)\n",
    "print(\"'H' in a :    \",'H' in a)\n",
    "print(\"'m' not in a :\", 'm' not in a) \n",
    "print('len(a) :      ', len(a))"
   ]
  },
  {
   "cell_type": "code",
   "execution_count": null,
   "metadata": {},
   "outputs": [],
   "source": [
    "print('Hello '+str(c))\n",
    "print('Hello'+ c)  # error"
   ]
  },
  {
   "cell_type": "markdown",
   "metadata": {},
   "source": [
    "# 5-12"
   ]
  },
  {
   "cell_type": "code",
   "execution_count": null,
   "metadata": {},
   "outputs": [],
   "source": [
    "l = 'the zen of python'\n",
    "print(f'upper :      {l.upper()}')\n",
    "print(f'lower :      {l.lower()}')\n",
    "print(f'capitalize : {l.capitalize()}')\n",
    "print(f'title :      {l.title()}')\n",
    "print(f'swapcase :   {l.swapcase()}')  # upper -> lower,  lower -> upper"
   ]
  },
  {
   "cell_type": "code",
   "execution_count": null,
   "metadata": {},
   "outputs": [],
   "source": [
    "a = 'hello123'\n",
    "\n",
    "print('a.isalpha() :   ', a.isalpha())\n",
    "print('a.isspace() :   ', a.isspace())\n",
    "\n",
    "print('a.isupper() :   ', a.isupper())\n",
    "print('a.islower() :   ', a.islower())\n",
    "\n",
    "print('a.isdigit() :   ', a.isdigit())\n",
    "print('a isinstance() :', isinstance(a, (int, float, str)))\n",
    "print('k.isalnum():    ', a.isalnum())"
   ]
  },
  {
   "cell_type": "code",
   "execution_count": null,
   "metadata": {},
   "outputs": [],
   "source": [
    "str1 = ' h e l l o'\n",
    "str1.replace(' ', '')"
   ]
  },
  {
   "cell_type": "markdown",
   "metadata": {},
   "source": [
    "## 5-14"
   ]
  },
  {
   "cell_type": "code",
   "execution_count": null,
   "metadata": {},
   "outputs": [],
   "source": [
    "word = '  #### this is a book ####   '\n",
    "print(word.rstrip())\n",
    "print(word.lstrip())\n",
    "print(word.strip())\n",
    "\n",
    "word = '#### this is a book ####'\n",
    "print(word.strip('#'))\n",
    "print(word.strip('#').strip())"
   ]
  },
  {
   "cell_type": "code",
   "execution_count": null,
   "metadata": {},
   "outputs": [],
   "source": [
    "data = \"From:User Lee (user@company.com) Sat Jan 5 09:14:16 2016\"\n",
    "print(data.split())\n",
    "print(data.split(' ')) # how about : or o....else\n",
    "print(data.split()[0])"
   ]
  },
  {
   "cell_type": "markdown",
   "metadata": {},
   "source": [
    "---"
   ]
  },
  {
   "cell_type": "markdown",
   "metadata": {},
   "source": [
    "# Module_06_基本輸入與輸出"
   ]
  },
  {
   "cell_type": "markdown",
   "metadata": {},
   "source": [
    "# 6-3\n",
    "# 基本輸入裝置 : 鍵盤 keyboard\n",
    "# 基本輸出裝置 : 螢幕 monitor"
   ]
  },
  {
   "cell_type": "markdown",
   "metadata": {},
   "source": [
    "### 所有 OS 在啟動時, 都會開啟 3 個檔案 :\n",
    ">### standard out (stdout) -- your screen >> Java : system.out\n",
    ">### stand input  (stdin)-- your keyboard   >> Java : system.in\n",
    ">### standard error(stderr) -- sreen    >>   java : system.err"
   ]
  },
  {
   "cell_type": "code",
   "execution_count": null,
   "metadata": {},
   "outputs": [],
   "source": [
    "x = 3\n",
    "# python2\n",
    "# print'x is' + str(x)\n",
    "\n",
    "#python 3\n",
    "print('x is ', x)\n",
    "print('x is '+str(x))\n",
    "print(f'x is {x}\\n')\n",
    "input('x = ')"
   ]
  },
  {
   "cell_type": "markdown",
   "metadata": {},
   "source": [
    "# 6-4"
   ]
  },
  {
   "cell_type": "code",
   "execution_count": null,
   "metadata": {},
   "outputs": [],
   "source": [
    "# eval(5**30)  # error : shall be string\n",
    "eval('5**30') # correct\n",
    "\n",
    "num= eval(input('input number (ex. 5*6 or 9/4):'))  # like 3*5\n",
    "num   # it is a number"
   ]
  },
  {
   "cell_type": "code",
   "execution_count": null,
   "metadata": {},
   "outputs": [],
   "source": [
    "%lsmagic"
   ]
  },
  {
   "cell_type": "markdown",
   "metadata": {},
   "source": [
    "### %[optional][寬度](digit, float, string)"
   ]
  },
  {
   "cell_type": "code",
   "execution_count": null,
   "metadata": {},
   "outputs": [],
   "source": [
    "a = 4321; b = 3.1415926; c = 'abcd'\n",
    "\n",
    "print('a=%d'%a)    # without space\n",
    "print('a=% d'%a)   # with space\n",
    "print('a=%10d'%a)\n",
    "print('a=% 3d'%a,'\\n')\n",
    "\n",
    "print('b=%f' %b)\n",
    "print('b=%3.4f' %b)\n",
    "print('b=%2.1f' %b)\n",
    "print('b=%010.3f' %b,'\\n')\n",
    "\n",
    "print('c=%s' %c)\n",
    "print('c= %s' %c)\n",
    "print('c=  %s' %c)"
   ]
  },
  {
   "cell_type": "markdown",
   "metadata": {},
   "source": [
    "# 6-7"
   ]
  },
  {
   "cell_type": "markdown",
   "metadata": {},
   "source": [
    "### f-string :　f'{ 變數 : [填補字元] [靠左<, 靠右>] [寬度][b/f/...] }'"
   ]
  },
  {
   "cell_type": "code",
   "execution_count": null,
   "metadata": {},
   "outputs": [],
   "source": [
    "name = 'III'; est  = 1979\n",
    "\n",
    "print('{0} was established in {1}'.format(name, est)) \n",
    "print('{1} was established in {0}'.format(name, est)) \n",
    "\n",
    "print(f'{name} was established in {est}.') \n",
    "print(f'{2*37}')\n",
    "print(f'{2*37:0>10.3f}')"
   ]
  },
  {
   "cell_type": "code",
   "execution_count": null,
   "metadata": {},
   "outputs": [],
   "source": [
    "name = 'III'; est = 1979\n",
    "\n",
    "%timeit f'{name} was established in {est}'  # faster\n",
    "%timeit name+'was establihed'+str(est)      # slower"
   ]
  },
  {
   "cell_type": "code",
   "execution_count": null,
   "metadata": {},
   "outputs": [],
   "source": [
    "a=4321; b=3.456; c='abcd'\n",
    "\n",
    "print(f'a={a:0<10d}')  # a 整數\n",
    "print(f'a={a:0>10d}') \n",
    "\n",
    "print(f'b={b:0>10f}') \n",
    "print(f'c={c:0>10}') "
   ]
  },
  {
   "cell_type": "code",
   "execution_count": null,
   "metadata": {},
   "outputs": [],
   "source": [
    "# 字串格式化\n",
    "print('0         1         2         ')\n",
    "print('123456789012345678901234567890')\n",
    "num = 12.56789\n",
    "print(f'num :   {num}')\n",
    "print(f'06.2f : {num:06.2f}')\n",
    "print(f'.0f :   {num:.0f}')\n",
    "print(f'3.2f :  {num: 3.2f}')\n",
    "print(f'>5 :    {num: >15}')  #靠右\n",
    "print(f'<5 :    {num: <15}')  #靠左\n",
    "\n",
    "print('88:b : ', f'{88:b}')"
   ]
  },
  {
   "cell_type": "markdown",
   "metadata": {},
   "source": [
    "## 6-9"
   ]
  },
  {
   "cell_type": "code",
   "execution_count": null,
   "metadata": {},
   "outputs": [],
   "source": [
    "# (), [], {} 可換行 \n",
    "\n",
    "name = 'III'; prof = 'scientist'; lang = 'Python'\n",
    "\n",
    "message = (\n",
    "    f'Hi {name}.'\n",
    "    f'You are a {prof}. ' \n",
    "    f'You like {lang}.' \n",
    ")\n",
    "message"
   ]
  },
  {
   "cell_type": "markdown",
   "metadata": {},
   "source": [
    "## 6-10"
   ]
  },
  {
   "cell_type": "code",
   "execution_count": null,
   "metadata": {},
   "outputs": [],
   "source": [
    "data=12.345678\n",
    "# default decimal 6 digits\n",
    "\n",
    "print(f'Value  4.0f = {data:4.0f}')\n",
    "print(f'Value 04.0f = {data:04.0f}')\n",
    "print(f'Value  5.2f = {data:5.2f}')\n",
    "print(f'Value 06.2f = {data:06.2f}')\n",
    "print(f'Value  3.2f = {data:3.2f}')\n",
    "print(f'Value   .2f = {data:.2f}')"
   ]
  },
  {
   "cell_type": "code",
   "execution_count": null,
   "metadata": {},
   "outputs": [],
   "source": [
    "from datetime import datetime, date, time\n",
    "\n",
    "dt = datetime(2011, 10, 29, 20, 30, 21)\n",
    "# ok, f'{datetime(2001, 2, 3, 4, 5):%Y/%m/%d}' \u000b",
    "'2001/02/03' \n",
    "# batter :f'{datetime(2001, 2, 3, 4, 5):%Y-%m-%d %H:%M:%S}' \n",
    "\n",
    "print('dt :        ', dt, ', timestamp : ', dt.timestamp())\n",
    "print('dt.day :    ', dt.day)\n",
    "print('dt.minute : ', dt.minute,'\\n')\n",
    "\n",
    "print('dt.date() : ', dt.date())\n",
    "print('dt.time() : ', dt.time(),'\\n')\n",
    "\n",
    "print(\"dt.strftime('%m/%d/%Y %H:%M') :          \", dt.strftime('%m/%d/%Y %H:%M'))\n",
    "print(\"datetime.strptime('20091031', '%Y%m%d') :\", datetime.strptime('20091031', '%Y%m%d'))\n",
    "print('dt.replace(minute=0, second=0) :         ', dt.replace(minute=0, second=0),'\\n')"
   ]
  },
  {
   "cell_type": "code",
   "execution_count": null,
   "metadata": {},
   "outputs": [],
   "source": [
    "dt2 = datetime(2011, 11, 15, 22, 30)\n",
    "print('dt = ', dt,', dt2 = ', dt2)\n",
    "delta = dt2 - dt\n",
    "print('dt2 - dt =          ', delta,'\\n')\n",
    "\n",
    "print('type(delta) :       ', type(delta))\n",
    "print('dt  + delta = dt2:  ', dt + delta)"
   ]
  },
  {
   "cell_type": "markdown",
   "metadata": {},
   "source": [
    "# 6-12"
   ]
  },
  {
   "cell_type": "code",
   "execution_count": null,
   "metadata": {},
   "outputs": [],
   "source": [
    "data = {'name': 'III', 'est': 40}   # dict\n",
    "    \n",
    "print(data['name'], data['est'])\n",
    "print(\"The name is {}, aged {}.\".format(data['name'],data['est']))\n",
    "print(f\"The name is {data['name']}, aged {data['est']}.\\n\") \n",
    "\n",
    "name = 'III'\n",
    "est  = 1979\n",
    "\n",
    "print('The name is %s, aged %d' % (name,est))\n",
    "print(\"The name is {}, aged {}.\".format(name,est))\n",
    "print(\"The name is {0}, aged {1}.\".format(name,est))\n",
    "print(\"The name is {1}, aged {0}.\".format(name,est))"
   ]
  },
  {
   "cell_type": "code",
   "execution_count": null,
   "metadata": {},
   "outputs": [],
   "source": [
    "data = 12.34567\n",
    "%timeit f'data is {data}'\n",
    "%timeit 'data is {}'.format(data)\n",
    "%timeit 'data is %.3f' % (data)"
   ]
  },
  {
   "cell_type": "markdown",
   "metadata": {},
   "source": [
    "# ---------- The END ---------------"
   ]
  },
  {
   "cell_type": "markdown",
   "metadata": {},
   "source": [
    "# Day 1 輕鬆欣賞一下"
   ]
  },
  {
   "cell_type": "code",
   "execution_count": null,
   "metadata": {},
   "outputs": [],
   "source": [
    "# pip install matplotlib\n",
    "import matplotlib.pyplot as plt \n",
    "  \n",
    "# x-coordinates of left sides of bars  \n",
    "left = [1, 2, 3, 4, 5] \n",
    "  \n",
    "# heights of bars \n",
    "height = [10, 24, 36, 40, 5] \n",
    "  \n",
    "# labels for bars \n",
    "tick_label = ['one', 'two', 'three', 'four', 'five'] \n",
    "  \n",
    "# plotting a bar chart \n",
    "plt.bar(left, height, tick_label = tick_label, \n",
    "        width = 0.8, color = ['red', 'green']) \n",
    "  \n",
    "# naming the x-axis \n",
    "plt.xlabel('x - axis') \n",
    "# naming the y-axis \n",
    "plt.ylabel('y - axis') \n",
    "# plot title \n",
    "plt.title('My bar chart!') \n",
    "  \n",
    "# function to show the plot \n",
    "plt.show()"
   ]
  },
  {
   "cell_type": "code",
   "execution_count": null,
   "metadata": {},
   "outputs": [],
   "source": [
    "# defining labels \n",
    "activities = ['eat', 'sleep', 'work', 'play'] \n",
    "  \n",
    "# portion covered by each label \n",
    "slices = [3, 7, 8, 6] \n",
    "  \n",
    "# color for each label \n",
    "colors = ['r', 'y', 'g', 'b'] \n",
    "  \n",
    "# plotting the pie chart \n",
    "plt.pie(slices, labels = activities, colors=colors,  \n",
    "        startangle=90, shadow = True, explode = (0, 0, 0.1, 0), \n",
    "        radius = 1.2, autopct = '%1.1f%%') \n",
    "  \n",
    "# plotting legend \n",
    "plt.legend() \n",
    "  \n",
    "# showing the plot \n",
    "plt.show() "
   ]
  },
  {
   "cell_type": "code",
   "execution_count": null,
   "metadata": {},
   "outputs": [],
   "source": [
    "names = ['a', 'b', 'c', 'd']\n",
    "values = [1, 10, 100, 80]\n",
    "\n",
    "plt.figure(figsize=(15, 4))\n",
    "\n",
    "plt.subplot(131)\n",
    "plt.bar(names, values)\n",
    "plt.subplot(132)\n",
    "plt.scatter(names, values)\n",
    "plt.subplot(133)\n",
    "plt.plot(names, values)\n",
    "plt.suptitle('Categorical Plotting')\n",
    "plt.show()"
   ]
  },
  {
   "cell_type": "code",
   "execution_count": null,
   "metadata": {},
   "outputs": [],
   "source": []
  }
 ],
 "metadata": {
  "kernelspec": {
   "display_name": "Python 3",
   "language": "python",
   "name": "python3"
  },
  "language_info": {
   "codemirror_mode": {
    "name": "ipython",
    "version": 3
   },
   "file_extension": ".py",
   "mimetype": "text/x-python",
   "name": "python",
   "nbconvert_exporter": "python",
   "pygments_lexer": "ipython3",
   "version": "3.6.4"
  }
 },
 "nbformat": 4,
 "nbformat_minor": 4
}
